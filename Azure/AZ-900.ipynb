{
 "metadata": {
  "language_info": {
   "codemirror_mode": {
    "name": "ipython",
    "version": 3
   },
   "file_extension": ".py",
   "mimetype": "text/x-python",
   "name": "python",
   "nbconvert_exporter": "python",
   "pygments_lexer": "ipython3",
   "version": "3.7.1"
  },
  "orig_nbformat": 2,
  "kernelspec": {
   "name": "python371jvsc74a57bd07dbb69f2fe16ee411a1d001fc5a919d66021ed1f9a71b5ac22cd67380668a935",
   "display_name": "Python 3.7.1 64-bit"
  }
 },
 "nbformat": 4,
 "nbformat_minor": 2,
 "cells": [
  {
   "source": [
    "# AZ-900 - MICROSOFT AZURE FUNDAMENTALS\n",
    "---"
   ],
   "cell_type": "markdown",
   "metadata": {}
  },
  {
   "source": [
    "# A) EXAM GOAL: Describe Cloud Concepts (20-25%)\n",
    "---"
   ],
   "cell_type": "markdown",
   "metadata": {}
  },
  {
   "source": [
    "# A1) Identify the Benefits and Considerations of Using Cloud Services\n",
    "---\n",
    "\n",
    "Identify the benefits and considerations of using cloud services:\n",
    "\n",
    " * Identify the benefits of cloud computing, such as High Availability, Scalability, Elasticity, Agility, and Disaster Recovery.\n",
    " * Identify the differences between Capital Expenditure (CapEx) and Operational Expenditure (OpEx).\n",
    " * Describe the consumption-based model."
   ],
   "cell_type": "markdown",
   "metadata": {}
  },
  {
   "source": [
    "# Benefits of Cloud Computing\n",
    "---\n",
    "\n",
    "## High Availability (HA)\n",
    "\n",
    "High Availability is the ability of a system to respond to users for long periods of time. It is expressed as a percentage, e.g., $99.99$% (four minutes of downtime per month).\n",
    "\n",
    "What High Availability is _not_:\n",
    "\n",
    " * Backup or Disaster Recovery\n",
    " * High Performance\n",
    " * Load Balancing\n",
    "\n",
    "## Reliability\n",
    "\n",
    "Depending on the service-level agreement chosen, cloud-based applications can provide a continuous user experience with no apparent downtime even when things go wrong.\n",
    "\n",
    "## Scalability\n",
    "\n",
    "Scalability, or Scaling Up, is the ability of a system to handle growth of users or work by increasing the workload on the existing resources.\n",
    "\n",
    "Applications in the cloud can be scaled in two ways, while taking advantage of autoscaling:\n",
    "\n",
    " * Vertically: Computing capacity can be increased by adding RAM or CPUs to a virtual machine.\n",
    " * Horizontally: Computing capacity can be increased by adding instances of a resource, such as adding more virtual machines to a configuration.\n",
    "\n",
    "## Elasticity\n",
    "\n",
    "Elasticity is the ability of a system to automatically grow (Scaling Out) and shrink (Scaling In) based on application demand by increasing the workload on additional resources.\n",
    "\n",
    "## Agility\n",
    "\n",
    "Agility is the ability of a system to change rapidly based on changes to market or environment, for example, being able to provision or decommission cloud services in minutes using self-service.\n",
    "\n",
    "## Geo-distribution\n",
    "\n",
    "Applications and data can be deployed to regional datacenters around the globe, so that customers always have the best performance in their region.\n",
    "\n",
    "## Disaster Recovery\n",
    "\n",
    "Disaster recovery is the ability of a system to recover from failure within a period of time, and how much data is lost, for example, by supporting backups of virtual machines or SQL databases."
   ],
   "cell_type": "markdown",
   "metadata": {}
  },
  {
   "source": [
    "# CapEx vs Opex\n",
    "---\n",
    "\n",
    "## Capital Expenditure (CapEx)\n",
    "\n",
    "CapEx is money invested in assets (like computers) that return investment over time. CapEx is usually associated with on-premises infrastructure. In the CapEx model, companies pay for their infrastructure upfront costs. These costs can include servers, storage, networking, backup, personnel, etc.\n",
    "\n",
    "CapEx provides predictable fixed costs, but the value invested decreases over time. Also, when a project is over, there may be wasted resources.\n",
    "\n",
    "## Operational Expenditure (OpEx)\n",
    "\n",
    "OpEx is money spent every day on operating expenses. As an on-going cost, Opex is associated with cloud services, usually assuming the form of a subscription, where customers pay for the product or service as they use it.\n",
    "\n",
    "Opex offers several benefits, for example, customers can test the cloud services before committing (aka \"try-before-buy\"). Another benefit is to only pay for less or more resources when and for how long those are needed. As cloud services offer the possibility to delete a resource when a task is done, Opex is great for agile environmnets where demand is unpredictable."
   ],
   "cell_type": "markdown",
   "metadata": {}
  },
  {
   "source": [
    "# Consumption-Based Model\n",
    "---\n",
    "\n",
    "Consumption-Based model is when the resources are paid per minute, hour, or execution. It is the model used by cloud service providers.\n",
    "\n",
    "When using the consumption-based model:\n",
    "\n",
    " * Customers only pay for what they consume.\n",
    " * There are no upfront costs.\n",
    " * Stop paying for services no longer required."
   ],
   "cell_type": "markdown",
   "metadata": {}
  },
  {
   "source": [
    "# A2) Describe The Diferences Between Categories of Cloud Services\n",
    "---\n",
    "\n",
    " * Describe the Shared Responsibility Model.\n",
    " * Describe Infrastructure-as-a-Service (IaaS).\n",
    " * Describe Platform-as-a-Service (PaaS).\n",
    " * Describe Serverless Computing.\n",
    " * Describe Software-as-a-Service (SaaS).\n",
    " * Identify a service type based on a use case."
   ],
   "cell_type": "markdown",
   "metadata": {}
  },
  {
   "source": [
    "# Categories of Cloud Services\n",
    "---\n",
    "\n",
    "![IaaS, PaaS and SaaS](images\\iaas_paas_saas.png \"IaaS, PaaS and SaaS\")\n",
    "\n",
    "## Infrastructure-as-a-Service (IaaS)\n",
    "\n",
    "Infrastructure-as-a-Service includes virtual machines, networking, load balancers, and firewalls, etc., generally everything that has a physical representation in the network and can be virtualized and offered as a service by the cloud provider.\n",
    "\n",
    "This cloud service model is the closest to managing physical servers. A cloud provider keeps the hardware up to date, but operating system maintenance and network configuration is left to the cloud tenant. For example, Azure virtual machines are fully operational virtual compute devices running in Microsoft's datacenters. An advantage of this cloud service model is rapid deployment of new compute devices. Setting up a new virtual machine is considerably faster than procuring, installing, and configuring a physical server.\n",
    "\n",
    "## Platform-as-a-Service (PaaS)\n",
    "\n",
    "Platform-as-a-Service includes pre-built services that can be executed remotely, without the customers having access to the underlying hardware.\n",
    "\n",
    "This cloud service model is a managed hosting environment. The cloud provider manages the virtual machines and networking resources, and the cloud tenant deploys their applications into the managed hosting environment. For example, Azure App Services provides a managed hosting environment where developers can upload their web applications without having to deal with the physical hardware and software requirements.\n",
    "\n",
    "## Software-as-a-Service (SaaS)\n",
    "\n",
    "Software-as-a-Service is software installed in a cloud server that the customer can access remotely using a browser. When using SaaS, the customer is only allowed to access and change the software configuration, he is not allowed to upload new code or change the existing.\n",
    "\n",
    "In this cloud service model, the cloud provider manages all aspects of the application environment, such as virtual machines, networking resources, data storage, and applications. The cloud tenant only needs to provide their data to the application managed by the cloud provider. For example, Office 365 provides a fully working version of Office that runs in the cloud. All that you need to do is create your content, and Office 365 takes care of everything else.\n",
    "\n",
    "## Shared Responsibility Model\n",
    "\n",
    "In a shared responsiility model, the workload responsibilities vary depending on whether the workload is hosted on Software as a Service (SaaS), Platform as a Service (PaaS), Infrastructure as a Service (IaaS), or in an on-premises datacenter.\n",
    "\n",
    "![Shared Responsibility Model](images\\shared_responsibility_model.png \"Shared Responsibility Model\")\n",
    "\n",
    "## Serverless Model\n",
    "\n",
    "Serverless Model refers to code that runs in stateless compute containers that are event-triggered, ephemeral (may only last for one invocation), and are fully managed by the cloud provider. When using the serverless model, the customer does not have to worry about choosing the best plan, or scaling costs. Also, the customer will not pay anything when he is not using the service.\n",
    "\n",
    "![Serverless Model](images\\serverless.png \"Serverless Model\")\n",
    "\n",
    "Azure serverless offers include:\n",
    "\n",
    " * Compute: Azure Functions.\n",
    " * Compute: Serverless Kubernetes (Virtual Nodes w/ ACI).\n",
    " * Database: Azure SQL Database Serverless.\n",
    " * Database: Cosmos DB Serverless."
   ],
   "cell_type": "markdown",
   "metadata": {}
  },
  {
   "source": [
    "# Cloud Types\n",
    "---\n",
    "\n",
    "![Cloud Types](images\\cloud_types.png \"Cloud Types\")\n",
    "\n",
    "## Private Cloud\n",
    "\n",
    "Computing resources are used exclusively by users from one business or organization. A private cloud can be physically located at your organization's on-site datacenter. It also can be hosted by a third-party service provider.\n",
    "\n",
    "The private cloud looks and acts like a cloud, except customer owns or leases or has exclusive access to the hardware.\n",
    "\n",
    "## Public Cloud\n",
    "\n",
    "Services are offered over the public internet and available to anyone who wants to purchase them. Cloud resources like servers and storage are owned and operated by a third-party cloud service provider and delivered over the internet.\n",
    "\n",
    "In Azure public cloud, Microsoft is the cloud provider and owns all the cloud hardware, which runs in Microsoft's network and infrastructure.\n",
    "\n",
    "## Hybrid Cloud\n",
    "\n",
    "This computing environment combines a public cloud and a private cloud by allowing data and applications to be shared between them.\n",
    "\n",
    "An hybrid cloud is a combination of public and private clouds, allowing to scale a private infrastructure to the cloud."
   ],
   "cell_type": "markdown",
   "metadata": {}
  },
  {
   "source": [
    "# B) EXAM GOAL: Describe Core Azure Services (15-20%)\n",
    "---"
   ],
   "cell_type": "markdown",
   "metadata": {}
  },
  {
   "source": [
    "# B1) Describe The Core Azure Architectural Components\n",
    "---\n",
    "\n",
    " * Describe the benefits and usage of Regions and Region Pairs.\n",
    " * Describe the benefits and usage of Availability Zones.\n",
    " * Describe the benefits and usage of Resource Groups.\n",
    " * Describe the benefits and usage of Subscriptions.\n",
    " * Describe the benefits and usage of Management Groups.\n",
    " * Describe the benefits and usage of Azure Resource Manager.\n",
    " * Explain Azure resources."
   ],
   "cell_type": "markdown",
   "metadata": {}
  },
  {
   "source": [
    "# Core Azure Architectural Components\n",
    "---\n",
    "\n",
    "## Region\n",
    "\n",
    "Azure regions are the geographical locations where the resources exist. There are currently over 60 regions. Not all the regions are accessible by everyone.\n",
    "\n",
    "![Azure Regions](images\\regions.png \"Azure regions\")\n",
    "\n",
    "## Region Pair\n",
    "\n",
    "Each region has one other region, which is treated as its pair. To comply with data storage laws, this other region is almost always in the same geography. The data connection between region pairs is the highest speed available. Azure software rollouts are deployed to one region of a pair and the other is not touched. If multiple regions go down, one region of each pair is treated as a priority.\n",
    "\n",
    "![Region Pair](images\\region_pair.png \"Region Pair\")\n",
    "\n",
    "## Availability Zone\n",
    "\n",
    "Azure Availability Zones are physically and logically separated datacenters with their own independent power source, network, and cooling. Connected with an extremely low-latency network, they become a building block to delivering high availability applications. Availability Zones ensure that if there's an event impacting a datacenter site, for example, if someone cuts the power, or there are issues with cooling, customers' data will be protected.\n",
    "\n",
    "Not all regions have Availability Zones. In the regions where Availability Zones exist, there are 3 availability zones per region. Availability Zones is an optional service.\n",
    "\n",
    "![Azure Availability Zones](images\\availability_zone.png \"Azure availability zones\")\n",
    "\n",
    "## Availability Set\n",
    "\n",
    "An Availability Set ensures that a virtual machine is online during maintenance or failure. When the virtual machine is added to an availability set, the virtual machine is assigned to an update domain and a fault domain. The reason of assigning the VM to an update domain is because only one update domain is updated at a time. The fault domains provide physical isolation hardware in the data center.\n",
    "\n",
    "![Azure Availability Sets](images\\availability_set.png \"Azure availability sets\")\n",
    "\n",
    "## Resource Group\n",
    "\n",
    "An Azure resource group is a logical container where Azure resources are created. That container groups a collection of resources to enable easy monitoring, automatic provisioning, etc. A resource group created in a specific region can contain the resources created in the other regions.\n",
    "\n",
    "## Subscription\n",
    "\n",
    "An Azure subscription is a billing unit. A user can have access to one or more subscriptions, with different roles. Whenever a resource is created, the user needs to select the subscription that will be charged by the consumption of that resource. It is ok, and recommended, that users organize sets of resources that need to be charged separetely into different subscriptions, even when the different subscriptions are using the same credit card.\n",
    "\n",
    "A subscription also provides an access control boundary. When using subscriptions to separate consumption from different organizational departments, those departments will only be able to access the resources that exist within their respective subscriptions. \n",
    "\n",
    "![Azure Subscriptions](images\\subscriptions.png \"Azure subscriptions\")\n",
    "\n",
    "## Management Group\n",
    "\n",
    "Azure management groups provide a level of scope above subscriptions. Subscriptions are organized into containers called \"management groups\" and users can apply their governance conditions to those management groups. All subscriptions within a management group automatically inherit the conditions applied to the management group. Management groups give users  enterprise-grade management at a large scale no matter what type of subscriptions they might have. All subscriptions within a single management group must trust the same Azure Active Directory tenant.\n",
    "\n",
    "![Azure Management Groups](images\\management_group.png \"Azure management groups\")"
   ],
   "cell_type": "markdown",
   "metadata": {}
  },
  {
   "source": [
    "# Azure Resources and Azure Resource Manager\n",
    "---\n",
    "\n",
    "## Resource\n",
    "\n",
    "An Azure resource is a manageable item that is available through Azure. Virtual machines, storage accounts, web apps, databases, and virtual networks are examples of resources. Resource groups, subscriptions, management groups, and tags are also examples of resources.\n",
    "\n",
    "## Resource Group\n",
    "\n",
    "An Azure Resource Group is a container that holds related resources for an Azure solution. The resource group includes those resources that users want to manage as a group. Users decide which resources belong in a resource group based on what makes the most sense for their organizations.\n",
    "\n",
    "## Resource Manager\n",
    "\n",
    "Azure Resource Manager is the deployment and management service for Azure. It provides a management layer that enables users to create, update, and delete resources in their Azure accounts. When a user sends a request from any of the Azure tools, APIs, or SDKs, Resource Manager receives the request. It authenticates and authorizes the request. Resource Manager sends the request to the Azure service, which takes the requested action. To ensure consistent results and capabilities in all the different tools, all requests are handled through the same API.\n",
    "\n",
    "![Azure resource Manager](images\\resource_manager.png \"Azure resource manager\")"
   ],
   "cell_type": "markdown",
   "metadata": {}
  },
  {
   "source": [
    "# B2) Describe The Core Resources Available In Azure\n",
    "---\n",
    "\n",
    " * Describe the benefits and usage of Virtual Machines, Azure App Services, Azure Container Instances (ACI), Azure  Kubernetes Service (AKS), and Windows Virtual Desktop.\n",
    " * Describe the benefits and usage of Virtual Networks, VPN Gateway, Virtual Network peering, and ExpressRoute.\n",
    " * Describe the benefits and usage of Container (Blob) Storage, Disk Storage, File Storage, and storage tiers.\n",
    " * Describe the benefits and usage of Cosmos DB, Azure SQL Database, Azure Database for MySQL, Azure Database for PostgreSQL, and SQL Managed Instance.\n",
    " * Describe the benefits and usage of Azure Marketplace."
   ],
   "cell_type": "markdown",
   "metadata": {}
  },
  {
   "source": [
    "# Azure Compute Services\n",
    "---\n",
    "\n",
    "Azure Compute Services provide the infrastructure required to execute code. Compute services offer capacity in the cloud and scale on demand. Azure Compute Services are composed of:\n",
    "\n",
    " * Virtual Machines\n",
    " * App Service\n",
    " * Azure Container Instances (ACI)\n",
    " * Azure Kubernetes Service (AKS)\n",
    " * Windows Virtual Desktop (WVD)"
   ],
   "cell_type": "markdown",
   "metadata": {}
  },
  {
   "source": [
    "## Virtual Machines (VMs)\n",
    "\n",
    "A virtual machine is a computer file, typically called an image, that behaves like an actual computer. In other words, creating a computer within a computer. It runs in a window, much like any other program, giving the end user the same experience on a virtual machine as they would have on the host operating system itself. The virtual machine is sandboxed from the rest of the system, meaning that the software inside a virtual machine can’t escape or tamper with the computer itself. This produces an ideal environment for testing other operating systems including beta releases, accessing virus-infected data, creating operating system backups, and running software or applications on operating systems they weren’t originally intended for.\n",
    "\n",
    "Multiple virtual machines can run simultaneously on the same physical computer. For servers, the multiple operating systems run side-by-side with a piece of software called a hypervisor to manage them, while desktop computers typical employ one operating system to run the other operating systems within its program windows. Each virtual machine provides its own virtual hardware, including CPUs, memory, hard drives, network interfaces, and other devices. The virtual hardware is then mapped to the real hardware on the physical machine which saves costs by reducing the need for physical hardware systems along with the associated maintenance costs that go with it, plus reduces power and cooling demand.\n",
    "\n",
    "## App Service\n",
    "\n",
    "Azure App Service is an HTTP-based service for hosting web applications, REST APIs, and mobile back ends. Users can develop in their favorite language, be it .NET, .NET Core, Java, Ruby, Node.js, PHP, or Python. Applications run and scale on both Windows and Linux-based environments. The Azure App Service is a Plaform-as-a-Service (PaaS) offering. With App Service, users have no access to the hardware.\n",
    "\n",
    "## Azure Container Instances (ACI)\n",
    "\n",
    "A container is a standard unit of software that packages up code and all its dependencies so the application runs quickly and reliably from one computing environment to another. A container image is a lightweight, standalone, executable package of software that includes everything needed to run an application: code, runtime, system tools, system libraries and settings.\n",
    "\n",
    "A container does not include an operating system that can be managed.\n",
    "\n",
    "Containers are becoming the preferred way to package, deploy, and manage cloud applications. Azure Container Instances offers the fastest and simplest way to run a container in Azure, without having to manage any virtual machines and without having to adopt a higher-level service. ACI is a great solution for any scenario that can operate in isolated containers, including simple applications, task automation, and build jobs.\n",
    "\n",
    "![Container](images\\container.png \"Container\")\n",
    "\n",
    "## Azure Kubernetes Service (AKS)\n",
    "\n",
    "Kubernetes, also known as K8s, is an open-source system for automating deployment, scaling, and management of containerized applications. It groups containers that make up an application into logical units for easy management and discovery.\n",
    "\n",
    "Azure Kubernetes Service simplifies deploying a managed Kubernetes cluster in Azure by offloading the operational overhead to Azure. As a hosted Kubernetes service, Azure handles critical tasks, like health monitoring and maintenance. Since Kubernetes masters are managed by Azure, users only manage and maintain the agent nodes. Thus, AKS is free; users only pay for the agent nodes within their clusters, not for the masters.\n",
    "\n",
    "![Kubernetes](images\\kubernetes.png \"Kubernetes\")\n",
    "\n",
    "## Windows Virtual Desktop (WVD)\n",
    "\n",
    "Windows Virtual Desktop is a desktop and app virtualization service that enables users to run a version of Windows on the cloud. WVD key capabilities are:\n",
    "\n",
    " * Create a full desktop virtualization environment in their Azure subscriptions without having to run any additional gateway servers.\n",
    " * Publish as many host pools as needed to accommodate diverse workloads.\n",
    " * Bring their own images for production workloads or test from the Azure Gallery.\n",
    " * Reduce costs with pooled, multi-session resources. With the new Windows 10 Enterprise multi-session capability exclusive to Windows Virtual Desktop and Remote Desktop Session Host (RDSH) role on Windows Server, users can greatly reduce the number of virtual machines and operating system (OS) overhead while still providing the same resources.\n",
    " * Provide individual ownership through personal (persistent) desktops."
   ],
   "cell_type": "markdown",
   "metadata": {}
  },
  {
   "source": [
    "# Azure Networking Services\n",
    "---\n",
    "\n",
    "Azure Networking Services are comprised of:\n",
    "\n",
    " * Connectivity Services.\n",
    " * Application Protection Services.\n",
    " * Application Delivery Services.\n",
    " * Network Monitoring."
   ],
   "cell_type": "markdown",
   "metadata": {}
  },
  {
   "source": [
    "# Connectivity Services\n",
    "---\n",
    "\n",
    "Azure Connectivity Services enable connecting cloud and on-premises resources using any or a combination of these networking services in Azure: Virtual Network (VNet), Virtual WAN, ExpressRoute, VPN Gateway, Virtual Network NAT Gateway, Azure DNS, VNet Peering service, and Azure Bastion.\n",
    "\n",
    "## Virtual Network (VNet)\n",
    "\n",
    "A Virtual network emulates a physical network. Azure Virtual Network (VNet) is the fundamental building block for users' private networks in Azure. A VNet enables many types of resources, such as virtual machines, to securely communicate with each other, the internet, and on-premises networks. It is similar to a traditional network that users operate in their own data centers, but brings with it additional benefits of Azure's infrastructure such as scale, availability, and isolation.\n",
    "\n",
    "An Azure VNet isolates and segments resources, allowing to connect various Azure resources and on-premises, and providing filtering and routing of network traffic. An Azure VNet is contained to one region, it can not span to multipla regions.\n",
    "\n",
    "There is no charge for using Azure VNet, it is free of cost. Standard charges are applicable for resources, such as Virtual Machines and other products. When we need to connect resources within different regions, we can do so using the VNet Peering Service or VPN Gateways.\n",
    "\n",
    "## VPN (Virtual Private Network) Gateway\n",
    "\n",
    "Azure VPN uses a Network Gateway to connect two networks as if they were on the same network. A VPN gateway is a specific type of virtual network gateway that is used to send encrypted traffic between an Azure virtual network and an on-premises location over the public Internet. The connectivity is secure and uses the industry-standard protocols Internet Protocol Security (IPsec) and Internet Key Exchange (IKE).\n",
    "\n",
    "Users can also use a VPN gateway to send encrypted traffic between Azure virtual networks over the Microsoft network. Each virtual network can have only one VPN gateway. However, users can create multiple connections to the same VPN gateway. When multiple connections to the same VPN gateway are created, all VPN tunnels share the available gateway bandwidth.\n",
    "\n",
    "## Azure Express Route\n",
    "\n",
    "Azure ExpressRoute offers a fast and reliable connection to Azure with bandwidths up to 100 Gbps, which makes it excellent for scenarios like periodic data migration, replication for business continuity, disaster recovery, and other high-availability strategies. It can be a cost-effective option for transferring large amounts of data, such as datasets for high-performance computing applications, or moving large virtual machines between users' dev-test environments in an Azure virtual private cloud and their on-premises production environments."
   ],
   "cell_type": "markdown",
   "metadata": {}
  },
  {
   "source": [
    "# Application Protection Services\n",
    "---\n",
    "\n",
    "Application Protection Services use any or a combination of these networking services in Azure: Private Link, DDoS Protection, Firewall, Network Security Groups, Web Application Firewall, and Virtual Network Endpoints.\n",
    "\n",
    "## DDoS Protection\n",
    "\n",
    "Distributed denial of service (DDoS) attacks are some of the largest availability and security concerns facing customers that are moving their applications to the cloud. A DDoS attack attempts to exhaust an application's resources, making the application unavailable to legitimate users. DDoS attacks can be targeted at any endpoint that is publicly reachable through the internet.\n",
    "\n",
    "Every property in Azure is protected by Azure's infrastructure DDoS (Basic) Protection at no additional cost. The scale and capacity of the globally deployed Azure network provides defense against common network-layer attacks through always-on traffic monitoring and real-time mitigation. DDoS Protection Basic requires no user configuration or application changes. DDoS Protection Basic helps protect all Azure services, including PaaS services like Azure DNS.\n",
    "\n",
    "Azure DDoS Protection Standard, combined with application design best practices, provides enhanced DDoS mitigation features to defend against DDoS attacks. It is automatically tuned to help protect your specific Azure resources in a virtual network. Protection is simple to enable on any new or existing virtual network, and it requires no application or resource changes. It has several advantages over the basic service, including logging, alerting, and telemetry.\n",
    "\n",
    "![DDoS Protection](images\\ddos.png \"DDoS protection\")\n",
    "\n",
    "## Azure Firewall\n",
    "\n",
    "Azure Firewall is a managed, cloud-based network security service that protects Azure Virtual Network resources. It is a fully stateful Firewall-as-a-Service, with built-in high availability and unrestricted cloud scalability.\n",
    "\n",
    "Users can centrally create, enforce, and log application and network connectivity policies across subscriptions and virtual networks. Azure Firewall uses a static public IP address for virtual network resources allowing outside firewalls to identify traffic originating from users' virtual network. The service is fully integrated with Azure Monitor for logging and analytics.\n",
    "\n",
    "![Azure Firewall](images\\firewall.png \"Azure firewall\")\n",
    "\n",
    "Azure Firewall includes the following features:\n",
    "\n",
    " * Built-in high availability\n",
    " * Availability Zones\n",
    " * Unrestricted cloud scalability\n",
    " * Application FQDN filtering rules\n",
    " * Network traffic filtering rules\n",
    " * FQDN tags\n",
    " * Service tags\n",
    " * Threat intelligence\n",
    " * Outbound SNAT support\n",
    " * Inbound DNAT support\n",
    " * Multiple public IP addresses\n",
    " * Azure Monitor logging\n",
    " * Forced tunneling\n",
    " * Web categories (preview)\n",
    " * Certifications\n",
    "\n",
    "## Network Security Groups\n",
    "\n",
    "Network Security Groups can be used to filter network traffic to and from Azure resources in an Azure virtual network. A network security group contains static security rules that allow or deny inbound network traffic to, or outbound network traffic from, several types of Azure resources. For each rule, users can specify source and destination, port, and protocol.\n",
    "\n",
    "Resources from several Azure services can be deployed into an Azure virtual network. Each virtual network subnet and network interface in a virtual machine can be associated to zero, or one, network security group. The same network security group can be associated to many subnets and network interfaces.\n",
    "\n",
    "The following picture illustrates different scenarios for how network security groups might be deployed to allow network traffic, to and from the internet, over TCP port 80:\n",
    "\n",
    "![Network Security Group](images\\network_security_group.png \"Network security group\")\n",
    "\n",
    "## Azure Private Link\n",
    "\n",
    "Azure Private Link enables users to access Azure PaaS Services (for example, Azure Storage and SQL Database) and Azure hosted customer-owned, or partner services, over a private endpoint in their virtual network.\n",
    "\n",
    "Traffic between users' virtual network and the service travels the Microsoft backbone network. Exposing users' service to the public internet is no longer necessary. Users can create their own private link service in their virtual network and deliver it to their customers. Setup and consumption using Azure Private Link is consistent across Azure PaaS, customer-owned, and shared partner services."
   ],
   "cell_type": "markdown",
   "metadata": {}
  },
  {
   "source": [
    "# Application Delivery Services\n",
    "---\n",
    "\n",
    "Deliver applications in the Azure network using any or a combination of these networking services in Azure - Content Delivery Network (CDN), Azure Front Door Service, Traffic Manager, Application Gateway, Internet Analyzer, and Load Balancer.\n",
    "\n",
    "## Load Balancer\n",
    "\n",
    "Load balancing refers to evenly distributing load (incoming network traffic) across a group of backend resources or servers.\n",
    "\n",
    "Azure Load Balancer operates at Layer 4 of the Open Systems Interconnection (OSI) model. It is the single point of contact for clients. Load balancer distributes inbound flows that arrive at the load balancer's front end to backend pool instances. These flows are according to configured load-balancing rules and health probes. The backend pool instances can be Azure Virtual Machines or instances in a virtual machine scale set.\n",
    "\n",
    "A public load balancer can provide outbound connections for virtual machines (VMs) inside users' virtual network. These connections are accomplished by translating their private IP addresses to public IP addresses. Public Load Balancers are used to load balance internet traffic to users' VMs.\n",
    "\n",
    "An internal (or private) load balancer is used where private IPs are needed at the frontend only. Internal load balancers are used to load balance traffic inside a virtual network. A load balancer frontend can be accessed from an on-premises network in a hybrid scenario.\n",
    "\n",
    "![Load Balancer](images\\load_balancer.png \"Load balancer\")\n",
    "\n",
    "## Application Gateway\n",
    "\n",
    "Azure Application Gateway is a Web traffic load balancer that enables users to manage traffic to their Web applications. Traditional load balancers operate at the transport layer (OSI Layer 4 - TCP and UDP) and route traffic based on source IP address and port, to a destination IP address and port.\n",
    "\n",
    "Application Gateway can make routing decisions based on additional attributes of an HTTP request, for example, its URI path or Host headers. For example, traffic can be routed based on the incoming URL. So if \"/images\" is in the incoming URL, trafiic can be routed to a specific set of servers (known as a \"pool\") configured for images. If \"/video\" is in the URL, that traffic is routed to another pool that is optimized for videos. This type of routing is known as application layer (OSI Layer 7) load balancing. Azure Application Gateway can do URL-based routing and more.\n",
    "\n",
    "![Application Gateway](images\\application_gateway.png \"Application gateway\")\n",
    "\n",
    "## Content Delivery Network (CDN)\n",
    "\n",
    "A CDN is a distributed network of servers that can efficiently deliver Web content to users. CDNs' store cached content on edge servers in point-of-presence (POP) locations that are close to end users, to minimize latency.\n",
    "\n",
    "Azure Content Delivery Network (CDN) offers developers a global solution for rapidly delivering high-bandwidth content by caching their content at strategically placed physical nodes across the world. Azure CDN can also accelerate dynamic content, which cannot be cached, by leveraging various network optimizations using CDN POPs. For example, route optimization to bypass Border Gateway Protocol (BGP).\n",
    "\n",
    "![Content Delivery Network](images\\cdn.png \"Content Delivery Network\")\n",
    "\n",
    "## Azure Front Door Service\n",
    "\n",
    "Azure Front Door is a global, scalable entry-point that uses the Microsoft global edge network to create fast, secure, and widely scalable web applications. With Front Door, you can transform your global consumer and enterprise applications into robust, high-performing personalized modern applications with contents that reach a global audience through Azure.\n",
    "\n",
    "Front Door works at Layer 7 (HTTP/HTTPS layer) using anycast protocol with split TCP and Microsoft's global network to improve global connectivity. Based on your routing method you can ensure that Front Door will route your client requests to the fastest and most available application backend. An application backend is any Internet-facing service hosted inside or outside of Azure. Front Door provides a range of traffic-routing methods and backend health monitoring options to suit different application needs and automatic failover scenarios. Similar to Traffic Manager, Front Door is resilient to failures, including failures to an entire Azure region."
   ],
   "cell_type": "markdown",
   "metadata": {}
  },
  {
   "source": [
    "# Network Monitoring\n",
    "---\n",
    "\n",
    "Monitor network resources using any or a combination of these networking services in Azure - Network Watcher, ExpressRoute Monitor, Azure Monitor, or VNet Terminal Access Point (TAP).\n",
    "\n",
    "## Network Watcher\n",
    "\n",
    "Azure Network Watcher provides tools to monitor, diagnose, view metrics, and enable or disable logs for resources in an Azure virtual network. Network Watcher is designed to monitor and repair the network health of IaaS products which includes Virtual Machines, Virtual Networks, Application Gateways, Load Balancers, etc. Azure Network Watcher is not intended for and will not work for PaaS monitoring or Web analytics.\n",
    "\n",
    "## ExpressRoute Monitor\n",
    "\n",
    "Network Performance Monitor (NPM) is a cloud-based network monitoring solution that monitors connectivity between Azure cloud deployments and their on-premises locations (branch offices, etc.). NPM is part of Azure Monitor logs. NPM offers an extension for ExpressRoute that enables users to monitor network performance over ExpressRoute circuits that are configured to use private peering or Microsoft peering.\n",
    "\n",
    "## Azure Monitor\n",
    "\n",
    "Azure Monitor helps users to maximize the availability and performance of their applications and services. It delivers a comprehensive solution for collecting, analyzing, and acting on telemetry from cloud and on-premises environments. This information helps users to understand how the applications are performing and proactively identify issues affecting them and the resources they depend on."
   ],
   "cell_type": "markdown",
   "metadata": {}
  },
  {
   "source": [
    "# Azure Storage Services\n",
    "---\n",
    "\n",
    "Azure Storage Services are comprised of:\n",
    "\n",
    " * Azure Blobs (Containers).\n",
    " * Azure Files.\n",
    " * Azure Queues.\n",
    " * Azure Tables.\n",
    " * Azure Managed Disks."
   ],
   "cell_type": "markdown",
   "metadata": {}
  },
  {
   "source": [
    "# Azure Storage Performance\n",
    "---\n",
    "\n",
    "Standard storage accounts are backed by magnetic drives and provide the lowest cost per GB. They're best for applications that require bulk storage or where data is accessed infrequently.\n",
    "\n",
    "Premium storage accounts are backed by solid state drives and offer consistent, low-latency performance. They can only be used with Azure virtual machine disks, and are best for I/O-intensive applications, like databases. Additionally, virtual machines that use Premium storage for all disks qualify for a 99.9% SLA, even when running outside of an availability set. This setting can't be changed after the storage account is created."
   ],
   "cell_type": "markdown",
   "metadata": {}
  },
  {
   "source": [
    "# Azure Blob Storage\n",
    "---\n",
    "\n",
    "Azure Blob Storage is optimized for storing massive amounts of unstructured data. Unstructured data is data that doesn't adhere to a particular data model or definition, such as text or binary data.\n",
    "\n",
    "Blob storage is designed for:\n",
    "\n",
    " * Serving images or documents directly to a browser.\n",
    " * Storing files for distributed access.\n",
    " * Streaming video and audio.\n",
    " * Writing to log files.\n",
    " * Storing data for backup and restore, disaster recovery, and archiving.\n",
    " * Storing data for analysis by an on-premises or Azure-hosted service.\n",
    "\n",
    "Users or client applications can access objects in Blob storage via HTTP/HTTPS, via the Azure Storage REST API, Azure PowerShell, Azure CLI, or an Azure Storage client library.\n",
    "\n",
    "Azure Storage supports three types of blobs:\n",
    "\n",
    " * Block blobs store text and binary data. Block blobs are made up of blocks of data that can be managed individually. Block blobs store up to about 4.75 TiB of data. Larger block blobs are available in preview, up to about 190.7 TiB.\n",
    " * Append blobs are made up of blocks like block blobs, but are optimized for append operations. Append blobs are ideal for scenarios such as logging data from virtual machines.\n",
    " * Page blobs store random access files up to 8 TiB in size. Page blobs store virtual hard drive (VHD) files and serve as disks for Azure virtual machines\n",
    "\n",
    "### Azure Blob Storage Access Tiers\n",
    "\n",
    "The Azure Blob Storage service offers different access tiers, allowing to store blob object data in the most cost-effective manner. \n",
    "The available access tiers include:\n",
    "\n",
    " * Hot: Optimized for storing data that is accessed frequently.\n",
    " * Cool: Optimized for storing data that is infrequently accessed and stored for at least 30 days.\n",
    " * Archive: Optimized for storing data that is rarely accessed and stored for at least 180 days with flexible latency requirements, on the order of hours."
   ],
   "cell_type": "markdown",
   "metadata": {}
  },
  {
   "source": [
    "# Azure Table Storage\n",
    "---\n",
    "\n",
    "Azure Table Storage is a service that stores non-relational structured data (also known as structured NoSQL data) in the cloud, providing a key/attribute store with a schemaless design. Because Table storage is schemaless, it's easy to adapt data as the needs of users' application evolve. Access to Table Storage data is fast and cost-effective for many types of applications, and is typically lower in cost than traditional SQL for similar volumes of data.\n",
    "\n",
    "Users can use Table Storage to store flexible datasets like user data for web applications, address books, device information, or other types of metadata your service requires. Any number of entities can be stored in a table, and a storage account may contain any number of tables, up to the capacity limit of the storage account.\n",
    "\n",
    "Azure Table Storage stores large amounts of structured data. The service is a NoSQL datastore which accepts authenticated calls from inside and outside the Azure cloud. Azure tables are ideal for storing structured, non-relational data. Common uses of Table Storage include:\n",
    "\n",
    " * Storing TBs of structured data capable of serving Web scale applications.\n",
    " * Storing datasets that don't require complex joins, foreign keys, or stored procedures, and that can be denormalized for fast access.\n",
    " * Quickly querying data using a clustered index.\n",
    " * Accessing data using the OData protocol and LINQ queries with WCF Data Service .NET Libraries.\n",
    "\n",
    "Users can use Table Storage to store and query huge sets of structured, non-relational data, and your tables will scale as demand increases.\n",
    "\n",
    "![Azure Table Storage](images\\table.png \"Azure table storage\")"
   ],
   "cell_type": "markdown",
   "metadata": {}
  },
  {
   "source": [
    "# Azure Queue Storage\n",
    "---\n",
    "\n",
    "Azure Queue Storage is a service for storing large numbers of messages. You access messages from anywhere in the world via authenticated calls using HTTP or HTTPS. A queue message can be up to 64 KB in size. A queue may contain millions of messages, up to the total capacity limit of a storage account. Queues are commonly used to create a backlog of work to process asynchronously.\n",
    "\n",
    "![Azure Queue Storage](images\\queue.png \"Azure queue storage\")\n",
    "\n",
    "Azure Queue Storage contains the following components:\n",
    "\n",
    " * URL format: Queues are addressable using the following URL format: https://<storage account\\>.queue.core.windows.net/<queue\\>. For example, the following URL addresses a queue in the diagram: https://myaccount.queue.core.windows.net/images-to-download\n",
    "\n",
    " * Storage account: All access to Azure Storage is done through a storage account. For information about storage account capacity, see Scalability and performance targets for standard storage accounts.\n",
    "\n",
    " * Queue: A queue contains a set of messages. The queue name must be all lowercase. For information on naming queues, see Naming queues and metadata.\n",
    "\n",
    " * Message: A message, in any format, of up to 64 KB. Before version 2017-07-29, the maximum time-to-live allowed is seven days. For version 2017-07-29 or later, the maximum time-to-live can be any positive number, or -1 indicating that the message doesn't expire. If this parameter is omitted, the default time-to-live is seven days."
   ],
   "cell_type": "markdown",
   "metadata": {}
  },
  {
   "source": [
    "# Azure Files\n",
    "---\n",
    "\n",
    "Azure Files offers fully managed file shares in the cloud that are accessible via the industry standard Server Message Block (SMB) protocol or Network File System (NFS) protocol. Azure file shares can be mounted concurrently by cloud or on-premises deployments. Azure Files SMB file shares are accessible from Windows, Linux, and macOS clients. Azure Files NFS file shares are accessible from Linux or macOS clients. Additionally, Azure Files SMB file shares can be cached on Windows Servers with Azure File Sync for fast access near where the data is being used.\n",
    "\n",
    "Azure file shares can be used to:\n",
    "\n",
    " * Replace or supplement on-premises file servers: Azure Files can be used to completely replace or supplement traditional on-premises file servers or NAS devices. Popular operating systems such as Windows, macOS, and Linux can directly mount Azure file shares wherever they are in the world. Azure File SMB file shares can also be replicated with Azure File Sync to Windows Servers, either on-premises or in the cloud, for performance and distributed caching of the data where it's being used. With the recent release of Azure Files AD Authentication, Azure File SMB file shares can continue to work with AD hosted on-premises for access control.\n",
    "\n",
    " * \"Lift and shift\" applications:\n",
    "Azure Files makes it easy to \"lift and shift\" applications to the cloud that expect a file share to store file application or user data. Azure Files enables both the \"classic\" lift and shift scenario, where both the application and its data are moved to Azure, and the \"hybrid\" lift and shift scenario, where the application data is moved to Azure Files, and the application continues to run on-premises.\n",
    "\n",
    " * Simplify cloud development:\n",
    "Azure Files can also be used in numerous ways to simplify new cloud development projects. For example:\n",
    "\n",
    " * Shared application settings:\n",
    "A common pattern for distributed applications is to have configuration files in a centralized location where they can be accessed from many application instances. Application instances can load their configuration through the File REST API, and humans can access them as needed by mounting the SMB share locally.\n",
    "\n",
    " * Diagnostic share:\n",
    "An Azure file share is a convenient place for cloud applications to write their logs, metrics, and crash dumps. Logs can be written by the application instances via the File REST API, and developers can access them by mounting the file share on their local machine. This enables great flexibility, as developers can embrace cloud development without having to abandon any existing tooling they know and love.\n",
    "\n",
    " * Dev/Test/Debug:\n",
    "When developers or administrators are working on VMs in the cloud, they often need a set of tools or utilities. Copying such utilities and tools to each VM can be a time consuming exercise. By mounting an Azure file share locally on the VMs, a developer and administrator can quickly access their tools and utilities, no copying required.\n",
    "\n",
    " * Containerization:\n",
    "Azure file shares can be used as persistent volumes for stateful containers. Containers deliver \"build once, run anywhere\" capabilities that enable developers to accelerate innovation. For the containers that access raw data at every start, a shared file system is required to allow these containers to access the file system no matter which instance they run on."
   ],
   "cell_type": "markdown",
   "metadata": {}
  },
  {
   "source": [
    "# Azure Managed Disks\n",
    "---\n",
    "\n",
    "Azure Managed Disks are block-level storage volumes that are managed by Azure and used with Azure Virtual Machines. Managed disks are like a physical disk in an on-premises server but, virtualized. With managed disks, all you have to do is specify the disk size, the disk type, and provision the disk. Once you provision the disk, Azure handles the rest.\n",
    "\n",
    "The available types of disks are ultra disks, premium solid-state drives (SSD), standard SSDs, and standard hard disk drives (HDD).\n",
    "\n",
    "There are three main disk roles in Azure: the data disk, the OS disk, and the temporary disk. These roles map to disks that are attached to your virtual machine.\n",
    "\n",
    "![Azure Disks](images\\disks.png \"Azure disks\")"
   ],
   "cell_type": "markdown",
   "metadata": {}
  },
  {
   "source": [
    "# Azure Databases\n",
    "---\n",
    "\n",
    "Azure Database Services are:\n",
    "\n",
    " * Cosmos DB\n",
    " * Azure SQL Database\n",
    " * Azure Database for MySQL\n",
    " * Azure Database for PostgreSQL\n",
    " * SQL Managed Instance"
   ],
   "cell_type": "markdown",
   "metadata": {}
  },
  {
   "source": [
    "# Cosmos DB\n",
    "---\n",
    "\n",
    " * No-SQL storage\n",
    " * Extremely fast storage\n",
    " * Designed for modern applications such as mobile video games, social networks, and things requiring thousands of global replication\n",
    " * Multi-modal\n",
    " * Supports many open-source APIs and protocols"
   ],
   "cell_type": "markdown",
   "metadata": {}
  },
  {
   "source": [
    "# Azure SQL Database\n",
    "---\n",
    "\n",
    " * Runs on the SQL Server engine underneath\n",
    " * Relational DB\n",
    " * Database as a service\n",
    " * Easy to replicate\n",
    " * Easy to scale\n",
    " * Easy to migrate from SQL Server on-premises"
   ],
   "cell_type": "markdown",
   "metadata": {}
  },
  {
   "source": [
    "# Azure Database for MySQL\n",
    "---\n",
    "\n",
    " * Managed MySQL database\n",
    " * Common open-source DB\n",
    " * Makes migration to the cloud easier "
   ],
   "cell_type": "markdown",
   "metadata": {}
  },
  {
   "source": [
    "# Azure Database for PostgreSQL\n",
    "---\n",
    "\n",
    " * Managed PostgreSQL database\n",
    " * Open-source DB\n",
    " * Has better support for clusters and more complex server setups\n",
    " * Makes migration to the cloud easier"
   ],
   "cell_type": "markdown",
   "metadata": {}
  },
  {
   "source": [
    "# SQL Managed Instance\n",
    "---\n",
    "\n",
    " * Most compatible with existing SQL Server\n",
    " * Minimal code changes\n",
    " * Fully managed by Azure\n",
    " * Always up-to-date"
   ],
   "cell_type": "markdown",
   "metadata": {}
  },
  {
   "source": [
    "# Azure Marketplace\n",
    "---\n",
    "\n",
    "Azure Marketplace is where Microsoft and its partners list the various computing services available for customers' use."
   ],
   "cell_type": "markdown",
   "metadata": {}
  },
  {
   "source": [
    "# C) EXAM GOAL: Describe Core Solutions and Management Tools on Azure (10-15%)\n",
    "---"
   ],
   "cell_type": "markdown",
   "metadata": {}
  },
  {
   "source": [
    "# C1) Describe Core Solutions Available on Azure\n",
    "---\n",
    "\n",
    " * Describe the benefits and usage of Internet of Things (IoT) Hub, IoT Central, and Azure Sphere.\n",
    " * Describe the benefits and usage of Azure Synapse Analytics, HDInsight, and Azure Databricks.\n",
    " * Describe the benefits and usage of Azure Machine Learning, Cognitive Services and Azure Bot Service.\n",
    " * Describe the benefits and usage of Serverless Computing solutions that include Azure Functions and Logic Apps.\n",
    " * Describe the benefits and usage of Azure DevOps, GitHub, GitHub Actions, and Azure DevTest Labs."
   ],
   "cell_type": "markdown",
   "metadata": {}
  },
  {
   "source": [
    "# Internet of Things (IoT)\n",
    "---\n",
    "\n",
    "Azure Internet of Things offering includes:\n",
    "\n",
    " * IoT Hub\n",
    "\n",
    " Azure IoT Hub enables highly secure and reliable communication between Internet of Things (IoT) applications and the devices it manages. Azure IoT Hub provides a cloud-hosted solution back end to connect virtually any device, extending solution from the cloud to the edge with per-device authentication, built-in device management, and scaled provisioning.\n",
    "\n",
    " * IoT Central\n",
    "\n",
    " Azure IoT Central is an IoT application platform that reduces the burden and cost of developing, managing, and maintaining enterprise-grade IoT solutions. Choosing to build with IoT Central gives the opportunity to focus time, money, and energy on transforming business with IoT data, rather than just maintaining and updating a complex and continually evolving IoT infrastructure.\n",
    " \n",
    " * Azure Sphere\n",
    " \n",
    " Azure Sphere is a comprehensive IoT security solution that includes hardware (a crossover microcontroller), OS, and cloud components for IoT device security that actively protects devices, businesses, and customers."
   ],
   "cell_type": "markdown",
   "metadata": {}
  },
  {
   "source": [
    "# Big Data and Analytics\n",
    "---\n",
    "\n",
    "Azure Big Data and Analytics offering includes:\n",
    "\n",
    " * Azure Synapse Analytics (formerly SQL Data Warehouse)\n",
    "\n",
    "  Azure Synapse is an enterprise analytics service that accelerates time to insight across data warehouses and big data systems. Azure Synapse brings together the best of SQL technologies used in enterprise data warehousing, Spark technologies used for big data, Pipelines for data integration and ETL/ELT, and deep integration with other Azure services such as Power BI, CosmosDB, and AzureML.\n",
    "\n",
    " * HDInsight\n",
    "\n",
    "  Azure HDInsight is a managed open-source analytics service in the cloud for enterprises. HDInsight is an umbrella name that includes open-source frameworks such as Hadoop, Apache Spark, Apache Hive, LLAP (Hive's Live Long And Process functionality), Apache Kafka, Apache Storm, R, and more. Azure HDInsight allows to process massive amounts of data and get all the benefits of the broad open-source project ecosystem with the global scale of Azure.\n",
    " \n",
    " * Azure Databricks\n",
    "\n",
    " Azure Databricks is a data analytics platform optimized for the Microsoft Azure cloud services platform. Azure Databricks offers two environments for developing data intensive applications: Azure Databricks SQL Analytics and Azure Databricks Workspace.\n",
    "\n",
    " Azure Databricks SQL Analytics provides an easy-to-use platform for analysts who want to run SQL queries on their data lake, create multiple visualization types to explore query results from different perspectives, and build and share dashboards.\n",
    "\n",
    " Azure Databricks Workspace provides an interactive workspace that enables collaboration between data engineers, data scientists, and machine learning engineers. For a big data pipeline, the data (raw or structured) is ingested into Azure through Azure Data Factory in batches, or streamed near real-time using Apache Kafka, Event Hub, or IoT Hub. This data lands in a data lake for long term persisted storage, in Azure Blob Storage or Azure Data Lake Storage. As part of your analytics workflow, use Azure Databricks to read data from multiple data sources and turn it into breakthrough insights using Spark."
   ],
   "cell_type": "markdown",
   "metadata": {}
  },
  {
   "source": [
    "# Artificial Intelligence (AI)\n",
    "---\n",
    "\n",
    "Azure Artificiall Intelligence offering includes:\n",
    "\n",
    " * Azure Machine Learning\n",
    "\n",
    " Azure Machine Learning can be used for any kind of machine learning, from classical ML to deep learning, supervised, and unsupervised learning. Whether you prefer to write Python or R code with the SDK or work with no-code/low-code options in the studio, you can build, train, and track machine learning and deep-learning models in an Azure Machine Learning Workspace.\n",
    "\n",
    " * Cognitive Services\n",
    "\n",
    " Azure Cognitive Services are cloud-based services with REST APIs and client library SDKs available to help you build cognitive intelligence into your applications. You can add cognitive features to your applications without having artificial intelligence (AI) or data science skills. Azure Cognitive Services comprise various AI services that enable you to build cognitive solutions that can see, hear, speak, understand, and even make decisions.\n",
    "\n",
    " Azure Cognitive Services include:\n",
    "\n",
    "   * Vision\n",
    "   * Speech\n",
    "   * Language\n",
    "   * Decision\n",
    "   * Search\n",
    "\n",
    " * Azure Bot Service\n",
    "\n",
    " Azure Bot Service is a natural language chatbot service that provides an integrated environment purpose-built for bot development. Azure Bot Service is a cloud platform that hosts bots and makes them available to channels. It uses a database of Frequently-Asked Questions (FAQ). A bot is an app that users interact with in a conversational way, using text, graphics (such as cards or images), or speech."
   ],
   "cell_type": "markdown",
   "metadata": {}
  },
  {
   "source": [
    "# Serverless Computing\n",
    "---\n",
    "\n",
    "Azure Serverless Computing offering includes:\n",
    "\n",
    " * Azure Functions\n",
    "\n",
    " Azure Functions is a serverless solution that allows to write less code, maintain less infrastructure, and save on costs. Instead of worrying about deploying and maintaining servers, the cloud infrastructure provides all the up-to-date resources needed to keep the applications running.\n",
    "\n",
    " * Logic Apps\n",
    "\n",
    " Azure Logic Apps is a cloud workflow service that helps to schedule, automate, and orchestrate tasks, business processes, and workflows to integrate apps, data, systems, and services across enterprises or organizations. Logic Apps simplifies designing and building scalable solutions for app integration, data integration, system integration, enterprise application integration (EAI), and business-to-business (B2B) communication, whether in the cloud, on premises, or both.\n",
    "\n",
    " * Event Grid\n",
    "\n",
    " Event Grid is an eventing backplane that enables event-driven, reactive programming. It uses a publish-subscribe model. Publishers emit events, but have no expectation about which events are handled. Subscribers decide which events they want to handle.\n",
    "\n",
    " Event Grid is deeply integrated with Azure services and can be integrated with third-party services. It simplifies event consumption and lowers costs by eliminating the need for constant polling. Event Grid efficiently and reliably routes events from Azure and non-Azure resources. It distributes the events to registered subscriber endpoints. The event message has the information you need to react to changes in services and applications. Event Grid isn't a data pipeline, and doesn't deliver the actual object that was updated. It supports dead-lettering for events that aren't delivered to an endpoint.\n",
    "\n",
    " Event Grid has the following characteristics:\n",
    " \n",
    "   * Dynamically scalable\n",
    "   * Low cost\n",
    "   * Serverless\n",
    "   * At least once delivery\n"
   ],
   "cell_type": "markdown",
   "metadata": {}
  },
  {
   "source": [
    "# Azure DevOps Solutions\n",
    "---\n",
    "\n",
    "Azure DevOps Solutions offering includes:\n",
    "\n",
    " * Azure DevOps\n",
    " * GitHub\n",
    " * GitHub Actions\n",
    " * Azure DevTest Labs"
   ],
   "cell_type": "markdown",
   "metadata": {}
  },
  {
   "source": [
    "# Azure DevOps\n",
    "---\n",
    "\n",
    "Azure DevOps provides developer services for support teams to plan work, collaborate on code development, and build and deploy applications. Azure DevOps supports a culture and set of processes that bring developers and project managers and contributors together to complete software development. It allows organizations to create and improve products at a faster pace than they can with traditional software development approaches.\n",
    "\n",
    "You can work in the cloud using Azure DevOps Services or on-premises using Azure DevOps Server. For information on the differences between the cloud versus on-premises platforms, see Azure DevOps Services and Azure DevOps Server.\n",
    "\n",
    "Azure DevOps provides integrated features that you can access through your web browser or IDE client. You can use one or more of the following standalone services based on your business needs:\n",
    "\n",
    " * Azure Repos provides Git repositories or Team Foundation Version Control (TFVC) for source control of code.\n",
    " * Azure Pipelines provides build and release services to support continuous integration and delivery of your applications.\n",
    " * Azure Boards delivers a suite of Agile tools to support planning and tracking work, code defects, and issues using Kanban and Scrum methods.\n",
    " * Azure Test Plans provides several tools to test your apps, including manual/exploratory testing and continuous testing.\n",
    " * Azure Artifacts allows teams to share packages such as Maven, npm, NuGet, and more from public and private sources and integrate package sharing into your pipelines.\n",
    "\n",
    "The following collaboration tools are also available:\n",
    "\n",
    " * Customizable team dashboards with configurable widgets to share information, progress, and trends\n",
    " * Built-in wikis for sharing information\n",
    " * Configurable notifications\n",
    "\n",
    "Azure DevOps supports adding extensions and integrating with other popular services, such as: Campfire, Slack, Trello, UserVoice, and more, and developing your own custom extensions.\n",
    "\n",
    "Azure DevOps Services supports integration with GitHub.com and GitHub Enterprise Server repositories. Azure DevOps Server supports integration with GitHub Enterprise Server repositories."
   ],
   "cell_type": "markdown",
   "metadata": {}
  },
  {
   "source": [
    "# GitHub\n",
    "---\n",
    "\n",
    "Azure's integration with GitHub offers the following features:\n",
    "\n",
    " * You can sign into Azure portal and Azure DevOps using your GitHub account. This capability provides a seamless login experience enabling you to conveniently go from repository to deployment with just your GitHub account.\n",
    "\n",
    " * Leverage GitHub Actions for Azure to easily create code-to-cloud workflows for various Azure scenarios. With GitHub Actions for Azure you can create and set up workflows in your repository to build, test, package, release and deploy to Azure. GitHub Actions for Azure provide native support for deployments to Azure Kubernetes Service, Azure Web Apps, Azure SQL Database, Azure Functions and more.\n",
    "\n",
    " * Boost your team's productivity with Boards, Backlogs, and Sprints for even the most complex projects. Simply connect your GitHub repo to Azure Boards and start linking commits and pull requests to work items tracked in Azure Boards, enabling you to develop while planning and tracking work.\n",
    "\n",
    "* Securely bring open-source code and best practices to your enterprise projects. Accelerate your software development with open-source components and through collaboration with the open-source community. Increase developer velocity through innersourcing and build like the best software development teams in the world. Flexibility, security, compliance, and deployment controls make it easy for your team to use GitHub Enterprise wherever you need it.\n",
    "\n",
    "* Synchronize groups of GitHub users with Azure Active Directory (Azure AD) to enforce a secure workplace identity. Azure AD provisioning allows GitHub customers to leverage their existing Azure AD solution for group membership so that their administrators and developers can focus on their application development. As a result, the Azure AD synchronization capability enables customers to reduce their administrative time, improve auditability and increase user security.\n",
    "\n",
    "* To increase developer velocity, there is a need to shift from manually managing each policy in the Azure portal to something more manageable, collaborative, and repeatable at enterprise scale. You can now easily export Azure policies to a GitHub repository in just a few clicks. You can then collaborate, track changes using version control, and deploy the policies using custom GitHub workflows.\n",
    "\n",
    "* Reduce ramp-up time on Git and be more productive with built-in GitHub extensions in Visual Studio. Create and publish repos, manage pull requests on GitHub, and review source code right inside Visual Studio."
   ],
   "cell_type": "markdown",
   "metadata": {}
  },
  {
   "source": [
    "# GitHub Actions\n",
    "---\n",
    "\n",
    "GitHub Actions helps to automate your software development workflows from within GitHub. You can deploy workflows in the same place where you store code and collaborate on pull requests and issues.\n",
    "\n",
    "In GitHub Actions, a workflow is an automated process that you set up in your GitHub repository. You can build, test, package, release, or deploy any project on GitHub with a workflow.\n",
    "\n",
    "Each workflow is made up of individual actions that run after a specific event (like a pull request) occur. The individual actions are packaged scripts that automate software development tasks.\n",
    "\n",
    "With GitHub Actions for Azure, you can create workflows that you can set up in your repository to build, test, package, release, and deploy to Azure. GitHub Actions for Azure supports Azure services, including Azure App Service, Azure Functions, and Azure Key Vault.\n",
    "\n",
    "GitHub Actions also include support for utilities, including Azure Resource Manager templates, Azure CLI, and Azure Policy."
   ],
   "cell_type": "markdown",
   "metadata": {}
  },
  {
   "source": [
    "# Azure DevTest Labs\n",
    "---\n",
    "\n",
    "DevTest Labs provides the following capabilities to developers working with VMs:\n",
    "\n",
    " * Create VMs quickly by following fewer than five simple steps.\n",
    " * Choose from a curated list of VM bases that are configured, approved, and authorized by the team lead or central IT.\n",
    " * Create VMs from pre-created custom images that have all the software and tools already installed.\n",
    " * Create VMs from formulas that are essentially custom images combined with the latest builds of the software that's installed when the VMs are created.\n",
    " * Install artifacts that are extensions deployed on VMs after they're provisioned.\n",
    " * Set auto-shutdown and auto-start schedules on VMs.\n",
    " * Claim a pre-created VM without going through the creation process.\n",
    "\n",
    "DevTest Labs provides the following capabilities to developers working with PaaS environments:\n",
    "\n",
    " * Use Resource Manager to quickly create PaaS environments by following fewer than three simple steps.\n",
    " * Choose from a curated list of Resource Manager templates, which are configured, and authorized by the team lead or central IT.\n",
    " * Spin up an empty resource group (sandbox) by using a Resource Manager template to explore Azure within the context of a lab.\n",
    "\n",
    "DevTest Labs also enables central IT to control wastes, optimize costs on resources, and stay within budgets by doing the following tasks:\n",
    "\n",
    " * Setting auto-shutdown and auto-start schedules on VMs.\n",
    " * Setting policies on the number of VMs that users can create.\n",
    " * Setting policies on VMs' sizes and gallery images that users choose from.\n",
    " * Tracking costs and setting targets on labs.\n",
    " * Getting notified on high projected costs for labs so you can take necessary actions."
   ],
   "cell_type": "markdown",
   "metadata": {}
  },
  {
   "source": [
    "C2) Describe Azure Management Tools\n",
    "---\n",
    "\n",
    " * Describe the functionality and usage of the Azure Portal, Azure PowerShell, Azure CLI,\n",
    "Cloud Shell, and Azure Mobile App.\n",
    " * Describe the functionality and usage of Azure Advisor.\n",
    " * Describe the functionality and usage of Azure Resource Manager (ARM) templates.\n",
    " * Describe the functionality and usage of Azure Monitor.\n",
    " * Describe the functionality and usage of Azure Service Health."
   ],
   "cell_type": "markdown",
   "metadata": {}
  },
  {
   "source": [
    "# Azure Tools\n",
    "---\n",
    "\n",
    "## Azure Portal\n",
    "\n",
    " * The Portal is a web-based console that provides a graphical user interface and is the most common way for interactions with the cloud.\n",
    " * You can build, manage, and monitor things such as simple web apps, subscriptions, billings, and even complex cloud deployments.\n",
    " * The Azure portal is designed for resiliency, low access latency, and high availability as it is present in every datacenter.\n",
    " * It is kept continuously updated hence it does not suffer any downtime.\n",
    "\n",
    "## Azure Powershell\n",
    "\n",
    " * Azure Powershell is an extension of windows PowerShell that has its modules and cmdlets.\n",
    " * Through these same cmdlets a user can perform powerful common tasks on the Azure cloud bypassing the need of the Azure Portal.\n",
    " * Users can create automation scripts using PowerShell for repetitive tasks on the cloud resulting in a drastic decrease in Administrative overhead.\n",
    "\n",
    "## Azure CLI (Command-Line Interface)\n",
    "\n",
    "The Azure command-line interface (Azure CLI) is a set of commands used to create and manage Azure resources. The Azure CLI is available across Azure services and is designed to get you working quickly with Azure, with an emphasis on automation.\n",
    "\n",
    "Azure CLI capabilities make it easy to work with different programing languages and software environments:\n",
    "\n",
    " * Is available to install in Windows, macOS, and Linux environments.\n",
    " * Can also be run in Docker and Azure Cloud Shell.\n",
    " * Offers command-line flexibility when managing an Azure solution.\n",
    " * Supports long-running operations.\n",
    " * Has the ability to use one subscription for all commands, or vary subscriptions per command.\n",
    " * Allows for querying of command-line results with query output returned in your format of choice.\n",
    " * Has the flexibility to work with multiple clouds.\n",
    " * Provides configurable settings for logging, data collection, and default argument values.\n",
    " * Is deployed with Resource Manager deployment templates.\n",
    "\n",
    "## Azure Cloud Shell\n",
    "\n",
    " * The Cloud shell grants access to a browser-based command-line experience that has been built keeping Azure management tasks in mind.\n",
    " * As it is browser-based, it provides more flexibility than PowerShell as it remains machine and OS independent.\n",
    " * It further differentiated itself from Azure PowerShell by offering a choice between Bash and PowerShell itself inside the browser.\n",
    " * Microsoft manages Cloud Shell themselves, hence it comes with updated command-line tool and language support.\n",
    " * Cloud Shell is also automated to securely authenticate and provide you with instant access to your resources.\n",
    "\n",
    "## Azure Mobile App\n",
    "\n",
    "With the Azure mobile app, you don't need to be in front of your computer to keep an eye on your Azure resources such as VMs and web apps. Stay connected no matter where you are from your iOS or Android mobile device.\n",
    "\n",
    "Check for alerts, view metrics, and take corrective actions to fix common issues. Restart a web app or connect to a VM directly. Be agile and respond to issues faster with the Azure mobile app. Want to use the command line? Run ad hoc Azure CLI or PowerShell commands from the Azure mobile app."
   ],
   "cell_type": "markdown",
   "metadata": {}
  },
  {
   "source": [
    "# Azure Advisor\n",
    "---\n",
    "\n",
    "Advisor is a personalized cloud consultant that helps you follow best practices to optimize your Azure deployments. It analyzes your resource configuration and usage telemetry and then recommends solutions that can help you improve the cost effectiveness, performance, Reliability (formerly called High availability), and security of your Azure resources.\n",
    "\n",
    "With Advisor, you can:\n",
    "\n",
    " * Get proactive, actionable, and personalized best practices recommendations.\n",
    " * Improve the performance, security, and reliability of your resources, as you identify opportunities to reduce your overall Azure spend.\n",
    " * Get recommendations with proposed actions inline."
   ],
   "cell_type": "markdown",
   "metadata": {}
  },
  {
   "source": [
    "# Azure Resource Manager (ARM)\n",
    "---\n",
    "\n",
    "Azure Resource Manager is the deployment and management service for Azure. It provides a management layer that enables you to create, update, and delete resources in your Azure account. You use management features, like access control, locks, and tags, to secure and organize your resources after deployment.\n",
    "\n",
    "![Resource Manager Tools](images\\resource_manager_tools.png \"Resource Manager Tools\")"
   ],
   "cell_type": "markdown",
   "metadata": {}
  },
  {
   "source": [
    "# Azure Monitor\n",
    "---\n",
    "\n",
    "Azure Monitor helps you maximize the availability and performance of your applications and services. It delivers a comprehensive solution for collecting, analyzing, and acting on telemetry from your cloud and on-premises environments. This information helps you understand how your applications are performing and proactively identify issues affecting them and the resources they depend on.\n",
    "\n",
    "What you can do with Azure Monitor include:\n",
    "\n",
    " * Detect and diagnose issues across applications and dependencies with Application Insights.\n",
    " * Correlate infrastructure issues with VM insights and Container insights.\n",
    " * Drill into your monitoring data with Log Analytics for troubleshooting and deep diagnostics.\n",
    " * Support operations at scale with smart alerts and automated actions.\n",
    " * Create visualizations with Azure dashboards and workbooks.\n",
    " * Collect data from monitored resources using Azure Monitor Metrics.\n",
    "\n",
    "![Azure Monitor](images\\azure_monitor.png \"Azure Monitor\")"
   ],
   "cell_type": "markdown",
   "metadata": {}
  },
  {
   "source": [
    "# Azure Service Health\n",
    "---\n",
    "\n",
    "Azure offers a suite of experiences to keep you informed about the health of your cloud resources. This information includes current and upcoming issues such as service impacting events, planned maintenance, and other changes that may affect your availability.\n",
    "\n",
    "Azure Service Health is a combination of three separate smaller services.\n",
    "\n",
    "Azure status informs you of service outages in Azure on the Azure Status page. The page is a global view of the health of all Azure services across all Azure regions. The status page is a good reference for incidents with widespread impact, but we strongly recommend that current Azure users leverage Azure service health to stay informed about Azure incidents and maintenance.\n",
    "\n",
    "Service health provides a personalized view of the health of the Azure services and regions you're using. This is the best place to look for service impacting communications about outages, planned maintenance activities, and other health advisories because the authenticated Service Health experience knows which services and resources you currently use. The best way to use Service Health is to set up Service Health alerts to notify you via your preferred communication channels when service issues, planned maintenance, or other changes may affect the Azure services and regions you use.\n",
    "\n",
    "Resource health provides information about the health of your individual cloud resources such as a specific virtual machine instance. Using Azure Monitor, you can also configure alerts to notify you of availability changes to your cloud resources. Resource Health along with Azure Monitor notifications will help you stay better informed about the availability of your resources minute by minute and quickly assess whether an issue is due to a problem on your side or related to an Azure platform event."
   ],
   "cell_type": "markdown",
   "metadata": {}
  },
  {
   "source": [
    "# D) Describe General Security And Network Security Features (10-15%)\n",
    "---"
   ],
   "cell_type": "markdown",
   "metadata": {}
  },
  {
   "source": [
    "# D1) Describe Azure Security Features\n",
    "---\n",
    "\n",
    " * Describe basic features of Azure Security Center, including policy compliance, security\n",
    "alerts, secure score, and resource hygiene\n",
    " * Describe the functionality and usage of Key Vault\n",
    " * Describe the functionality and usage of Azure Sentinel\n",
    " * Describe the functionality and usage of Azure Dedicated Hosts"
   ],
   "cell_type": "markdown",
   "metadata": {}
  },
  {
   "source": [
    "# Azure Security Center\n",
    "---\n",
    "\n",
    "Azure Security Center is an unified infrastructure security management system that is able to monitor and protect systems inside and outside Azure. It offers the following features:\n",
    "\n",
    " * Strengthen security\n",
    " * Protect against threats\n",
    " * Get secure faster\n",
    "\n",
    "![Azure Security Center](images\\security_center.png \"Azure Security Center\")"
   ],
   "cell_type": "markdown",
   "metadata": {}
  },
  {
   "source": [
    "# Azure Key Vault\n",
    "---\n",
    "\n",
    "Azure Key Vault helps solve the following problems:\n",
    "\n",
    " * Secrets Management: Azure Key Vault can be used to Securely store and tightly control access to tokens, passwords, certificates, API keys, and other secrets.\n",
    " * Key Management: Azure Key Vault can also be used as a Key Management solution. Azure Key Vault makes it easy to create and control the encryption keys used to encrypt your data.\n",
    " * Certificate Management: Azure Key Vault is also a service that lets you easily provision, manage, and deploy public and private Transport Layer Security/Secure Sockets Layer (TLS/SSL) certificates for use with Azure and your internal connected resources.\n",
    "\n",
    "Azure Key Vault has two service tiers: Standard, which encrypts with a software key, and a Premium tier, which includes Hardware Security Module (HSM) protected keys."
   ],
   "cell_type": "markdown",
   "metadata": {}
  },
  {
   "source": [
    "# Azure Sentinel\n",
    "---\n",
    "\n",
    "Microsoft Azure Sentinel is a scalable, cloud-native, security information event management (SIEM) and security orchestration automated response (SOAR) solution. Azure Sentinel delivers intelligent security analytics and threat intelligence across the enterprise, providing a single solution for alert detection, threat visibility, proactive hunting, and threat response.\n",
    "\n",
    "Azure Sentinel is your birds-eye view across the enterprise alleviating the stress of increasingly sophisticated attacks, increasing volumes of alerts, and long resolution time frames.\n",
    "\n",
    " * Collect data at cloud scale across all users, devices, applications, and infrastructure, both on-premises and in multiple clouds. \n",
    " * Detect previously undetected threats, and minimize false positives using Microsoft's analytics and unparalleled threat intelligence. \n",
    " * Investigate threats with artificial intelligence, and hunt for suspicious activities at scale, tapping into years of cyber security work at Microsoft. \n",
    " * Respond to incidents rapidly with built-in orchestration and automation of common tasks."
   ],
   "cell_type": "markdown",
   "metadata": {}
  },
  {
   "source": [
    "# Azure Dedicated Hosts\n",
    "---\n",
    "\n",
    "Azure Dedicated Host provides physical servers that host one or more Azure virtual machines. Your server is dedicated to your organization and workloads—capacity isn’t shared with other customers. This host-level isolation helps address compliance requirements. As you provision the host, you gain visibility into (and control over) the server infrastructure, and you determine the host’s maintenance policies."
   ],
   "cell_type": "markdown",
   "metadata": {}
  },
  {
   "source": [
    "# D2) Describe Azure Network Security\n",
    "---\n",
    "\n",
    " * Describe the concept of Defense In Depth.\n",
    " * Describe the functionality and usage of Network Security Groups (NSG).\n",
    " * Describe the functionality and usage of Azure Firewall.\n",
    " * Describe the functionality and usage of Azure DDoS protection."
   ],
   "cell_type": "markdown",
   "metadata": {}
  },
  {
   "source": [
    "# Defense In Depth\n",
    "---\n",
    "\n",
    "Azure Defense In Depth includes the following layers:\n",
    "\n",
    " * Data, i.e. virtual network endpoint.\n",
    " * Application, i.e. API Management.\n",
    " * Compute, i.e. limit Remote Desktop access, Windows Update.\n",
    " * Network, i.e. NSG, use of subnets, deny by default.\n",
    " * Perimeter, i.e. DDoS, firewalls.\n",
    " * Identity and Access, i.e. Azure AD.\n",
    " * Physical Security, i.e. door locks and key cards.\n",
    "\n",
    "![Defense In Depth](images\\defense_in_depth.png \"Defense In Depth\")"
   ],
   "cell_type": "markdown",
   "metadata": {}
  },
  {
   "source": [
    "# Network Security Group (NSG)\n",
    "---\n",
    "\n",
    "A Network Security Group can be thought of as a stateful firewall that can be used to filter inbound and outbound access to and from Azure resources in an Azure virtual network. A NSG contains security rules that allow or deny inbound network traffic to, or outbound network traffic from, several types of Azure resources. For each rule, you can specify source and destination, port, and protocol.\n",
    "\n",
    "This is commonly known as \"5 tuple\":\n",
    "\n",
    " * Source IP address\n",
    " * Source port\n",
    " * Destination IP address\n",
    " * Destination port\n",
    " * Protocol\n",
    "\n",
    "![Network Security Groups](images\\nsg.png \"Network Security Groups\")\n",
    "\n",
    "Network security group security rules are evaluated by priority using the 5-tuple information (source, source port, destination, destination port, and protocol) to allow or deny the traffic. You may not create two security rules with the same priority and direction. A flow record is created for existing connections. Communication is allowed or denied based on the connection state of the flow record. The flow record allows a network security group to be stateful. If you specify an outbound security rule to any address over port 80, for example, it's not necessary to specify an inbound security rule for the response to the outbound traffic. You only need to specify an inbound security rule if communication is initiated externally. The opposite is also true. If inbound traffic is allowed over a port, it's not necessary to specify an outbound security rule to respond to traffic over the port.\n",
    "\n",
    "Existing connections may not be interrupted when you remove a security rule that enabled the flow. Traffic flows are interrupted when connections are stopped and no traffic is flowing in either direction, for at least a few minutes.\n",
    "\n",
    "There are limits to the number of security rules you can create in a network security group."
   ],
   "cell_type": "markdown",
   "metadata": {}
  },
  {
   "source": [
    "# Azure Firewall\n",
    "---\n",
    "\n",
    "V. APPLICATION PROTECTION SERVICES."
   ],
   "cell_type": "markdown",
   "metadata": {}
  },
  {
   "source": [
    "# Azure DDoS Protection\n",
    "---\n",
    "\n",
    "V. APPLICATION PROTECTION SERVICES."
   ],
   "cell_type": "markdown",
   "metadata": {}
  },
  {
   "source": [
    "# E) Describe Identity, Governance, Privacy, and Compliance Features (20-25%)\n",
    "---"
   ],
   "cell_type": "markdown",
   "metadata": {}
  },
  {
   "source": [
    "# E1) Describe Core Azure Identity Services\n",
    "---\n",
    "\n",
    " * Explain the difference between authentication and authorization.\n",
    " * Define Azure Active Directory.\n",
    " * Describe the functionality and usage of Azure Active Directory.\n",
    " * Describe the functionality and usage of Conditional Access, Multi-Factor Authentication (MFA), and Single Sign-On (SSO)."
   ],
   "cell_type": "markdown",
   "metadata": {}
  },
  {
   "source": [
    "# Authentication vs Authorization\n",
    "---\n",
    "\n",
    "![Authentication vs Authorization](images\\authentication_vs_authorization.png \"Authentication vs Authorization\")"
   ],
   "cell_type": "markdown",
   "metadata": {}
  },
  {
   "source": [
    "# Azure Active Directory\n",
    "---\n",
    "\n",
    "Azure Active Directory (Azure AD) is Microsoft’s cloud-based identity and access management service, which helps your employees sign in and access resources in:\n",
    "\n",
    " * External resources, such as Microsoft 365, the Azure portal, and thousands of other SaaS applications.\n",
    " * Internal resources, such as apps on your corporate network and intranet, along with any cloud apps developed by your own organization. For more information about creating a tenant for your organization, see Quickstart: Create a new tenant in Azure Active Directory.\n",
    "\n",
    "Azure AD powers other Microsoft services: Azure, Skype, Outlook, OneDrive, Xbox, Office 365 - Teams, SahrePoint, PowerBI, etc."
   ],
   "cell_type": "markdown",
   "metadata": {}
  },
  {
   "source": [
    "# Benefits of Azure Active Directory\n",
    "---\n",
    "\n",
    " * Security\n",
    " * Reduced development time, easier support.\n",
    " * Multi-Factor Authentication (MFA)\n",
    " * Single Sign-On (SSO)\n",
    " * User-Access reviews\n",
    " * Just-in-time elevation privileges\n",
    " * Centralized reporting\n",
    " * Logging\n",
    " * Integration with other Azure services"
   ],
   "cell_type": "markdown",
   "metadata": {}
  },
  {
   "source": [
    "# Azure Conditional Access\n",
    "---\n",
    "\n",
    "The modern security perimeter now extends beyond an organization's network to include user and device identity. Organizations can utilize these identity signals as part of their access control decisions.\n",
    "\n",
    "Conditional Access is the tool used by Azure Active Directory to bring signals together, to make decisions, and enforce organizational policies. Conditional Access is at the heart of the new identity driven control plane.\n",
    "\n",
    "Conditional Access policies at their simplest are if-then statements, if a user wants to access a resource, then they must complete an action. Example: A payroll manager wants to access the payroll application and is required to perform multi-factor authentication to access it.\n",
    "\n",
    "Administrators are faced with two primary goals:\n",
    "\n",
    " * Empower users to be productive wherever and whenever.\n",
    " * Protect the organization's assets.\n",
    "\n",
    "By using Conditional Access policies, you can apply the right access controls when needed to keep your organization secure and stay out of your user's way when not needed."
   ],
   "cell_type": "markdown",
   "metadata": {}
  },
  {
   "source": [
    "# Azure Multi-Factor Authentication (MFA)\n",
    "---\n",
    "\n",
    "Multi-factor authentication is a process where a user is prompted during the sign-in process for an additional form of identification, such as to enter a code on their cellphone or to provide a fingerprint scan.\n",
    "\n",
    "If you only use a password to authenticate a user, it leaves an insecure vector for attack. If the password is weak or has been exposed elsewhere, is it really the user signing in with the username and password, or is it an attacker? When you require a second form of authentication, security is increased as this additional factor isn't something that's easy for an attacker to obtain or duplicate.\n",
    "\n",
    "Azure AD Multi-Factor Authentication works by requiring two or more of the following authentication methods:\n",
    "\n",
    " * Something you know, typically a password.\n",
    " * Something you have, such as a trusted device that is not easily duplicated, like a phone or hardware key.\n",
    " * Something you are - biometrics like a fingerprint or face scan.\n",
    "\n",
    "Users can register themselves for both self-service password reset and Azure AD Multi-Factor Authentication in one step to simplify the on-boarding experience. Administrators can define what forms of secondary authentication can be used. Azure AD Multi-Factor Authentication can also be required when users perform a self-service password reset to further secure that process."
   ],
   "cell_type": "markdown",
   "metadata": {}
  },
  {
   "source": [
    "# E2) Describe Azure Governance Features\n",
    "---\n",
    "\n",
    " * Describe the functionality and usage of Role-Based Access Control (RBAC).\n",
    " * Describe the functionality and usage of resource.\n",
    " * Describe the functionality and usage of tags.\n",
    " * Describe the functionality and usage of Azure Policy.\n",
    " * Describe the functionality and usage of Azure Blueprints.\n",
    " * Describe the Cloud Adoption Framework for Azure."
   ],
   "cell_type": "markdown",
   "metadata": {}
  },
  {
   "source": [
    "# Azure Role-Based Access Control (RBAC)\n",
    "---\n",
    "\n",
    "Azure RBAC is an authorization system built on Azure Resource Manager that provides fine-grained access management of Azure resources.\n",
    "\n",
    "Here are some examples of what Azure RBAC can do:\n",
    "\n",
    " * Allow one user to manage virtual machines in a subscription and another user to manage virtual networks.\n",
    " * Allow a DBA group to manage SQL databases in a subscription.\n",
    " * Allow a user to manage all resources in a resource group, such as virtual machines, websites, and subnets.\n",
    " * Allow an application to access all resources in a resource group."
   ],
   "cell_type": "markdown",
   "metadata": {}
  },
  {
   "source": [
    "# Azure Resource Locks\n",
    "---\n",
    "\n",
    "As an administrator, you can lock a subscription, resource group, or resource to prevent other users in your organization from accidentally deleting or modifying critical resources. The lock overrides any permissions the user might have.\n",
    "\n",
    "You can set the lock level to CanNotDelete or ReadOnly. In the portal, the locks are called Delete and Read-only respectively.\n",
    "\n",
    " * CanNotDelete means authorized users can still read and modify a resource, but they can't delete the resource.\n",
    " * ReadOnly means authorized users can read a resource, but they can't delete or update the resource. Applying this lock is similar to restricting all authorized users to the permissions granted by the Reader role.\n",
    "\n",
    "When you apply a lock at a parent scope, all resources within that scope inherit the same lock. Even resources you add later inherit the lock from the parent. The most restrictive lock in the inheritance takes precedence.\n",
    "\n",
    "Unlike role-based access control, you use management locks to apply a restriction across all users and roles. To learn about setting permissions for users and roles, see Azure role-based access control (Azure RBAC).\n",
    "\n",
    "Resource Manager locks apply only to operations that happen in the management plane, which consists of operations sent to https://management.azure.com. The locks don't restrict how resources perform their own functions. Resource changes are restricted, but resource operations aren't restricted. For example, a ReadOnly lock on a SQL Database logical server prevents you from deleting or modifying the server. It doesn't prevent you from creating, updating, or deleting data in the databases on that server. Data transactions are permitted because those operations aren't sent to https://management.azure.com."
   ],
   "cell_type": "markdown",
   "metadata": {}
  },
  {
   "source": [
    "# Azure Resource Tags\n",
    "---\n",
    "\n",
    "You apply tags to your Azure resources, resource groups, and subscriptions to logically organize them into a taxonomy. Each tag consists of a name and a value pair. For example, you can apply the name \"Environment\" and the value \"Production\" to all the resources in production. Tags can help with billing and support issues."
   ],
   "cell_type": "markdown",
   "metadata": {}
  },
  {
   "source": [
    "# Azure Policy\n",
    "---\n",
    "\n",
    "Azure Policy helps to enforce organizational standards and to assess compliance at-scale. Through its compliance dashboard, it provides an aggregated view to evaluate the overall state of the environment, with the ability to drill down to the per-resource, per-policy granularity. It also helps to bring your resources to compliance through bulk remediation for existing resources and automatic remediation for new resources.\n",
    "\n",
    "Common use cases for Azure Policy include implementing governance for resource consistency, regulatory compliance, security, cost, and management. Policy definitions for these common use cases are already available in your Azure environment as built-ins to help you get started.\n",
    "\n",
    "These are examples of built-in policies:\n",
    "\n",
    " * Require SQL Server 12.0.\n",
    " * Allowed Storage Account SKUs.\n",
    " * Allowed Locations.\n",
    " * Allowed Virtual Machine SKUs.\n",
    " * Apply tag and its default value.\n",
    " * Not allowed resource types.\n",
    "\n",
    "All Azure Policy data and objects are encrypted at rest.\n",
    "\n",
    "Azure Policy evaluates resources in Azure by comparing the properties of those resources to business rules. These business rules, described in JSON format, are known as policy definitions. To simplify management, several business rules can be grouped together to form a policy initiative (sometimes called a policySet). Once your business rules have been formed, the policy definition or initiative is assigned to any scope of resources that Azure supports, such as management groups, subscriptions, resource groups, or individual resources. The assignment applies to all resources within the Resource Manager scope of that assignment. Subscopes can be excluded, if necessary. For more information, see Scope in Azure Policy.\n",
    "\n",
    "Azure Policy uses a JSON format to form the logic the evaluation uses to determine if a resource is compliant or not. Definitions include metadata and the policy rule. The defined rule can use functions, parameters, logical operators, conditions, and property aliases to match exactly the scenario you want. The policy rule determines which resources in the scope of the assignment get evaluated."
   ],
   "cell_type": "markdown",
   "metadata": {}
  },
  {
   "source": [
    "# Azure Blueprints\n",
    "---\n",
    "\n",
    "Just as a blueprint allows an engineer or an architect to sketch a project's design parameters, Azure Blueprints enables cloud architects and central information technology groups to define a repeatable set of Azure resources that implements and adheres to an organization's standards, patterns, and requirements. Azure Blueprints makes it possible for development teams to rapidly build and stand up new environments with trust they're building within organizational compliance with a set of built-in components, such as networking, to speed up development and delivery.\n",
    "\n",
    "Blueprints are a declarative way to orchestrate the deployment of various resource templates and other artifacts such as:\n",
    "\n",
    " * Role Assignments\n",
    " * Policy Assignments\n",
    " * Azure Resource Manager templates (ARM templates)\n",
    " * Resource Groups\n",
    "\n",
    "The Azure Blueprints service is backed by the globally distributed Azure Cosmos DB. Blueprint objects are replicated to multiple Azure regions. This replication provides low latency, high availability, and consistent access to your blueprint objects, regardless of which region Azure Blueprints deploys your resources to.\n",
    "\n"
   ],
   "cell_type": "markdown",
   "metadata": {}
  },
  {
   "source": [
    "# Azure Cloud Adoption Framework (CAF)\n",
    "---\n",
    "\n",
    "The Cloud Adoption Framework is proven guidance that’s designed to help you create and implement the business and technology strategies necessary for your organization to succeed in the cloud. It provides best practices, documentation, and tools that cloud architects, IT professionals, and business decision makers need to successfully achieve their short and long-term objectives.\n",
    "\n",
    "![Cloud Adoption Framework](images\\adoption_framework.png \"Cloud Adoption Framework\")"
   ],
   "cell_type": "markdown",
   "metadata": {}
  },
  {
   "source": [
    "# E3) Describe Privacy and Compliance Resources\n",
    "---\n",
    "\n",
    " * Describe the Microsoft core tenets of Security, Privacy, and Compliance.\n",
    " * Describe the purpose of the Microsoft Privacy Statement, Product Terms site, and Data\n",
    "Protection Addendum (DPA).\n",
    " * Describe the purpose of the Trust Center.\n",
    " * Describe the purpose of the Azure compliance documentation.\n",
    " * Describe the purpose of Azure Sovereign Regions (Azure Government cloud services and\n",
    "Azure China cloud services)."
   ],
   "cell_type": "markdown",
   "metadata": {}
  },
  {
   "source": [
    "# Azure Trusted Cloud\n",
    "---\n",
    "\n",
    "Azure Trusted Cloud is made of 5 components:\n",
    "\n",
    "## Security\n",
    "\n",
    " * Azure is built with security in mind\n",
    " * Azure delivers tools and technologies to help organizations protect applications and data\n",
    " * Azure uses encryption\n",
    " * Azure offers advanced tools to detect and defend against security threats\n",
    "\n",
    "## Privacy\n",
    "\n",
    " * You own all your data in Azure\n",
    " * Microsoft will not mine your data or use it for marketing\n",
    " * You control where the data is located and who has access\n",
    " * You can access your own data at any time for any reason\n",
    " * Microsoft follows a specific policy for government and law enforcement requests\n",
    " * Microsoft follows a specific policy to remove data if you descontinue to use their service\n",
    "\n",
    "## Compliance\n",
    "\n",
    " * Microsoft follows international standards and helps customers to follow those standards too if they wish\n",
    " * Azure has more than 90 compliance certifications\n",
    " * Azure follows more than 50 regional standards\n",
    " * Azure can help with standards in more than 35 industries like health care, government, finance, etc.\n",
    "\n",
    "## Reliability and Resiliency\n",
    "\n",
    " * High availability\n",
    " * Disaster recovery\n",
    " * Backup\n",
    "\n",
    "## Intellectual Property (IP) Protection\n",
    "\n",
    " * You can build your solutions on top of Azure's products and services\n",
    " * Azure offers specific protections against frivolous infringement claims"
   ],
   "cell_type": "markdown",
   "metadata": {}
  },
  {
   "source": [
    "# Microsoft Privacy Statement\n",
    "---\n",
    "\n",
    "http://privacy.microsoft.com"
   ],
   "cell_type": "markdown",
   "metadata": {}
  },
  {
   "source": [
    "# Data Protection Addendum\n",
    "---\n",
    "\n",
    "https://cdn-prod.opendemocracy.net/media/documents/Microsoft_Agreement_1.pdf "
   ],
   "cell_type": "markdown",
   "metadata": {}
  },
  {
   "source": [
    "# Trust Center\n",
    "---\n",
    "\n",
    "https://www.microsoft.com/en-us/trust-center "
   ],
   "cell_type": "markdown",
   "metadata": {}
  },
  {
   "source": [
    "# Azure Sovereign Regions\n",
    "---\n",
    "\n",
    "https://azure.microsoft.com/en-us/global-infrastructure/government/ "
   ],
   "cell_type": "markdown",
   "metadata": {}
  },
  {
   "source": [
    "# F) Describe Azure Cost Management And Service Level Agreements (10-15%)\n",
    "---"
   ],
   "cell_type": "markdown",
   "metadata": {}
  },
  {
   "source": [
    "# F1) Describe Methods For Planning And Managing Costs\n",
    "---\n",
    "\n",
    " * Identify factors that can affect costs (resource types, services, locations, ingress and egress traffic).\n",
    " * Identify factors that can reduce costs (reserved instances, reserved capacity, hybrid use benefit, spot pricing).\n",
    " * Describe the functionality and usage of the Pricing calculator and the Total Cost of Ownership (TCO) calculator.\n",
    " * Describe the functionality and usage of Azure Cost Management."
   ],
   "cell_type": "markdown",
   "metadata": {}
  },
  {
   "source": [
    "# Azure Pricing\n",
    "---\n",
    "\n",
    "Though most Azure services are paid, there are some free services:\n",
    "\n",
    " * Resource Groups\n",
    " * Virtual Networks (up to 50)\n",
    " * Load Balancer (basic)\n",
    " * Azure Active Directory (basic)\n",
    " * Network Security Groups\n",
    " * Free-Tier Web Apps (up to 10)\n",
    "\n",
    "All Azure inbound data traffic is free. The first 5 GB of outbound data are also free.\n",
    "\n",
    "https://azure.microsoft.com/en-us/pricing/calculator/ "
   ],
   "cell_type": "markdown",
   "metadata": {}
  },
  {
   "source": [
    "# Best Practices For Reducing Azure Cost\n",
    "---\n",
    "\n",
    " * Check Azure Advisor.\n",
    " * Configure Auto shutdown on Dev/QA resources.\n",
    " * Utilize cool/archive storage where possible.\n",
    " * Consider using Reserved and/or Hybrid Instances.\n",
    " * Configure alerts when billing exceeds an expected level.\n",
    " * Use Policy to restrict access to certain expensive resources.\n",
    " * Configure auto-scaling of resources.\n",
    " * Downsize resources when over-provisioned.\n",
    " * Ensure every resource has an owner (use tags to track billing ownership).\n",
    " * Consider Spot Pricing (ability to use a virtual machine when nobody is uding it for a discounted price)."
   ],
   "cell_type": "markdown",
   "metadata": {}
  },
  {
   "source": [
    "# Azure Pricing Calculators\n",
    "---\n",
    "\n",
    "https://azure.microsoft.com/en-us/pricing/calculator/ \n",
    "\n",
    "https://azure.microsoft.com/en-us/pricing/tco/calculator/ "
   ],
   "cell_type": "markdown",
   "metadata": {}
  },
  {
   "source": [
    "# Azure Cost Management\n",
    "---\n",
    "\n",
    "Azure Cost Management + Billing helps you understand your Azure invoice (bill), manage your billing account and subscriptions, monitor and control Azure spending and optimize resource use. Learn how to analyze costs, create and manage budgets, export data, and review and act on recommendations."
   ],
   "cell_type": "markdown",
   "metadata": {}
  },
  {
   "source": [
    "# F2) Describe Azure Service Level Agreements (SLAs) And Service Lifecycles\n",
    "---\n",
    "\n",
    " * Describe the purpose of an Azure Service Level Agreement (SLA).\n",
    " * Identify actions that can impact an SLA (i.e. Availability Zones).\n",
    " * Describe the service lifecycle in Azure (Public Preview and General Availability)."
   ],
   "cell_type": "markdown",
   "metadata": {}
  },
  {
   "source": [
    "# Azure Service Level Agreement (SLA)\n",
    "---\n",
    "\n",
    "https://azure.microsoft.com/en-us/support/legal/sla/ "
   ],
   "cell_type": "markdown",
   "metadata": {}
  },
  {
   "source": [
    "# Azure Preview Features\n",
    "---\n",
    "\n",
    "Azure preview features:\n",
    "\n",
    " * Are for testing and should not be used in production.\n",
    " * Have no SLA.\n",
    " * Can change significantly before going live.\n",
    " * May not go live.\n",
    "\n",
    "There are public and private previews. The private previews requires registration.\n",
    "\n",
    "WHen a service in preview gets approved, then it proceeds to General Availability (GA). "
   ],
   "cell_type": "markdown",
   "metadata": {}
  }
 ]
}