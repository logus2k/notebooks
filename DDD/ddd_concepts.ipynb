{
 "metadata": {
  "language_info": {
   "codemirror_mode": {
    "name": "ipython",
    "version": 3
   },
   "file_extension": ".py",
   "mimetype": "text/x-python",
   "name": "python",
   "nbconvert_exporter": "python",
   "pygments_lexer": "ipython3",
   "version": 3
  },
  "orig_nbformat": 2
 },
 "nbformat": 4,
 "nbformat_minor": 2,
 "cells": [
  {
   "source": [
    "# Domain-Driven Design\n",
    "---\n",
    "# CONCEPTS"
   ],
   "cell_type": "markdown",
   "metadata": {}
  },
  {
   "source": [
    "# Aggregate\n",
    "---\n",
    "\n",
    "An Aggregate is a cluster of associated objects that we treat as a unit for the purpose of data changes.\n",
    "\n",
    "Each Aggregate has a root and a boundary. The boundary defines what is inside the Aggregate. The root is a single, specific Entity contained in the Aggregate. The root is the only member of the Aggregate that outside objects are allowed to hold references to, although objects within the boundary may hold references to each other.\n",
    "\n",
    "Entities other than the root have local identity, but that identity needs to be distinguishable only within the Aggregate, because no outside object can ever see it out of the context of the root Entity. "
   ],
   "cell_type": "markdown",
   "metadata": {}
  },
  {
   "source": [
    "# Bounded Context\n",
    "---\n",
    "\n",
    "A bounded context is a part of the software where particular terms, definitions and rules apply consistently. These are human-made artifacts, so won't have 100% consistency, and that's ok. However, the separation between boundaries must be clear enough so that a developer is able to know if they are inside or outside of the boundary.\n",
    "\n",
    "We use bounded contexts to reduce coupling, generally at the cost of some redundancy."
   ],
   "cell_type": "markdown",
   "metadata": {}
  },
  {
   "source": [
    "# Domain\n",
    "---\n",
    "\n",
    "A domain is a sphere of knowledge or activity."
   ],
   "cell_type": "markdown",
   "metadata": {}
  },
  {
   "source": [
    "# Model\n",
    "---\n",
    "\n",
    "A model is a system of abstractions representing selected aspects of a domain.\n",
    "\n",
    "The critical complexity of many software projects is in understanding the domain itself. A model is not neutral, it distills knowledge and assumptions about a domain.\n",
    "\n",
    "A model needs to serve some use. Usefulness is specific to a particular set of scenarios. A scenario is a story about the business.\n",
    "\n",
    "A model is not just a set of concepts, it also includes the relations between the concepts."
   ],
   "cell_type": "markdown",
   "metadata": {}
  },
  {
   "source": [
    "# Ubiquitous Language\n",
    "---\n",
    "\n",
    "A language structured around the domain model and used by all team members to connect all the activities of the team with the software.\n",
    "\n",
    "An important note is the language in ubiquitous within a bounded context, but it is not ubiquitous for the whole system. So, a system is made of several models with distict languages, and the assembly of those models provide us the whole solution."
   ],
   "cell_type": "markdown",
   "metadata": {}
  }
 ]
}