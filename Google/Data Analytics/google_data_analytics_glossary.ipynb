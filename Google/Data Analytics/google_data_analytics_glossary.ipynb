{
 "metadata": {
  "language_info": {
   "codemirror_mode": {
    "name": "ipython",
    "version": 3
   },
   "file_extension": ".py",
   "mimetype": "text/x-python",
   "name": "python",
   "nbconvert_exporter": "python",
   "pygments_lexer": "ipython3",
   "version": "3.8.5"
  },
  "orig_nbformat": 2,
  "kernelspec": {
   "name": "python3",
   "display_name": "Python 3.8.5 64-bit ('NOTB')"
  },
  "metadata": {
   "interpreter": {
    "hash": "1baa965d5efe3ac65b79dfc60c0d706280b1da80fedb7760faf2759126c4f253"
   }
  },
  "interpreter": {
   "hash": "64705722d42f224bd33248ac4d89ee0cc4919d550576e75df27cbc314ff16140"
  }
 },
 "nbformat": 4,
 "nbformat_minor": 2,
 "cells": [
  {
   "source": [
    "![Google Logo](images\\google.png \"Google Logo\")\n",
    "\n",
    "# Google Data Analytics Professional Certificate\n",
    "---\n",
    "# GLOSSARY"
   ],
   "cell_type": "markdown",
   "metadata": {}
  },
  {
   "source": [
    "# Absolute Reference\n",
    "---\n",
    "\n",
    "An absolute reference is a reference that is locked so that rows and columns won't change when copied."
   ],
   "cell_type": "markdown",
   "metadata": {}
  },
  {
   "source": [
    "# Accessibility\n",
    "---\n",
    "\n",
    "Accessbility is about creating data visualizations, graphs, charts, tables that anyone can interact with, whether they have a long-term or even a temporary form of impairment.\n",
    "\n",
    "By focusing on accessibility, by focusing on the audience, by making it more inclusive, you're making your data clear and more impactful for everyone."
   ],
   "cell_type": "markdown",
   "metadata": {}
  },
  {
   "source": [
    "# Accessible Data Visualization\n",
    "---\n",
    "\n",
    "These are ways to make a data visualization accessible:\n",
    "\n",
    "* Labeling\n",
    "* Text alternatives\n",
    "* Text-based format\n",
    "* Distinguishing\n",
    "* Simplify"
   ],
   "cell_type": "markdown",
   "metadata": {}
  },
  {
   "source": [
    "# Action-Oriented Question\n",
    "---\n",
    "\n",
    "An action-oriented question is a question whose answers lead to change. "
   ],
   "cell_type": "markdown",
   "metadata": {}
  },
  {
   "source": [
    "# Aesthetic (R)\n",
    "---\n",
    "\n",
    "In R programming language, more specifically in ggplot2, aesthetic is a visual property of an object in a plot. Aesthetic can be thought of as a connection or mapping between a visual feature in a plot and a variable in data.\n",
    "\n",
    "There are three aesthetic attributes in ggplot2:\n",
    "\n",
    " * __Color__: Change the color of all of the points on your plot, or the color of each data group.\n",
    " * __Size__: Change the size of the points on your plot by data group.\n",
    " * __Shape__: Change the shape of the points on your plot by data group."
   ],
   "cell_type": "markdown",
   "metadata": {}
  },
  {
   "source": [
    "# Agenda\n",
    "---\n",
    "\n",
    "A list of scheduled appointments."
   ],
   "cell_type": "markdown",
   "metadata": {}
  },
  {
   "source": [
    "# Aggregation\n",
    "---\n",
    "\n",
    "Aggregation means collecting or gathering many separate pieces into a whole."
   ],
   "cell_type": "markdown",
   "metadata": {}
  },
  {
   "source": [
    "# Aliasing\n",
    "---\n",
    "\n",
    "Aliasing is when you temporarily name a table or column in your query to make it easier to read and write. Because these names are temporary, they only last for the given query. In SQL queries, aliases are implemented by making use of the AS command.\n",
    "\n",
    "## Syntax\n",
    "\n",
    "### Aliasing a table\n",
    "\n",
    "SELECT column_name(s) FROM table_name __AS__ alias_name;\n",
    "\n",
    "### Aliasing a column\n",
    "\n",
    "SELECT column_name __AS__ alias_name FROM table_name;"
   ],
   "cell_type": "markdown",
   "metadata": {}
  },
  {
   "source": [
    "# Algorithm\n",
    "---\n",
    "\n",
    "An algorithm is a process or set of rules to be followed for a specific task."
   ],
   "cell_type": "markdown",
   "metadata": {}
  },
  {
   "source": [
    "# Alternative Text\n",
    "---\n",
    "\n",
    "Alternative text provides a textual alternative to non-text content."
   ],
   "cell_type": "markdown",
   "metadata": {}
  },
  {
   "source": [
    "# Analysis\n",
    "---\n",
    "\n",
    "Analysis is the process used to make sense of the data collected. It means taking the right steps to proceed and think about your data in different ways.\n",
    "\n",
    "The goal of analysis is to identify trends and relationships within the data so that you can accurately answer the question you're asking.\n",
    "\n",
    "The four phases of analysis are:\n",
    "\n",
    " 1. __Organize data__: It is super important that you keep your data organized throughout your analysis. How your data is classified and structured will impact your findings, whether you're working in a spreadsheet or a database. Most of the data you'll use in your analysis will be organized in tables.\n",
    " \n",
    " Tables help you organize similar kinds of data into categories and subject areas that you can focus on as you analyze. Each table then has several fields of data, like branch owner and the cost of repair parts. You can use these tables and fields to help you decide how to move forward with your analysis. The structure of this database can help you decide which data you need to pull to meet your objectives. For example, the total number of a particular brand of car sold, or a repair part for a specific make and model of a car at a certain branch.\n",
    "\n",
    " Tables also allow you to make decisions about data types. They help you to figure out what variables you need and the data type those variables should have.\n",
    " \n",
    " 2. __Format and adjust data__: formatting data streamlines things and saves time. Scrolling through hundreds of gifts can be time-consuming. Instead, you can adjust the data in a way that makes it easy to digest by filtering and sorting it.\n",
    "\n",
    " 3. __Get input from others__: When analyzing data, gaining input from others is important because it gives you a viewpoint you might not understand or have access to. On top of gaining input from other people, it's also important to seek out others' perspectives early. That way, if they predict any obstacles or challenges, you'll know beforehand. The people you'll look to for input don't have to be experts to be helpful. Sometimes all you need is for someone who's familiar with a topic or data you're considering.\n",
    " \n",
    " 4. __Transform data__: Transforming data means identifying relationships and patterns between the data, and making calculations based on the data you have."
   ],
   "cell_type": "markdown",
   "metadata": {}
  },
  {
   "source": [
    "# Analytical Skills\n",
    "---\n",
    "\n",
    "Analytical skills are qualities and characteristics associated with using facts to solve problems.\n",
    "\n",
    "Although there are a lot of aspects to analytical skills, it is possible to summarize on five essential points:\n",
    "\n",
    "## Curiosity\n",
    "\n",
    "Curiosity is all about wanting to learn something. Curious people usually seek out new challenges and experiences. This leads to knowledge. The very fact that you're here with me right now demonstrates that you have curiosity. That was an easy one.\n",
    "\n",
    "## Understanding context\n",
    "\n",
    "Context is the condition in which something exists or happens. This can be a structure or an environment. Listening and trying to understand the full picture is critical. In your own life, you put things into context all the time. For example, think about your grocery list. If you group together items like flour, sugar, and yeast, that's you adding context to your groceries. This saves you time when you're at the baking aisle at the grocery store. Let's look at another example. Have you ever shuffled a deck of cards and noticed the joker? If you're playing a game that doesn't include jokers, identifying that card means you understand it's out of context. Remove it, and you're much more likely to play a successful game.\n",
    "\n",
    "## Having a technical mindset\n",
    "\n",
    "A technical mindset involves the ability to break things down into smaller steps or pieces and work with them in an orderly and logical way. For instance, when paying your bills, you probably already break down the process into smaller steps. Maybe you start by sorting them by the date they're due. Next, you might add them up and compare that amount to the balance in your bank account. This would help you see if you can pay your bills now, or if you should wait until the next paycheck. Finally, you'd pay them. When you take something that seems like a single task, like paying your bills, and break it into smaller steps with an orderly process, that's using a technical mindset.\n",
    "\n",
    "## Data design\n",
    "\n",
    "Data design is how you organize information. As a data analyst, design typically has to do with an actual database. But, again, the same skills can easily be applied to everyday life. For example, think about the way you organize the contacts in your phone. That's actually a type of data design. Maybe you list them by first name instead of last, or maybe you use email addresses instead of their names. What you're really doing is designing a clear, logical list that lets you call or text a contact in a quick and simple way.\n",
    "\n",
    "## Data strategy\n",
    "\n",
    "Data strategy is the management of the people, processes, and tools used in data analysis. You manage people by making sure they know how to use the right data to find solutions to the problem you're working on. For processes, it's about making sure the path to that solution is clear and accessible. For tools, you make sure the right technology is being used for the job. Imagine mowing a lawn. Step 1 would be reading the owner's manual for the mower. That's making sure the people involved, or you, in this example, know how to use the data available. The manual would instruct you to put on protective eyewear and closed-toe shoes. Then, it's on to step 2: making the process, the path, clear and accessible. This will involve you walking around the lawn, picking up large sticks or rocks that might get in your way. Finally, for step 3, you check the lawn mower, your tool, to make sure it has enough gas and oil, and is in working condition, so the lawn can be mown safely."
   ],
   "cell_type": "markdown",
   "metadata": {}
  },
  {
   "source": [
    "# Analytical Skills\n",
    "---\n",
    "\n",
    "Analytical skills are qualities and characteristics associated with using facts to solve problems."
   ],
   "cell_type": "markdown",
   "metadata": {}
  },
  {
   "source": [
    "# Analytical Thinking\n",
    "---\n",
    "\n",
    "Analytical thinking is the process of identifying and defining a problem, and then solving it by using data in an organized, step-by-step manner. The five key aspects to thinking analytically are:\n",
    "\n",
    " 1. Visualization: the graphical representation of information, e.g. using graphs, maps, etc.\n",
    " 2. Strategy: know what to achieve with the data, and how to get there.\n",
    " 3. Problem-orientation: identify, describe, and solve problems.\n",
    " 4. Correlation: being able to identify a correlation between two or more pieces of data. However, correlation does not mean causation.\n",
    " 5. Big-picture and detail-oriented thinking: being able to see the big picture, as well as the details."
   ],
   "cell_type": "markdown",
   "metadata": {}
  },
  {
   "source": [
    "# Analyst Job Descriptions\n",
    "---\n",
    "\n",
    "The data analyst role is one of many job titles that contain the word “analyst.” \n",
    "\n",
    "To name a few others that sound similar but may not be the same role:\n",
    "\n",
    " * Business analyst: analyzes data to help businesses improve processes, products, or services\n",
    " * Business intelligence analyst: analyzes data for finance or market insights\n",
    " * Data analytics consultant: analyzes the systems and models for using data\n",
    " * Data engineer: prepares and integrates data from different sources for analytical use\n",
    " * Data scientist: uses expert skills in technology and social science to find trends through data analysis\n",
    " * Data specialist: organizes or converts data for use in databases or software systems\n",
    " * Operations analyst: analyzes data to assess the performance of business operations and workflows\n",
    "\n",
    "Data analysts, data scientists, and data specialists sound very similar but focus on different tasks. As you start to browse job listings online, you might notice that companies’ job descriptions seem to combine these roles or look for candidates who may have overlapping skills. The fact that companies often blur the lines between them means that you should take special care when reading the job descriptions and the skills required. \n",
    "\n",
    "The table below illustrates some of the overlap and distinctions between them:\n",
    "\n",
    "![Analyst Job Descriptions](images\\analyst_job_descriptions.png \"Analyst Job Descriptions\")"
   ],
   "cell_type": "markdown",
   "metadata": {}
  },
  {
   "source": [
    "# Annotate\n",
    "---\n",
    "\n",
    "Annotate refers to adding notes to a document or diagram to explain or comment upon it."
   ],
   "cell_type": "markdown",
   "metadata": {}
  },
  {
   "source": [
    "# Argument (R)\n",
    "---\n",
    "\n",
    "In R programming language, an argument is information that a function needs in order to run."
   ],
   "cell_type": "markdown",
   "metadata": {}
  },
  {
   "source": [
    "# Array\n",
    "---\n",
    "\n",
    "In a spreadsheet, an array is a collection of values in cells."
   ],
   "cell_type": "markdown",
   "metadata": {}
  },
  {
   "source": [
    "# Assignment Operator (R)\n",
    "---\n",
    "\n",
    "In R programming language, an assignment operator is used to assign values to variables and vectors."
   ],
   "cell_type": "markdown",
   "metadata": {}
  },
  {
   "source": [
    "# Attribute\n",
    "---\n",
    "\n",
    "A characteristic or quality of data used to label a column in a table."
   ],
   "cell_type": "markdown",
   "metadata": {}
  },
  {
   "source": [
    "# Audio File\n",
    "---\n",
    "\n",
    "An audio file is digited audio storage usually in an MP3, AAC, or other compressed format."
   ],
   "cell_type": "markdown",
   "metadata": {}
  },
  {
   "source": [
    "# AVERAGE\n",
    "---\n",
    "\n",
    "AVERAGE is a spreadsheet function that return an average of the values from a selected range of cells.\n",
    "\n",
    "## Syntax\n",
    "\n",
    "=AVERAGE(range)"
   ],
   "cell_type": "markdown",
   "metadata": {}
  },
  {
   "source": [
    "# Bias\n",
    "---\n",
    "\n",
    "Bias is a conscious or subconscious preference in favor of or against a person, group of people, or thing. It is a systematic error introduced into sampling or testing by doing a personal and sometimes unreasoned judgment, or selecting or encouraging one outcome or answer over others. Bias effects the way we collect, and make sense of the data.\n",
    "\n",
    "There are several types of bias, for example:\n",
    "\n",
    " * Sampling bias: a sample that is not representative of the population as a whole.\n",
    " * Observer bias (experimenter bias/research bias): the tendency for different people to observe things differently.\n",
    " * Interpretation bias: the tendency to always interpret ambiguous situations in a positive or negative way.\n",
    " * Confirmation bias: the tendency to search for or interpret information in a way that confirms pre-existing beliefs."
   ],
   "cell_type": "markdown",
   "metadata": {}
  },
  {
   "source": [
    "# Big And Small Data\n",
    "---\n",
    "\n",
    "Small data can be really small. These kinds of data tend to be made up of datasets concerned with specific metrics over a short, well defined period of time. Like how much water you drink in a day. Small data can be useful for making day-to-day decisions, like deciding to drink more water. But it doesn't have a huge impact on bigger frameworks like business operations. You might use spreadsheets to organize and analyze smaller datasets when you first start out.\n",
    "\n",
    "Big data involves large, complex datasets typically involving long periods of time, which enable data analysts to address far-reaching business problems. WHen comparing to small data, big data has larger, less specific datasets that cover a longer period of time. They usually have to be broken down to be analyzed. Big data is useful for looking at large scale questions and problems, and they help companies make big decisions.\n",
    "\n",
    "![Big And Small Data](images\\big_small_data.png \"Big And Small Data\")\n",
    "\n",
    "## Challenges and benefits\n",
    "\n",
    "Here are some challenges you might face when working with big data:\n",
    "\n",
    " * A lot of organizations deal with data overload and way too much unimportant or irrelevant information. \n",
    " * Important data can be hidden deep down with all of the non-important data, which makes it harder to find and use. This can lead to slower and more inefficient decision-making time frames.\n",
    " * The data you need isn’t always easily accessible. \n",
    " * Current technology tools and solutions still struggle to provide measurable and reportable data. This can lead to unfair algorithmic bias. \n",
    " * There are gaps in many big data business solutions.\n",
    "\n",
    "Here are some benefits that come with big data:\n",
    "\n",
    " * When large amounts of data can be stored and analyzed, it can help companies identify more efficient ways of doing business and save a lot of time and money.\n",
    " * Big data helps organizations spot the trends of customer buying patterns and satisfaction levels, which can help them create new products and solutions that will make customers happy.\n",
    " * By analyzing big data, businesses get a much better understanding of current market conditions, which can help them stay ahead of the competition.\n",
    " * As in our earlier social media example, big data helps companies keep track of their online presence—especially feedback, both good and bad, from customers. This gives them the information they need to improve and protect their brand.\n",
    "\n",
    "## The three (or four) V words for big data\n",
    "\n",
    "When thinking about the benefits and challenges of big data, it helps to think about the three Vs: __volume__, __variety__, and __velocity__. Volume describes the amount of data. Variety describes the different kinds of data. Velocity describes how fast the data can be processed. Some data analysts also consider a fourth V: __veracity__. Veracity refers to the quality and reliability of the data. These are all important considerations related to processing huge, complex data sets.\n",
    "\n",
    "![Four Vs of Data](images\\four_vs.png \"Four Vs of Data\")"
   ],
   "cell_type": "markdown",
   "metadata": {}
  },
  {
   "source": [
    "# Boolean Data\n",
    "---\n",
    "\n",
    "Boolean data is a data type with only two possible values, usually true or false."
   ],
   "cell_type": "markdown",
   "metadata": {}
  },
  {
   "source": [
    "# Borders\n",
    "---\n",
    "\n",
    "On a spreadsheet, borders are lines that can be added around two or more cells."
   ],
   "cell_type": "markdown",
   "metadata": {}
  },
  {
   "source": [
    "# Business Analytics\n",
    "---\n",
    "\n",
    "The use of math and statistics to derive meaning from data in order to make better business decisions.\n",
    "\n",
    "There are three key types of business analytics: descriptive, predictive, and prescriptive. Descriptive analytics is the interpretation of historical data to identify trends and patterns, while predictive analytics centers on taking that information and using it to forecast future outcomes. In the case of prescriptive analytics, testing and other techniques are employed to determine which outcome will yield the best result in a given scenario."
   ],
   "cell_type": "markdown",
   "metadata": {}
  },
  {
   "source": [
    "# Business Task\n",
    "---\n",
    "\n",
    "A business task is the question or problem data analysis answers for a business."
   ],
   "cell_type": "markdown",
   "metadata": {}
  },
  {
   "source": [
    "# Calculated Field\n",
    "---\n",
    "\n",
    "A calculated field is a new field within a pivot table that carries out certain calculations based on the values of other fields."
   ],
   "cell_type": "markdown",
   "metadata": {}
  },
  {
   "source": [
    "# CASE\n",
    "---\n",
    "\n",
    "The CASE statement is a SQL command that goes through one or more conditions and returns a value as soon as a condition is met. It returns records with your conditions by allowing you to include if/then statements in your query."
   ],
   "cell_type": "markdown",
   "metadata": {}
  },
  {
   "source": [
    "# Case Study\n",
    "---\n",
    "\n",
    "A case study is a common way for employers to assess job skills and gain insight into how you approach common data related challenges."
   ],
   "cell_type": "markdown",
   "metadata": {}
  },
  {
   "source": [
    "# CAST\n",
    "---\n",
    "\n",
    "CAST is a SQL function that can be used to convert anything from one data type to another.\n",
    "\n",
    "![CAST Function](images\\cast.png \"CAST Function\")"
   ],
   "cell_type": "markdown",
   "metadata": {}
  },
  {
   "source": [
    "# Cell Reference\n",
    "---\n",
    "\n",
    "A cell reference is a cell or a range of cells in a worksheet typically used in formulas and functions."
   ],
   "cell_type": "markdown",
   "metadata": {}
  },
  {
   "source": [
    "# Changelog\n",
    "---\n",
    "\n",
    "A changelog is a file containing a chronologically ordered list of modifications made to a project. It's usually organized by version and includes the date followed by a list of added, improved, and removed features.\n",
    "\n",
    "Changelogs are very useful for keeping track of how a dataset evolved over the course of a project. They're also another great way to communicate and report on data to others.\n",
    "\n",
    "Typically, a changelog records this type of information:  \n",
    "\n",
    " * Data, file, formula, query, or any other component that changed.\n",
    " * Description of what changed.\n",
    " * Date of the change.\n",
    " * Person who made the change.\n",
    " * Person who approved the change.\n",
    " * Version number.\n",
    " * Reason for the change."
   ],
   "cell_type": "markdown",
   "metadata": {}
  },
  {
   "source": [
    "# Clean Data\n",
    "---\n",
    "\n",
    "Clean data is data that is complete, correct, and relevant to the problem you are trying to solve. It allows you to understand and analyze information, identify important patterns, connect related information, and draw useful conclusions."
   ],
   "cell_type": "markdown",
   "metadata": {}
  },
  {
   "source": [
    "# Clear Communication\n",
    "---\n",
    "\n",
    "When you're getting ready to send an e-mail, organize some meeting, or put together a presentation, think about:\n",
    "\n",
    " * Who your audience is?\n",
    " * What they already know?\n",
    " * What they need to know?\n",
    " * How can you best communicate what they need to know?\n",
    "\n",
    "When you communicate thoughtfully and think about your audience first, you'll build better relationships and trust with your team members and stakeholders. That's important because those relationships are key to the project's success and your own too."
   ],
   "cell_type": "markdown",
   "metadata": {}
  },
  {
   "source": [
    "# Cloud\n",
    "---\n",
    "\n",
    "The cloud refers to a place where we can keep the data, to be available online, rather than in a local computer hard-drive."
   ],
   "cell_type": "markdown",
   "metadata": {}
  },
  {
   "source": [
    "# COALESCE\n",
    "---\n",
    "\n",
    "COALESCE is a SQL function that can be used to return non-null values in a list."
   ],
   "cell_type": "markdown",
   "metadata": {}
  },
  {
   "source": [
    "# Code Chunk (R)\n",
    "---\n",
    "\n",
    "In R programming language, specifically in R Markdown, a code chunk is code added to a .Rmd file."
   ],
   "cell_type": "markdown",
   "metadata": {}
  },
  {
   "source": [
    "# Coding\n",
    "---\n",
    "\n",
    "Coding is writing instructions to the computer in the syntax of a specific programming language."
   ],
   "cell_type": "markdown",
   "metadata": {}
  },
  {
   "source": [
    "# Comma-Separated Values (CSV)\n",
    "---\n",
    "\n",
    "A comma-separated file saves data in a table format. CSVs use plain text and they're delineated by characters. A delineator indicates a boundary or separation between two things, so that each column or field is clearly distinct from another when importing."
   ],
   "cell_type": "markdown",
   "metadata": {}
  },
  {
   "source": [
    "# Compatibility\n",
    "---\n",
    "\n",
    "Compatibility is how well two or more datasets are able to work together."
   ],
   "cell_type": "markdown",
   "metadata": {}
  },
  {
   "source": [
    "# Computer Programming\n",
    "---\n",
    "\n",
    "Computer programming refers to giving instructions to a computer to perform an action or set of actions."
   ],
   "cell_type": "markdown",
   "metadata": {}
  },
  {
   "source": [
    "# CONCAT\n",
    "---\n",
    "\n",
    "CONCAT is a SQL function that adds strings together to create new text strings, for example, that can be used as unique keys."
   ],
   "cell_type": "markdown",
   "metadata": {}
  },
  {
   "source": [
    "# CONCATENATE\n",
    "---\n",
    "\n",
    "CONCATENATE is a spreadsheet function that joins together two or more text strings.\n",
    "\n",
    "## Syntax\n",
    "\n",
    "=CONCATENATE(item 1, item 2)"
   ],
   "cell_type": "markdown",
   "metadata": {}
  },
  {
   "source": [
    "# Conditional Formatting\n",
    "---\n",
    "\n",
    "Conditional formatting is a spreadsheet tool that changes how cells appear when values meet specific conditions."
   ],
   "cell_type": "markdown",
   "metadata": {}
  },
  {
   "source": [
    "# Confidence Level\n",
    "---\n",
    "\n",
    "The confidence level is the probability that your sample size accurately reflects the greater population.\n",
    "\n",
    "Column | Column\n",
    "------ | ------\n",
    "Cell   | Cell\n",
    "\n",
    "Having a $99$% confidence level is ideal. But most industries hope for at least a %90% or %95%% confidence level.\n",
    "\n",
    "For example, industries like pharmaceuticals usually want a confidence level that's as high as possible when they are using a sample size. This makes sense because they're testing medicines and need to be sure they work and are safe for everyone to use."
   ],
   "cell_type": "markdown",
   "metadata": {}
  },
  {
   "source": [
    "# Context\n",
    "---\n",
    "\n",
    "Context is the condition in which something exists or happens.\n",
    "\n",
    "In the world of data, numbers don't mean much without context. We can leverage data in increasingly sophisticated ways, and generate more powerful insights from it.\n",
    "\n",
    "We use data at many different levels. Sometimes our data is descriptive, answering questions like, how much do we spend on travel last month? Data becomes more valuable, as we generate diagnostic and predictive insights, like understanding why travel spend increased last month. Data is most valuable, however, when we can generate prescriptive insights. For example, how can we leverage data to incentivize more efficient travel?\n",
    "\n",
    "Figuring out what data means, is just as important as collecting it. A big part of the data analyst job, is putting data into context.\n",
    "\n",
    "![Context](images\\context.png \"Context\")\n",
    "\n",
    "Context can turn raw data into meaningful information. It is very important for data analysts to contextualize their data. This means giving the data perspective by defining it.\n",
    "\n",
    "For example, when you collect data, you’ll also want to ask questions about the context to make sure that you understand the business and business process. During organization, the context is important for your naming conventions, how you choose to show relationships between variables, and what you choose to keep or leave out. And finally, when you present, it is important to include contextual information so that your stakeholders understand your analysis.\n",
    "\n",
    "To do this, you need to identify:\n",
    "\n",
    " * __Who__: The person or organization that created, collected, and/or funded the data collection.\n",
    " * __What__: The things in the world that data could have an impact on.\n",
    " * __Where__: The origin of the data.\n",
    " * __When__: The time when the data was created or collected.\n",
    " * __Why__: The motivation behind the creation or collection.\n",
    " * __How__: The method used to create or collect it.\n",
    "\n",
    "Here are some questions to help you get started: \n",
    "\n",
    " * What is the problem? \n",
    " * Can it be solved with data? If so, what data?\n",
    " * Where is this data? Does it exist, or do you need to collect it?\n",
    " * Are you using private data that someone will need to give you access to, or publicly available data?\n",
    " * Who are the relevant sponsors and stakeholders for this project? Who is involved, and how?\n",
    " * What are the boundaries for your project? What do you consider “in-scope?” What do you consider “out-of-scope?”\n",
    " * Is there any other information you think is relevant to the project? \n",
    " * Is there any information you need or questions you need answered  before you can begin?"
   ],
   "cell_type": "markdown",
   "metadata": {}
  },
  {
   "source": [
    "# CONVERT\n",
    "---\n",
    "\n",
    "CONVERT is a spreadsheet function that converts a number from a measurement system to another.\n",
    "\n",
    "## Syntax\n",
    "\n",
    "=CONVERT(number, from_unit, to_unit)"
   ],
   "cell_type": "markdown",
   "metadata": {}
  },
  {
   "source": [
    "# Correlation And Causation\n",
    "---\n",
    "\n",
    "![Correlation And Causation](images\\correlation_causation.png \"Correlation And Causation\")\n",
    "\n",
    "When you make conclusions from data analysis, you need to make sure that you don’t assume a causal relationship between elements of your data when there is only a correlation. When your data shows that outdoor temperature and ice cream consumption both go up at the same time, it might be tempting to conclude that hot weather causes people to eat ice cream. But, a closer examination of the data would reveal that every change in temperature doesn’t lead to a change in ice cream purchases. In addition, there might have been a sale on ice cream at the same time that the data was collected, which might not have been considered in your analysis.\n",
    "\n",
    "In your data analysis, remember to: \n",
    "\n",
    " * Critically analyze any correlations that you find.\n",
    " * Examine the data’s context to determine if a causation makes sense (and can be supported by all of the data).\n",
    " * Understand the limitations of the tools that you use for analysis.\n",
    "\n",
    "## Correlation\n",
    "\n",
    "In statistics, correlation is the measure of the degree to which two variables move in relationship to each other.\n",
    "\n",
    "An example of correlation is the idea that “as the temperature goes up, ice cream sales also go up”. It is important to remember that correlation doesn’t mean that one event causes another. But, it does indicate that they affect each other positively or negatively.\n",
    "\n",
    "If one variable goes up and the other variable also goes up, it is a positive correlation. If one variable goes up and the other variable goes down, it is a negative correlation.\n",
    "\n",
    "## Causation\n",
    "\n",
    "Causation, or cause-effect relationship, occurs when an action directly leads to an outcome.\n",
    "\n",
    "For example, when lightning strikes, we hear the thunder (sound wave) caused by the air heating and cooling from the lightning strike. Lightning causes thunder.\n",
    "\n",
    "### More Examples\n",
    "\n",
    "Pellagra is a disease with symptoms of dizziness, sores, vomiting, and diarrhea. In the early 1900s, people thought that the disease was caused by unsanitary living conditions. Most people who got pellagra also lived in unsanitary environments. But, a closer examination of the data showed that pellagra was the result of a lack of niacin (Vitamin B3). Unsanitary conditions were related to pellagra because most people who couldn’t afford to purchase niacin-rich foods also couldn’t afford to live in more sanitary conditions. But, dirty living conditions turned out to be a correlation only.\n",
    "\n",
    "Suppose you are working for a government agency that provides food stamps. You noticed from the agency’s Google Analytics that people who qualify for food stamps are browsing the official website, but they are leaving the site without signing up for benefits. You think that the people visiting the site are leaving because they aren’t finding the information they need to sign up for food stamps. Google Analytics can help you find clues (correlations), like the same people coming back many times or how quickly people leave the page. One of those correlations might lead you to the actual cause, but you will need to collect additional data, like in a survey, to know exactly why people coming to the site aren’t signing up for food stamps. Only then can you figure out how to increase the sign-up rate."
   ],
   "cell_type": "markdown",
   "metadata": {}
  },
  {
   "source": [
    "# Correlation Chart\n",
    "---\n",
    "\n",
    "A correlation chart shows relationships among data.\n",
    "\n",
    "## Example\n",
    "\n",
    "![Correlation Chart Example](images\\correlation_chart.png \"Correlation Chart Example\")"
   ],
   "cell_type": "markdown",
   "metadata": {}
  },
  {
   "source": [
    "# COUNT (Spreadsheet)\n",
    "---\n",
    "\n",
    "COUNT is a spreadsheet function that can be used to count the total number of numerical values within a specific range.\n",
    "\n",
    "## Syntax\n",
    "\n",
    "=COUNT(range)"
   ],
   "cell_type": "markdown",
   "metadata": {}
  },
  {
   "source": [
    "# COUNT (SQL)\n",
    "---\n",
    "\n",
    "COUNT is a query that returns the number of rows in a specified range."
   ],
   "cell_type": "markdown",
   "metadata": {}
  },
  {
   "source": [
    "# COUNT DISTINCT\n",
    "---\n",
    "\n",
    "COUNT DISTINCT is a query that only return the distinct values in a specified range. This means COUNT DISTINCT does not count repeating values.\n",
    "\n",
    "COUNT and COUNT DISTINCT are used anytime you need to answer questions about \"how many?\", for example: \"how many customers did this?\", or \"how many transactions where there this month?\", or \"how many dates are in this dataset?\"."
   ],
   "cell_type": "markdown",
   "metadata": {}
  },
  {
   "source": [
    "# COUNTA\n",
    "---\n",
    "\n",
    "COUNTA is a spreadsheet function that counts the number of values within a specified range."
   ],
   "cell_type": "markdown",
   "metadata": {}
  },
  {
   "source": [
    "# COUNTIF\n",
    "---\n",
    "\n",
    "COUNTIF is a spreadsheet function that returns the number of cells in a range that match a specified value.\n",
    "\n",
    "## Syntax\n",
    "\n",
    "=COUNTIF(range, \"value\")"
   ],
   "cell_type": "markdown",
   "metadata": {}
  },
  {
   "source": [
    "# COUNTIFS\n",
    "---\n",
    "\n",
    "COUNTIFS allows to use a COUNTIF spreadsheet function with multiple conditions.\n",
    "\n",
    "## Syntax\n",
    "\n",
    "=COUNTIFS(criteria_range1, criterion1, \\[criteria_range2, criterion2, ...\\])"
   ],
   "cell_type": "markdown",
   "metadata": {}
  },
  {
   "source": [
    "# CRAN (Comprehensive R Archive Network)\n",
    "---\n",
    "\n",
    "CRAN is an online archive with R packages, source code, manuals and documentation."
   ],
   "cell_type": "markdown",
   "metadata": {}
  },
  {
   "source": [
    "# Dashboard\n",
    "---\n",
    "\n",
    "A dashboard is a tool that organizes information from multiple datasets into one central location for tracking, analysis, and simple visualization through tables, charts and graphs.\n",
    "\n",
    "Dashboards constantly monitor live, incoming data. Dashboards are great for a lot of reasons, they give more access to information being recorded, you can interact through data by playing with filters, and because they're dynamic, they have long-term value. If stakeholders need to continually access information, a dashboard can be more efficient than having to pull reports over and over.\n",
    "\n",
    "Dashboards do have some cons too. They take a lot of time to design and can actually be less efficient than reports, if they're not used very often. If the base table breaks at any point, they need a lot of maintenance to get back up and running again. Dashboards can sometimes overwhelm people with information too. If you aren't used to looking through data on a dashboard, you might get lost in it.\n",
    "\n",
    "The following table summarizes the benefits of using a dashboard for both data analysts and their stakeholders:\n",
    "\n",
    "![Dashboard Benefits](images\\dashboard_benefits.png \"Dashboard Benefits\")\n",
    "\n",
    "In short, a dashboard is a single point of access for managing a business's information. It allows people to pull key information from data at a glance by visualizing the data in a way that makes things obvious or easy to understand.\n",
    "\n",
    "The three most common categories of dashboards are:\n",
    "\n",
    " * __Strategic__: Focuses on long term goals and strategies at the highest level of metrics.\n",
    " * __Operational__: Short-term performance tracking and intermediate goals.\n",
    " * __Analytical__: Consists of the datasets and the mathematics used in these sets.\n",
    "\n",
    "## Pros & Cons Of Live Data\n",
    "\n",
    "Pros:\n",
    "\n",
    "* Dashboards can be built to be more dynamic and scalable.\n",
    "* Gives the most up-to-date data to the people who need it at the time when they need it.\n",
    "* Allows for up-to-date curated views into data with the ability to build a scalable “single source of truth” for various use cases.\n",
    "* Allows for immediate action to be taken on data that changes frequently.\n",
    "* Alleviates time/resources spent on processes for every analysis.\n",
    "\n",
    "Cons:\n",
    "\n",
    "* Can take engineering resources to keep pipelines live and scalable, which may be outside the scope of some companies' data resource allocation.\n",
    "* Without the ability to interpret data, you can lose control of the narrative, which can cause data chaos (i.e. teams coming to conflicting conclusions based on the same data).\n",
    "* Can potentially cause a lack of trust if the data isn’t handled properly."
   ],
   "cell_type": "markdown",
   "metadata": {}
  },
  {
   "source": [
    "# Dashboard Filter\n",
    "---\n",
    "\n",
    "A dashboard filter is a tool for showing only the data that meets a specific criteria while hiding the rest."
   ],
   "cell_type": "markdown",
   "metadata": {}
  },
  {
   "source": [
    "# Data\n",
    "---\n",
    "\n",
    "Data is a collection of facts that can be used to draw conclusions, make predictions, and assist in decision-making. "
   ],
   "cell_type": "markdown",
   "metadata": {}
  },
  {
   "source": [
    "# Data-Inspired Decision-Making\n",
    "---\n",
    "\n",
    "Explores different data sources to find out what they have in common."
   ],
   "cell_type": "markdown",
   "metadata": {}
  },
  {
   "source": [
    "# Dataset\n",
    "---\n",
    "\n",
    "A collection of data that can be manipulated or analyzed as one unit."
   ],
   "cell_type": "markdown",
   "metadata": {}
  },
  {
   "source": [
    "# Data Analysis\n",
    "---\n",
    "\n",
    "Data Analysis is the collection, transformation, and organization of data in order to draw conclusions, make predictions, and drive informed decision-making."
   ],
   "cell_type": "markdown",
   "metadata": {}
  },
  {
   "source": [
    "# Data Analyst\n",
    "---\n",
    "\n",
    "A Data Analyst is someone who collects, transforms, and organizes data in order to draw conclusions, make predictions, and drive informed decision-making. While performing its activities, a Data Analyst is like an explorer, a detective and an artist all rolled into one."
   ],
   "cell_type": "markdown",
   "metadata": {}
  },
  {
   "source": [
    "# Data Analysis Process\n",
    "---\n",
    "\n",
    "Being a people analyst involves using data analysis to gain insights about employees and how they experience their work lives. The insights are used to define and create a more productive and empowering workplace. This can unlock employee potential, motivate people to perform at their best, and ensure a fair and inclusive company culture. \n",
    "\n",
    "The six steps of the data analysis process that you have been learning in this program are: ask, prepare, process, analyze, share, and act. These six steps apply to any data analysis.\n",
    "\n",
    "![Data Analysis Process](images\\data_analysis_process.png \"Data Analysis Process\")\n",
    "\n",
    "Continue reading to learn how a team of people analysts used these six steps to answer a concrete business question. \n",
    "\n",
    "An organization was experiencing a high turnover rate among new hires. Many employees left the company before the end of their first year on the job. The analysts used the data analysis process to answer the following question:\n",
    "\n",
    "_How can the organization improve the retention rate for new employees?_ \n",
    "\n",
    "Let’s break down what this team did, step-by-step:\n",
    "\n",
    "## Step 1\n",
    "---\n",
    "\n",
    "![Ask](images\\ask.png \"Ask\")\n",
    "\n",
    "As data analysts, we need to be thinking about the type of data we need in order to answer the questions that we have set out to answer, based on what we learned when we asked the right questions, e.g. we need to be thinking about what type of data we need to answer the key questions. This could be anything from quantitative data or qualitative data. It could be cross-sectional, or points in time versus longitudinal over a long period of time.\n",
    "\n",
    "In our example, the analysts needed to define what the project would look like and what would qualify as a successful result. To determine these things, they asked effective questions and collaborated with leaders and managers who were interested in the outcome of their people analysis.\n",
    "\n",
    "So, as analysts in the Ask phase, we need do two things:\n",
    "\n",
    " * __Define the problem to be solved__\n",
    "\n",
    " Defining a problem means you look at the current state and identify how it's different from the ideal state. Usually there's an obstacle we need to get rid of or something wrong that needs to be fixed. For instance, a sports arena might want to reduce the time fans spend waiting in the ticket line. The obstacle is figuring out how to get the customers to their seats more quickly.\n",
    "\n",
    " * __Make sure that we fully understand stakeholder expectations__\n",
    "\n",
    " The first step here is to __determine who the stakeholders are__. That may include your manager, an executive sponsor, or your sales partners. There can be lots of stakeholders. But what they all have in common is that they help make decisions, influence actions and strategies, and have specific goals they want to meet. They also care about the project and that's why it's so important to understand their expectations. For instance, if your manager assigns you a data analysis project related to business risk, it would be smart to confirm whether they want to include all types of risks that could affect the company, or just risks related to weather such as hurricanes and tornadoes.\n",
    " \n",
    " __Communicating with your stakeholders__ is key in making sure you stay engaged and on track throughout the project. So as a data analyst, developing strong communication strategies is very important. This part of the ask phase helps you keep focused on the problem itself, not just its symptoms. The Five Whys are extremely helpful here.\n",
    "\n",
    "### Summary\n",
    "\n",
    "It’s impossible to solve a problem if you don’t know what it is. These are some things to consider:\n",
    "\n",
    " * Define the problem you’re trying to solve \n",
    " * Make sure you fully understand the stakeholder’s expectations\n",
    " * Focus on the actual problem and avoid any distractions\n",
    " * Collaborate with stakeholders and keep an open line of communication\n",
    " * Take a step back and see the whole situation in context\n",
    "\n",
    "### Questions to ask yourself in this step\n",
    "\n",
    " * What are my stakeholders saying their problems are?\n",
    " * Now that I’ve identified the issues, how can I help the stakeholders resolve their questions?\n",
    "\n",
    "Additionally, these are three relevant questions to ask at the beggining of every project:\n",
    "\n",
    " 1. Who are the primary and secondary stakeholders?\n",
    " 2. Who is managing the data?\n",
    " 3. Where can you go for help?\n",
    "\n",
    "## Step 2\n",
    "---\n",
    "\n",
    "![Prepare](images\\prepare.png \"Prepare\")\n",
    "\n",
    "It all started with solid preparation. The group built a timeline of three months and decided how they wanted to relay their progress to interested parties. Also during this step, the analysts identified what data they needed to achieve the successful result they identified in the previous step - in this case, the analysts chose to gather the data from a survey of new employees. They identified specific questions to ask about employee satisfaction with different business processes, such as hiring, onboarding, and compensation. Rules were established for who would have access to the data collected, what specific information would be gathered, and how best to present the data visually. The analysts brainstormed possible project - and data-related issues and how to avoid them.\n",
    "\n",
    "In this phase, data analysts collect and store data they'll use for the upcoming analysis process. It is important that your data and results are objective and unbiased. In other words, any decisions made from your analysis should always be based on facts and be fair and impartial.\n",
    "\n",
    "### Summary\n",
    "\n",
    "You will decide what data you need to collect in order to answer your questions and how to organize it so that it is useful. You might use your business task to decide: \n",
    "\n",
    " * What metrics to measure\n",
    " * Locate data in your database\n",
    " * Create security measures to protect that data\n",
    "\n",
    "### Questions to ask yourself in this step\n",
    "\n",
    " * What do I need to figure out how to solve this problem?\n",
    " * What research do I need to do?\n",
    "\n",
    "## Step 3\n",
    "---\n",
    "\n",
    "![Process](images\\process.png \"Process\")\n",
    "\n",
    "The group sent the survey out. Great analysts know how to respect both their data and the people who provide it. Since employees provided the data, it was important to make sure all employees gave their consent to participate. The data analysts also made sure employees understood how their data would be collected, stored, managed, and protected. In order to maintain confidentiality and protect and store the data effectively, access was restricted to a limited number of analysts. Collecting and using data ethically is one of the responsibilities of a data analyst. Then the data was cleaned up to make sure it was complete, correct, and relevant, and uploaded to an internal data warehouse for an additional layer of security.\n",
    "\n",
    "During the Process phase, data analysts find and eliminate any errors and inaccuracies that can get in the way of results. This usually means cleaning data, transforming it into a more useful format, combining two or more datasets to make information more complete and removing outliers, which are any data points that could skew the information. After that, you'll learn how to check the data you prepare to make sure it's complete and correct. This phase is all about getting the details right. So you'll also fix typos, inconsistencies, or missing and inaccurate data. To top it off, you'll gain strategies for verifying and sharing your data cleansing with stakeholders.\n",
    "\n",
    "The Process phase is where you get a chance to understand the data structure, its quirks, its nuances, and you really get a chance to understand deeply what type of data you are going to be working with and understanding what potential the data has to answer all of your questions.\n",
    "\n",
    "### Summary\n",
    "\n",
    "Clean data is the best data and you will need to clean up your data to get rid of any possible errors, inaccuracies, or inconsistencies. This might mean:\n",
    "\n",
    " * Using spreadsheet functions to find incorrectly entered data \n",
    " * Using SQL functions to check for extra spaces\n",
    " * Removing repeated entries\n",
    " * Checking as much as possible for bias in the data\n",
    "\n",
    "### Questions to ask yourself in this step: \n",
    "\n",
    " * What data errors or inaccuracies might get in my way of getting the best possible answer to the problem I am trying to solve?\n",
    " * How can I clean my data so the information I have is more consistent?\n",
    "\n",
    "## Step 4\n",
    "---\n",
    "\n",
    "![Analyze](images\\analyze.png \"Analyze\")\n",
    "\n",
    "Then, the analysts did what they do best: analyze! From the completed surveys, the data analysts would discover that a new employee’s experience with the hiring process was a key indicator of overall job satisfaction. The analysts found that employees who experienced an efficient and transparent hiring process were most likely to remain with the company. Employees who experienced a long and complicated hiring process were most likely to leave the company. The group knew it was important to document exactly what they found in the analysis, no matter what the results. To do otherwise would decrease trust in the survey process and reduce their ability to collect truthful data from employees in the future.\n",
    "\n",
    "Analyzing the data you've collected involves using tools to transform and organize that information so that you can draw useful conclusions, make predictions, and drive informed decision-making. There are lots of powerful tools data analysts use in their work and that includes spreadsheets and Structured Query Language (SQL).\n",
    "\n",
    "### Summary\n",
    "\n",
    "You will want to think analytically about your data. At this stage, you might sort and format your data to make it easier to: \n",
    "\n",
    " * Perform calculations\n",
    " * Combine data from multiple sources\n",
    " * Create tables with your results\n",
    "\n",
    "### Questions to ask yourself in this step\n",
    "\n",
    " * What story is my data telling me?\n",
    " * How will my data help me solve this problem?\n",
    " * Who needs my company’s product or service? What type of person is most likely to use it?\n",
    "\n",
    "## Step 5\n",
    "---\n",
    "\n",
    "![Share](images\\share.png \"Share\")\n",
    "\n",
    "Just as they made sure the data was carefully protected, the analysts were also careful sharing the report. For example, in order for a manager to receive the survey report, a minimum number of their team members had to have participated in the survey. The group presented the results to leaders first to make sure they had the full picture, then asked them to deliver the results to their teams. This gave leaders an opportunity to communicate the results with the right context and have productive team conversations about next steps.\n",
    "\n",
    "In the share phase, visualization is a data analyst's best friend. Visualization is essential to getting others to understand what your data is telling you. With the right visuals, facts and figures become so much easier to see and complex concepts become easier to understand.\n",
    "\n",
    "### Summary\n",
    "\n",
    "Everyone shares their results differently so be sure to summarize your results with clear and enticing visuals of your analysis using data viz tools like graphs or dashboards. This is your chance to show the stakeholders you have solved their problem and how you got there. Sharing will certainly help your team:  \n",
    "\n",
    " * Make better decisions\n",
    " * Make more informed decisions\n",
    " * Lead to stronger outcomes\n",
    " * Successfully communicate your findings\n",
    "\n",
    "### Questions to ask yourself in this step\n",
    "\n",
    " * How can I make what I present to the stakeholders engaging and easy to understand?\n",
    " * What would help me understand this if I were the listener?\n",
    "\n",
    "## Step 6\n",
    "---\n",
    "\n",
    "![Act](images\\act.png \"Act\")\n",
    "\n",
    "The last stage of the process for the team of analysts was to work with leaders within their company and decide how best to implement changes and take actions based on the findings. The analysts recommended standardizing the hiring process for all new hires based on the most efficient and transparent hiring practices. A year later, the same survey was distributed to employees. Analysts anticipated that a comparison between the two sets of results would indicate that the action plan worked. Turns out, the changes improved the retention rate for new employees and the actions taken by leaders were successful!\n",
    "\n",
    "The Act phase is the exciting moment when the business takes all of the insights you, the data analyst, have provided and puts them to work in order to solve the original business problem.\n",
    "\n",
    "### Summary\n",
    "\n",
    "Now it’s time to act on your data. You will take everything you have learned from your data analysis and put it to use. This could mean providing your stakeholders with recommendations based on your findings so they can make data-driven decisions.\n",
    "\n",
    "### Questions to ask yourself in this step\n",
    "\n",
    " * How can I use the feedback I received during the share phase (step 5) to actually meet the stakeholder’s needs and expectations?"
   ],
   "cell_type": "markdown",
   "metadata": {}
  },
  {
   "source": [
    "# Data Analytics\n",
    "---\n",
    "\n",
    "Data Analytics, in the simplest terms, is the science of data. It is a very broad concept that encompasses everything from the job of managing and using data to the tools and methods that data workers use each and every day. Both Data Analysis and the Data Ecosystem fit under the Data Analytics umbrella."
   ],
   "cell_type": "markdown",
   "metadata": {}
  },
  {
   "source": [
    "# Data Aggregation\n",
    "---\n",
    "\n",
    "Data aggregation is the process of gathering data from multiple sources in order to combine it into a single summarized collection. For example, in marketing, you can aggregate data from an ad campaign to see how it performed over time and for particular customers. Travel companies use data aggregation to figure out how much their competitors charge for a certain flight, hotel room, or rental car type.\n",
    "\n",
    "Data aggregation helps data analyst identify trends, make comparisons and gain insights that wouldn't be possible if each of the data elements were analyzed on its own. For instance, data on high school graduations for individual students can be aggregated into a single graduation rate for an entire class.\n",
    "\n",
    "Data can also be aggregated over a given time period to provide statistics, such as averages, minimums, maximums, and sums. For example, that same yearly graduation rate data can be aggregated once again into a summary that shows us graduation rates for districts, states, and countries."
   ],
   "cell_type": "markdown",
   "metadata": {}
  },
  {
   "source": [
    "# Data Anonymization\n",
    "---\n",
    "\n",
    "Data anonymization is the process of protecting people's private or sensitive data by eliminating that kind of information. Typically, data anonymization involves blanking, hashing, or masking personal information, often by using fixed-length codes to represent data columns, or hiding data with altered values.\n",
    "\n",
    "Healthcare and financial data are two of the most sensitive types of data. These industries rely a lot on data anonymization techniques. After all, the stakes are very high. That’s why data in these two industries usually goes through de-identification, which is a process used to wipe data clean of all Personally Identifying Information (PII).\n",
    "\n",
    "Here is a list of data that is often anonymized:\n",
    "\n",
    " * Telephone numbers.\n",
    " * Names.\n",
    " * License plates and license numbers.\n",
    " * Social security numbers.\n",
    " * IP addresses.\n",
    " * Medical records.\n",
    " * Email addresses.\n",
    " * Photographs.\n",
    " * Account numbers."
   ],
   "cell_type": "markdown",
   "metadata": {}
  },
  {
   "source": [
    "# Data Cleaning\n",
    "---\n",
    "\n",
    "## Common Mistakes To Avoid\n",
    "\n",
    "### Not checking for spelling errors\n",
    "\n",
    "Misspellings can be as simple as typing or input errors. Most of the time the wrong spelling or common grammatical errors can be detected, but it gets harder with things like names or addresses. For example, if you are working with a spreadsheet table of customer data, you might come across a customer named “John” whose name has been input incorrectly as “Jon” in some places. The spreadsheet’s spellcheck probably won’t flag this, so if you don’t double-check for spelling errors and catch this, your analysis will have mistakes in it.\n",
    "\n",
    "### Forgetting to document errors\n",
    "\n",
    "Documenting your errors can be a big time saver, as it helps you avoid those errors in the future by showing you how you resolved them. For example, let’s say you find an error in a formula in your spreadsheet. You discover that some of the dates in one of your columns haven’t been formatted correctly. If you make a note of this fix, you can reference it the next time your formula is broken, and get a head start on troubleshooting. Documenting your errors also helps you keep track of changes in your work, so that you can backtrack if a fix didn’t work. \n",
    "\n",
    "### Not checking for misfielded values\n",
    "\n",
    "A misfielded value happens when the values are entered into the wrong field. These values might still be formatted correctly, which makes them harder to catch if you aren’t careful. For example, you might have a dataset with columns for cities and countries. These are the same type of data, so they are easy to mix up. But if you were trying to find all of the instances of Spain in the country column, and Spain had mistakenly been entered into the city column, you would miss key data points. Making sure your data has been entered correctly is key to accurate, complete analysis. \n",
    "\n",
    "### Overlooking missing values\n",
    "\n",
    "Missing values in your dataset can create errors and give you inaccurate conclusions. For example, if you were trying to get the total number of sales from the last three months, but a week of transactions were missing, your calculations would be inaccurate.  As a best practice, try to keep your data as clean as possible by maintaining completeness and consistency.\n",
    "\n",
    "### Only looking at a subset of the data\n",
    "\n",
    "It is important to think about all of the relevant data when you are cleaning. This helps make sure you understand the whole story the data is telling, and that you are paying attention to all possible errors. For example, if you are working with data about bird migration patterns from different sources, but you only clean one source, you might not realize that some of the data is being repeated. This will cause problems in your analysis later on. If you want to avoid common errors like duplicates, each field of your data requires equal attention.\n",
    "\n",
    "### Losing track of business objectives\n",
    "\n",
    "When you are cleaning data, you might make new and interesting discoveries about your dataset-- but you don’t want those discoveries to distract you from the task at hand. For example, if you were working with weather data to find the average number of rainy days in your city, you might notice some interesting patterns about snowfall, too. That is really interesting, but it isn’t related to the question you are trying to answer right now. Being curious is great! But try not to let it distract you from the task at hand.  \n",
    "\n",
    "### Not fixing the source of the error\n",
    "\n",
    "Fixing the error itself is important. But if that error is actually part of a bigger problem, you need to find the source of the issue. Otherwise, you will have to keep fixing that same error over and over again. For example, imagine you have a team spreadsheet that tracks everyone’s progress. The table keeps breaking because different people are entering different values. You can keep fixing all of these problems one by one, or you can set up your table to streamline data entry so everyone is on the same page. Addressing the source of the errors in your data will save you a lot of time in the long run. \n",
    "\n",
    "### Not analyzing the system prior to data cleaning\n",
    "\n",
    "If we want to clean our data and avoid future errors, we need to understand the root cause of your dirty data. Imagine you are an auto mechanic. You would find the cause of the problem before you started fixing the car, right? The same goes for data. First, you figure out where the errors come from. Maybe it is from a data entry error, not setting up a spell check, lack of formats, or from duplicates. Then, once you understand where bad data comes from, you can control it and keep your data clean.\n",
    "\n",
    "### Not backing up your data prior to data cleaning\n",
    "\n",
    "It is always good to be proactive and create your data backup before you start your data clean-up. If your program crashes, or if your changes cause a problem in your dataset, you can always go back to the saved version and restore it. The simple procedure of backing up your data can save you hours of work-- and most importantly, a headache. \n",
    "\n",
    "### Not accounting for data cleaning in your deadlines/process\n",
    "\n",
    "All good things take time, and that includes data cleaning. It is important to keep that in mind when going through your process and looking at your deadlines. When you set aside time for data cleaning, it helps you get a more accurate estimate for ETAs for stakeholders, and can help you know when to request an adjusted ETA.\n",
    "\n",
    "## Common Problems To Correct\n",
    "\n",
    " * Sources of errors: Did you use the right tools and functions to find the source of the errors in your dataset?\n",
    " * Null data: Did you search for NULLs using conditional formatting and filters?\n",
    " * Misspelled words: Did you locate all misspellings?\n",
    " * Mistyped numbers: Did you double-check that your numeric data has been entered correctly?\n",
    " * Extra spaces and characters: Did you remove any extra spaces or characters using the TRIM function?\n",
    " * Duplicates: Did you remove duplicates in spreadsheets using the Remove Duplicates function or DISTINCT in SQL?\n",
    " * Mismatched data types: Did you check that numeric, date, and string data are typecast correctly?\n",
    " * Messy (inconsistent) strings: Did you make sure that all of your strings are consistent and meaningful?\n",
    " * Messy (inconsistent) date formats: Did you format the dates consistently throughout your dataset?\n",
    " * Misleading variable labels (columns): Did you name your columns meaningfully?\n",
    " * Truncated data: Did you check for truncated or missing data that needs correction?\n",
    " * Business Logic: Did you check that the data makes sense given your knowledge of the business?\n",
    "\n",
    "## Advanced Functions For Data Cleaning\n",
    "\n",
    "![Speedy Data Cleaning](images\\speedy_data_cleaning.png \"Speedy Data Cleaning\")"
   ],
   "cell_type": "markdown",
   "metadata": {}
  },
  {
   "source": [
    "# Data Collection\n",
    "---\n",
    "\n",
    "![Data Collection](images\\data_collection.png \"Data Collection\")\n",
    "\n",
    "These are relevant considerations regarding data collection:\n",
    "\n",
    " * Select the right data type: As you collect data, you'll also want to make sure you select the right data type. For example, considering traffic data, an appropriate data type could be the dates of traffic records stored in a date format. The dates could help you figure what days of the week there is likely to be a high volume of traffic in the future.\n",
    "\n",
    " * Determine the timeframe for data collection: If you are collecting your own data, decide how long you will need to collect it, especially if you are tracking trends over a long period of time. If you need an immediate answer, you might not have time to collect new data. In this case, you would need to use historical data that already exists.\n",
    "\n",
    " * How the data will be collected: decide if you will collect the data using your own resources or receive (and possibly purchase it) from another party. Data that you collect yourself is called first-party data.\n",
    "\n",
    "  * How much data to collect: if you are collecting your own data, make reasonable decisions about sample size. A random sample from existing data might be fine for some projects. Other projects might need more strategic data collection to focus on certain criteria. Each project has its own needs.\n",
    "\n",
    " * Choose data sources: if you don’t collect the data using your own resources (first-party data), you might get data from second-party or third-party data providers. Second-party data is collected directly by another group and then sold. Third-party data is sold by a provider that didn’t collect the data themselves. Third-party data might come from a number of different sources.\n",
    "\n",
    " * Decide what data to use: datasets can show a lot of interesting information. But be sure to choose data that can actually help solve your problem question. For example, if you are analyzing trends over time, make sure you use time series data — in other words, data that includes dates."
   ],
   "cell_type": "markdown",
   "metadata": {}
  },
  {
   "source": [
    "# Data Composition\n",
    "---\n",
    "\n",
    "Data composition is about combining the individual parts in a visualization and displaying them together as a whole."
   ],
   "cell_type": "markdown",
   "metadata": {}
  },
  {
   "source": [
    "# Data Constraint\n",
    "---\n",
    "\n",
    "Constraints are the rules enforced on the data, for example, on the data columns of a table. These are used to limit the type of data that is accepted as valid. This ensures the accuracy and reliability of the data.\n",
    "\n",
    "![Data Constraint](images\\data_constraint.png \"Data Constraint\")"
   ],
   "cell_type": "markdown",
   "metadata": {}
  },
  {
   "source": [
    "# Data Design\n",
    "---\n",
    "\n",
    "Data design refers to how information is organized."
   ],
   "cell_type": "markdown",
   "metadata": {}
  },
  {
   "source": [
    "# Data-Driven Decision-Making\n",
    "---\n",
    "\n",
    "Data-driven decision-making is the process of using facts to guide business strategy.\n",
    "\n",
    "In business, data-driven decision-making can improve the results in a lot of different ways. For example, say a dairy farmer wants to start making and selling ice cream. They could guess what flavors customers would like, but there's a better way to get the information. The farmer could survey people and ask them what flavors they prefer. This gives the farmer the data they need to pick ice cream flavors people will enjoy."
   ],
   "cell_type": "markdown",
   "metadata": {}
  },
  {
   "source": [
    "# Data Ecosystem\n",
    "---\n",
    "\n",
    "The various elements that interact with one another in order to produce, manage, store, organize, analyze, and share data."
   ],
   "cell_type": "markdown",
   "metadata": {}
  },
  {
   "source": [
    "# Data Elements\n",
    "---\n",
    "\n",
    "Data elements are pieces of information, such as people's names, account numbers, and addresses."
   ],
   "cell_type": "markdown",
   "metadata": {}
  },
  {
   "source": [
    "# Data Engineers\n",
    "---\n",
    "\n",
    "Data engineer transform data into a useful format for analysis and give it a reliable infrastructure. They develop, maintain, and test databases, data processors and related systems."
   ],
   "cell_type": "markdown",
   "metadata": {}
  },
  {
   "source": [
    "# Data Ethics\n",
    "---\n",
    "\n",
    "Data ethics is a set of well-founded standards of right and worng that dictate how data is collected, shared, and used.\n",
    "\n",
    "There are several spects of data ethics, for example:\n",
    "\n",
    " * __Ownership__: individuals that own the raw data they provide and they have primary control over its usage, how it is processed, and how it is shared.\n",
    "\n",
    " * __Transaction transparency__: all data-processing activities and algorithms should be completely explainable and understood by the individual who provides their data.\n",
    "\n",
    " * __Consent__: an individual's right to know explicit details about how and why their data will be used before agreeing to provide it.\n",
    "\n",
    " * __Currency__: individuals should be aware of financial transactions resulting from the use of their personal data and the scale of these transactions.\n",
    "\n",
    " * __Privacy__: preserving a data subject's information and activity any time a data transaction occurs.\n",
    "\n",
    " * __Openess__: free access, usage, and sharing of data."
   ],
   "cell_type": "markdown",
   "metadata": {}
  },
  {
   "source": [
    "# Data Formats\n",
    "---\n",
    "\n",
    "![Data Formats](images\\data_formats.png \"Data Formats\")"
   ],
   "cell_type": "markdown",
   "metadata": {}
  },
  {
   "source": [
    "# Data Frame (R)\n",
    "---\n",
    "\n",
    "In R programming language, a data frame is a collection of columns, similar to a spreadsheet or SQL table. Each column has a name at the top that represents a variable, and includes one observation per row. Data frames help summarize data and organize it into a format that is easy to read and use."
   ],
   "cell_type": "markdown",
   "metadata": {}
  },
  {
   "source": [
    "# Data Governance\n",
    "---\n",
    "\n",
    "Data governance is a process to ensure the formal management of a company's data assets. This gives an organization better control of their data and helps a company manage issues related to data security and privacy, integrity, usability, and internal and external data flows.\n",
    "\n",
    "Data governance is about more than just standardizing terminology and procedures. It is also about the roles and responsibilities of the people who work with the metadata every day."
   ],
   "cell_type": "markdown",
   "metadata": {}
  },
  {
   "source": [
    "# Data Integrity\n",
    "---\n",
    "\n",
    "Data integrity is the accuracy, completeness, consistency, and trustworthiness of data throughout its lifecycle.\n",
    "\n",
    "The integrity of data can be compromised in a number of ways, for example:\n",
    "\n",
    " * Human error\n",
    " * Viruses\n",
    " * Malware\n",
    " * Hacking\n",
    " * System failures\n",
    "\n",
    "Here are some more things to watch out for when assessing the risk of compromising data integrity:\n",
    "\n",
    " * __Data replication__: Imagine you ask your company's international counterparts to verify dates and stick to one format before you continue your analysis. One analyst copies the large dataset to check the dates. But because of memory issues, only part of the dataset is actually copied. This means the analyst would be verifying and standardizing incomplete data and you would have no way of knowing that.\n",
    "\n",
    " * __Data transfer__: Another analyst checks the dates in a spreadsheet and chooses to import the validated and standardized data back to the database. But let’s say the date field from the spreadsheet was incorrectly classified as a text field during the import process. Now some of the dates in the database are stored as text strings. At this point, the data needs to be cleaned to restore its integrity. \n",
    "\n",
    " * __Data manipulation__: When checking dates, another analyst notices what appears to be a duplicate record in the database and removes it. But it turns out that the analyst removed a unique record for a company’s subsidiary and not a duplicate record for the company. Your dataset is now missing data and the data must be restored for completeness."
   ],
   "cell_type": "markdown",
   "metadata": {}
  },
  {
   "source": [
    "# Data Life Cycle\n",
    "---\n",
    "\n",
    "![Data Life Cycle](images\\data_life_cycle.png \"Data Life Cycle\")\n",
    "\n",
    "The data life cycle phases are:\n",
    "\n",
    " 1. __Plan__: During planning, a business decides what kind of data it needs, how it will be managed throughout its life cycle, who will be responsible for it, and the optimal outcomes.\n",
    "\n",
    " 2. __Capture__: Data can be collected from a variety of different sources and brought into the organization. With so much data being created everyday, the ways to collect it are truly endless. One common method is getting data from outside resources.\n",
    "\n",
    " 3. __Manage__: How do we care for our data, how and where it's stored, the tools used to keep it safe and secure, and the actions taken to make sure that it's maintained properly. This phase is very important to data cleansing.\n",
    "\n",
    " 4. __Analyze__: In this phase, the data is used to solve problems, make great decisions, and support business goals.\n",
    "\n",
    " 5. __Archive__: Archiving means storing data in a place where it's still available, but may not be used again.\n",
    " \n",
    " 6. __Destroy__: Being able to destroy the data is important for protecting a company's private information, as well as private data about its customers."
   ],
   "cell_type": "markdown",
   "metadata": {}
  },
  {
   "source": [
    "# Data Manipulation\n",
    "---\n",
    "\n",
    "Data manipulation is the process of changing data to make it more organized and easier to read."
   ],
   "cell_type": "markdown",
   "metadata": {}
  },
  {
   "source": [
    "# Data Mapping\n",
    "---\n",
    "\n",
    "Data mapping is the process of matching fields from one data source to another."
   ],
   "cell_type": "markdown",
   "metadata": {}
  },
  {
   "source": [
    "# Data Measures\n",
    "---\n",
    "\n",
    "![Data Measures](images\\data_measures.png \"Data Measures\")"
   ],
   "cell_type": "markdown",
   "metadata": {}
  },
  {
   "source": [
    "# Data Merging\n",
    "---\n",
    "\n",
    "Data merging is the process of combining two or more datasets into a single dataset."
   ],
   "cell_type": "markdown",
   "metadata": {}
  },
  {
   "source": [
    "# Data Model\n",
    "---\n",
    "\n",
    "Data model is a model that is used for organizing data elements and how they relate to one another. Data modeling can help you explore the high-level details of your data and how it is related across the organization’s information systems.\n",
    "\n",
    "![Data Modeling](images\\data_modeling.png \"Data Modeling\")\n",
    "\n",
    "Each level of data modeling has a different level of detail:\n",
    "\n",
    " * Conceptual data modeling gives you a high-level view of your data structure, such as how you want data to interact across an organization. \n",
    "\n",
    " * Logical data modeling focuses on the technical details of the model such as relationships, attributes, and entities.\n",
    "\n",
    " * Physical data modeling should actually depict how the database was built. By this stage, you are laying out how each database will be put in place and how the databases, applications, and features will interact in specific detail.\n",
    "\n",
    "There are a lot of approaches when it comes to developing data models, but two common methods are the Entity Relationship Diagram (ERD) and the Unified Modeling Language (UML) diagram. ERDs are a visual way to understand the relationship between entities in the data model. UML diagrams are very detailed diagrams that describe the structure of a system by showing the system's entities, attributes, operations, and the relationships."
   ],
   "cell_type": "markdown",
   "metadata": {}
  },
  {
   "source": [
    "# Data Privacy\n",
    "---\n",
    "\n",
    "When talking about data, privacy means:\n",
    "\n",
    " * Protection from unauthorized access to our private data.\n",
    " * Freedom from inappropriate use of our data.\n",
    " * The right to inspect, update, or correct our data.\n",
    " * Ability to give consent to use our data.\n",
    " * Legal right to access the data."
   ],
   "cell_type": "markdown",
   "metadata": {}
  },
  {
   "source": [
    "# Data Replication\n",
    "---\n",
    "\n",
    "Data replication is the process of storing data in multiple locations."
   ],
   "cell_type": "markdown",
   "metadata": {}
  },
  {
   "source": [
    "# Data Science\n",
    "---\n",
    "\n",
    "Data science is a field of study that uses raw data to create new ways of modeling and understanding the unknown.\n",
    "\n",
    "Data scientists create new questions using data, while data analysts find answers to existing questions by creating insights from data sources.\n",
    "\n",
    "![Data Science](images\\data_science.png \"Data Science\")"
   ],
   "cell_type": "markdown",
   "metadata": {}
  },
  {
   "source": [
    "# Data Security\n",
    "---\n",
    "\n",
    "Data security means protecting data from unauthorized access or corruption by adopting safety measures.\n",
    "\n",
    "Usually the purpose of data security is to keep unauthorized users from accessing or viewing sensitive data. Data analysts have to find a way to balance data security with their actual analysis needs. This can be tricky, as we want to keep our data safe and secure, but we also want to use it as soon as possible so that we can make meaningful and timely observations. There are a few security measures that can help companies do just that.\n",
    "\n",
    "Two important security measures are encryption and tokenization:\n",
    "\n",
    " * __Encryption__: uses a unique algorithm to alter data and make it unusable by users and applications that don’t know the algorithm. This algorithm is saved as a “key” which can be used to reverse the encryption, so that if you have the key, you can still use the data in its original form.  \n",
    "\n",
    " * __Tokenization__: replaces the data elements you want to protect with randomly generated data referred to as a “token.” The original data is stored in a separate location and mapped to the tokens. To access the complete original data, the user or application needs to have permission to use the tokenized data and the token mapping. This means that even if the tokenized data is hacked, the original data is still safe and secure in a separate location. \n",
    "\n",
    "Encryption and tokenization are just some of the data security options available. There are many others, such as using authentication devices for AI technology."
   ],
   "cell_type": "markdown",
   "metadata": {}
  },
  {
   "source": [
    "# Data Sources\n",
    "---\n",
    "\n",
    "## First-party data\n",
    "\n",
    "Data collected by an individual or group using their own resources.\n",
    "\n",
    "## Second-party data\n",
    "\n",
    "Data collected by a group directly from its audience and then sold.\n",
    "\n",
    "## Third-party data\n",
    "\n",
    "Data collected from outside sources who did not collect it directly."
   ],
   "cell_type": "markdown",
   "metadata": {}
  },
  {
   "source": [
    "# Data Storytelling\n",
    "---\n",
    "\n",
    "Data storytelling is communicating the meaning of a dataset with visuals and a narrative that are customized for each particular audience. You need to think about who will be looking at the data and what they need from it and how often they'll use it.\n",
    "\n",
    "There are three data storytelling steps:\n",
    "\n",
    "1. __Engage your audience__: Engagement is capturing and holding someone's interest and attention. When your audience is engaged, you're much more likely to connect with them and convince them to see the same story you see. Every data story should start with audience engagement, all successful storytellers consider who's listening first.\n",
    "\n",
    " To successfully engage your audience, you should ask these questions:\n",
    "\n",
    "   * What role does this audience play?\n",
    "   * What is their stake in the project?\n",
    "   * What do they hope to get from the data insights?\n",
    "\n",
    "2. __Create compelling visuals__: show the story of your data, not just tell it. Visuals should take your audience on a journey of how the data changed over time or highlight the meaning behind the numbers.\n",
    "\n",
    "3. __Tell the story in an interesting narrative__: A narrative has a beginning, a middle, and an end. It should connect the data you've collected to the project objective and clearly explain important insights from your analysis. To do this, it's important that your data storytelling is organized and concise.\n",
    "\n",
    "## Best Practices\n",
    "\n",
    "* Always label your axes and give the heading of your plot.\n",
    "* Use legends where necessary.\n",
    "* Use colors that are lighter on the eye and in proportion.\n",
    "* Avoid adding unnecessary detail to your visualization like backgrounds or themes that don’t allow good readability.\n",
    "* Only a point can be used to simultaneously encode two quantitative values based on a horizontal and vertical location.\n",
    "* Never use points for visualization if you are doing time series encoding."
   ],
   "cell_type": "markdown",
   "metadata": {}
  },
  {
   "source": [
    "# Data Strategy\n",
    "---\n",
    "\n",
    "Data strategy is the management of the people, processes, and tools used in data analysis."
   ],
   "cell_type": "markdown",
   "metadata": {}
  },
  {
   "source": [
    "# Data Transfer\n",
    "---\n",
    "\n",
    "Data transfer is the process of copying data from a storage device to memory, or from one computer to another."
   ],
   "cell_type": "markdown",
   "metadata": {}
  },
  {
   "source": [
    "# Data Transformation\n",
    "---\n",
    "\n",
    "Data transformation is the process of changing the data’s format, structure, or values.\n",
    "\n",
    "Data transformation usually involves:\n",
    "\n",
    " * Adding, copying, or replicating data.\n",
    " * Deleting fields or records.\n",
    " * Standardizing the names of variables.\n",
    " * Renaming, moving, or combining columns in a database.\n",
    " * Joining one set of data with another.\n",
    " * Saving a file in a different format. For example, saving a spreadsheet as a comma separated values (CSV) file.\n",
    " * Why transform data?\n",
    "\n",
    "Goals for data transformation might be: \n",
    "\n",
    " * Data organization: better organized data is easier to use.\n",
    " * Data compatibility: different applications or systems can then use the same data.\n",
    " * Data migration: data with matching formats can be moved from one system to another.\n",
    " * Data merging: data with the same organization can be merged together.\n",
    " * Data enhancement: data can be displayed with more detailed fields.\n",
    " * Data comparison: apples-to-apples comparisons of the data can then be made."
   ],
   "cell_type": "markdown",
   "metadata": {}
  },
  {
   "source": [
    "# Data Type\n",
    "---\n",
    "\n",
    "A data type is a specific kind of data attribute that tells what kind of value the data is.\n",
    "\n",
    "In a spreadsheet, a data type can be one of number, text or string, and boolean.\n",
    "\n",
    "## Number\n",
    "\n",
    "The number data type includes formats like percentages and currency.\n",
    "\n",
    "## Text or string\n",
    "\n",
    "A text or string data type is a sequence of characters and punctuation that contains textual information.\n",
    "\n",
    "## Boolean\n",
    "\n",
    "A boolean data type has only two possible values, for example, true or false."
   ],
   "cell_type": "markdown",
   "metadata": {}
  },
  {
   "source": [
    "# Data Validation\n",
    "---\n",
    "\n",
    "Data validation is a tool for checking the accuracy and quality of data before adding or importing it, so that it is complete, accurate, secure and consistent. For example, in a spreadsheet, data validation allows you to control what values can and can't be entered.\n",
    "\n",
    "![Data Validation Types](images\\validation_types.png \"Data Validation Types\")"
   ],
   "cell_type": "markdown",
   "metadata": {}
  },
  {
   "source": [
    "# Data Visualization\n",
    "---\n",
    "\n",
    "\"_Numbers have an important story to tell. They rely on you to give them a clear and convincing voice._\" - Stephen Few.\n",
    "\n",
    "Data visualization is the graphical representation and presentation of data, for example, using graphs, maps, and tables. In reality, it's just putting information into an image to make it easier for other people to understand.\n",
    "\n",
    "![Data Visualization](images\\data_visualization.png \"Data Visualization\")\n",
    "\n",
    "Some popular visualization tools are Tableau and Looker. Data analysts like using Tableau because it helps them create visuals that are very easy to understand. This means that even non-technical users can get the information they need. Looker is also popular with data analysts because it gives them an easy way to create visuals based on the results of a query. Using Looker to show visualization data and the actual data related to it, you can give stakeholders a complete picture of your work. All visualization tools have great features that are useful in different situations.\n",
    "\n",
    "## The McCandless Method\n",
    "\n",
    "Basically, an effective data visualization should lead viewers to reach the same conclusion you did, but much more quickly. The following data visualization was made by David McCandless, a well-known data journalist. His graphic is arranged in a four-part Venn diagram, which tells us that all four elements are needed for a successful visualization:\n",
    "\n",
    " 1. __Information (data)__: The information or data that you are trying to convey is a key building block for your data visualization. Without information or data, you cannot communicate your findings successfully. More specifically, the _conclusion_ you have drawn from the data, which you are aiming to communicate with visualization.\n",
    "\n",
    " 2. __Story (concept)__: A story allows you to share your data in meaningful and interesting ways. Without a story, your visualization is informative, but not really inspiring. You need to deliver a clear and compelling narrative or concept that adds _meaning_ to the data, and makes it _interesting_.\n",
    "\n",
    " 3. __Goal (function)__: The goal is a specific objective or function for the visual that makes the data _usable_ and _useful_. This is what you are trying to achieve with your visualization. Without a goal, your visualization might still be informative, but can’t generate actionable insights.\n",
    "\n",
    " 4. __Visual form (metaphor)__: An effective use of metaphor or visual expression that creates both _beauty_ and _structure_. Without visual form, your data is not visualized yet.\n",
    "\n",
    "![What Makes A Good Visualization](images\\visualization_elements.png \"What Makes A Good Visualization\")\n",
    "\n",
    "All four elements in the graphic seem essential. With just two, you get something prototypical and sketchy – which is okay if you are at an early stage. With three, the end result is strangely lacking.\n",
    "\n",
    "The McCandless method involves the following steps:\n",
    "\n",
    "1. Introduce the graphic by name.\n",
    "2. Answer obvious questions before they are asked.\n",
    "3. State the insight of your graphic.\n",
    "4. Call out data to support that insight.\n",
    "5. Tell your audience why it matters.\n",
    "\n",
    "One useful way of approaching this framework is to notice the parts of the graphic where there is incomplete overlap between all four elements. For example, visual form without a goal, story, or data could be a sketch or even art. Data plus visual form without a goal or function is eye candy. Data with a goal but no story or visual form is boring. All four elements need to be at work to create an effective visual.\n",
    "\n",
    "## Good Data Visualization Rules\n",
    "\n",
    "* Five-second rule: A data visualization should be _clear, effective, and convincing_ enough to be absorbed in 5 seconds or less.\n",
    "\n",
    "* Graphs and charts should use a _diverging color palette_ to show contrast between elements.\n",
    "\n",
    "* Should align with _audience expectations_ and _cultural conventions_. For example, if the majority of your audience associates green with a positive concept and red with a negative one, your visualization should reflect this.\n",
    "\n",
    "* Should use as _few labels_ as it takes to make sense. \n",
    "\n",
    "* Having too many labels makes your graph or chart too busy, it takes up too much space, and it prevents the labels from being shown clearly.\n",
    "\n",
    "## Design Principles\n",
    "\n",
    "These design principles are important to your work as a data analyst because they help you make sure that you are creating visualizations that communicate your data effectively to your audience. By keeping these rules in mind, you can plan and evaluate your data visualizations to decide if they are working for you and your goals.\n",
    "\n",
    "![Design Principles](images\\design_principles.png \"Design Principles\")\n",
    "\n",
    "## Best Practices\n",
    "\n",
    "Additional best practices that are helpful to keep in mind: \n",
    "\n",
    " * Your audience should know what they are observing within five seconds of being shown it--visuals should be clear and easy to follow.\n",
    " * In the five seconds after that, your audience should understand the conclusion your visualization is making--even if they aren’t familiar with the research you’ve been doing. \n",
    " * As a general rule, as long as it’s not misleading, you should visually represent only the data that your audience needs in order to understand your findings.\n",
    "\n",
    "## Dashboards\n",
    "\n",
    "When monitoring trends, sometimes the data changes too quickly or comes from too many sources to be captured accurately in charts and graphs. In this case, a dashboard is the best way to visualize data from many sources. \n",
    "\n",
    "Here are some examples of dashboards used to visualize trends (and their likely goals):\n",
    "\n",
    " * Cash flow and budgeting dashboard for a small business (to help the business stay on track with its budget and expenses).\n",
    " * Company-wide dashboard (to help departments with metrics and benchmark against other departments).\n",
    "\n",
    "## Things To Avoid\n",
    "\n",
    "As you are considering what kind of visualization to create and how to design it, you will want to be sure that you are not creating misleading or deceptive charts.\n",
    "\n",
    "Here are some common errors to avoid so that your visualizations aren’t accidentally misleading:\n",
    "\n",
    "![Misleading Charts](images\\misleading_charts.png \"Misleading Charts\")"
   ],
   "cell_type": "markdown",
   "metadata": {}
  },
  {
   "source": [
    "# Data Warehouse Specialists\n",
    "---\n",
    "\n",
    "Data warehouse specialists develop processes and procedures to effectively store and organize data. They make sure that data is available, secure, and backed up to prevent loss."
   ],
   "cell_type": "markdown",
   "metadata": {}
  },
  {
   "source": [
    "# Database\n",
    "---\n",
    "\n",
    "A database is a collection of data stored in a computer system."
   ],
   "cell_type": "markdown",
   "metadata": {}
  },
  {
   "source": [
    "# Dataset\n",
    "---\n",
    "\n",
    "A dataset is a collection of data that can be manipulated or analyzed as one unit."
   ],
   "cell_type": "markdown",
   "metadata": {}
  },
  {
   "source": [
    "# DATEDIF\n",
    "---\n",
    "\n",
    "DATEDIF is a spreadsheet function that calculates the number of days between two dates."
   ],
   "cell_type": "markdown",
   "metadata": {}
  },
  {
   "source": [
    "# Decision Tree\n",
    "---\n",
    "\n",
    "A decision tree is a decision-making tool that allows you as data analyst to make decisions based on key questions that you can ask yourself. Each question in the visualization decision tree will help you make a decision about critical features for your visualization.\n",
    "\n",
    "## Example\n",
    "\n",
    "This is an example of a basic decision tree to guide you towards making a data-driven decision about which visualization is the best way to tell your story.\n",
    "\n",
    "![Decision Tree Example](images\\decision_tree.png \"Decision Tree Example\")\n",
    "\n",
    "You can evaluate the type of data you have and go through a series of questions to determine the best visual source:\n",
    "\n",
    " * __Does your data have only one numeric variable?__ If you have data that has one, continuous, numerical variable, then a histogram or density plot are the best methods of plotting your categorical data. Depending on your type of data, a bar chart can even be appropriate in this case. For example, if you have data pertaining to the height of a group of students, you will want to use a histogram to visualize how many students there are in each height range:\n",
    "\n",
    " ![Decision Tree Example 1](images\\decision_tree_example_1.png \"Decision Tree Example 1\")\n",
    "\n",
    " * __Are there multiple data sets?__ For cases dealing with more than one set of data, consider a line or pie chart for accurate representation of your data. A line chart will connect multiple data sets over a single, continuous line, showing how numbers have changed over time. A pie chart is good for dividing a whole into multiple categories or parts. An example of this is when you are measuring quarterly sales figures of your company. Below are examples of this data plotted on both a line and pie chart:\n",
    "\n",
    " ![Decision Tree Example 2](images\\decision_tree_example_2.png \"Decision Tree Example 2\")\n",
    "\n",
    " ![Decision Tree Example 3](images\\decision_tree_example_3.png \"Decision Tree Example 3\")\n",
    "\n",
    " * __Are you measuring changes over time?__ A line chart is usually adequate for plotting trends over time. However, when the changes are larger, a bar chart is the better option. If, for example, you are measuring the number of visitors to NYC over the past 6 months, the data would look like this:\n",
    "\n",
    " ![Decision Tree Example 4](images\\decision_tree_example_4.png \"Decision Tree Example 4\")\n",
    "\n",
    " * __Do relationships between the data need to be shown?__ When you have two variables for one set of data, it is important to point out how one affects the other. Variables that pair well together are best plotted on a scatter plot. However, if there are too many data points, the relationship between variables can be obscured so a heat map can be a better representation in that case. If you are measuring the population of people across all 50 states in the United States, your data points would consist of millions so you would use a heat map. If you are simply trying to show the relationship between the number of hours spent studying and its effects on grades, your data would look like this:\n",
    "\n",
    " ![Decision Tree Example 5](images\\decision_tree_example_5.png \"Decision Tree Example 5\")"
   ],
   "cell_type": "markdown",
   "metadata": {}
  },
  {
   "source": [
    "# Delimiter\n",
    "---\n",
    "\n",
    "A delimiter is a character that indicates the beginning or end of a data item."
   ],
   "cell_type": "markdown",
   "metadata": {}
  },
  {
   "source": [
    "# Design Thinking\n",
    "---\n",
    "\n",
    "\"_Design thinking is a human-centred approach to innovation that draws from the designer’s toolkit to integrate the needs of people, the possibilities of technology, and the requirements for business success_\" - Tim Brown.\n",
    "\n",
    "Design thinking is a process used to solve problems in a user-centric way. User-centricity means considering the user and their needs first. The phrase _thinking outside the box_ is used a lot, but it definitely applies here. The \"box\", in this case, is your own usual way of approaching data, and its visualization.\n",
    "\n",
    "There are five phases in the design thinking process. In the spirit of design thinking, these phases don't have to follow a set order. Instead, think of them as an overview of actions that can help you produce a user centered design in your visualizations:\n",
    "\n",
    "![Design Thinking](images\\design_thinking.png \"Design Thinking\")\n",
    "\n",
    "* __Empathize__: Think about the emotions and needs of the target audience of your data viz, whether it's stakeholders, team members or the general public. Here you should avoid areas where people might face obstacles interacting with your visualizations.\n",
    "\n",
    "* __Define__: Helps you to find your audiences needs their problems and your insights. This goes hand in hand with the empathize phase as you'll use what you learned in that phase to help you spell out exactly what your audience needs from your visualization. You could use this phase to think about which data to show in your visualization.\n",
    " \n",
    " You can think of ways to position that data to make it more digestible. Or if you're presenting to different audiences, you can adjust your visualizations to meet each group's needs by seeking and put from members of the group or colleagues who've worked with that group before.\n",
    "\n",
    "* __Ideate__: Start to generate your data viz ideas. You'll use all of your findings from the empathize and define phases to brainstorm potential data viz solutions. This might involve creating drafts of your visualization with different color combinations or maybe experimenting with different shapes.\n",
    "\n",
    " Creating as many examples as possible will help you refine your ideas. The key here is to always remember your audience when coming up with ideas and strategies. You want to think about how you can position your visualizations to meet the needs and expectations of your audience.\n",
    "\n",
    "* __Prototype__: Putting visualizations together for testing and feedback.\n",
    "\n",
    "* __Test__: Showing prototype visualizations to people before stakeholders see them."
   ],
   "cell_type": "markdown",
   "metadata": {}
  },
  {
   "source": [
    "# Dirty Data\n",
    "---\n",
    "\n",
    "Dirty data is data that is incomplete, incorrect, or irrelevant to the problem you are trying to solve. It can't be used in a meaningful way, which makes data analysis very difficult, if not impossible.\n",
    "\n",
    "There are several types of dirty data:\n",
    "\n",
    "![Types Of Dirty Data](images\\dirty_data_types.png \"Types Of Dirty Data\")"
   ],
   "cell_type": "markdown",
   "metadata": {}
  },
  {
   "source": [
    "# Diverging Color Palette\n",
    "---\n",
    "\n",
    "A diverging color palette displays two ranges of values using color intensity to show the magnitude of the number and the actual color to show which range the number is from."
   ],
   "cell_type": "markdown",
   "metadata": {}
  },
  {
   "source": [
    "# Documentation\n",
    "---\n",
    "\n",
    "Documentation is the process of tracking changes, additions, deletions, and errors involved in your data cleaning effort.\n",
    "\n",
    "Some benefits of documentation are:\n",
    "\n",
    " * Recover data-cleaning errors\n",
    " * Inform other users of changes\n",
    " * Determine quality of data\n",
    " "
   ],
   "cell_type": "markdown",
   "metadata": {}
  },
  {
   "source": [
    "# dplyr (R)\n",
    "---\n",
    "\n",
    "In R programming language, dplyr offers a consistent set of functions that help you complete some common data manipulation tasks."
   ],
   "cell_type": "markdown",
   "metadata": {}
  },
  {
   "source": [
    "# Dynamic Visualization\n",
    "---\n",
    "\n",
    "A dynamic visualization is a visualization that is interactive or changes over time."
   ],
   "cell_type": "markdown",
   "metadata": {}
  },
  {
   "source": [
    "# Elements For Effective Visuals\n",
    "---\n",
    "\n",
    "The first rule in most businesses is to satisfy the customer, it's no different with data analytics. While your customers will probably be managers and other stakeholders, you should always think of them first when creating data visualizations.\n",
    "\n",
    "A successful data visualization results in a happy audience. So it's important to understand how your audience is viewing your data visualizations, since they should always be top of mind. And it all starts in the brain, when processing information our brains try to find patterns and rely on visual context.\n",
    "\n",
    "As data analysts, we can use our understanding of the human visual system to produce better visuals. When we create visualizations, we can do so in a way that helps the audience process the information and helps them remember what they're seeing.\n",
    "\n",
    "These are the essential elements for creating effective visuals:\n",
    "\n",
    "* __Clear meaning__: good visualizations clearly communicate their intended insight.\n",
    "\n",
    "* __Sophisticated use of contrast__: help to separate the most important data from the rest using visual context that our brains naturally look for.\n",
    "\n",
    "* __Refined execution__: visuals with refined execution include deep attention to detail, using visual elements like lines, shapes, colors, value, space and movement."
   ],
   "cell_type": "markdown",
   "metadata": {}
  },
  {
   "source": [
    "# Elements Of Art\n",
    "---\n",
    "\n",
    "These are the elements of art we will consider in the scope of data visualization:\n",
    "\n",
    " * Line: Lines and visualizations can be curved or straight, thick or thin, vertical, horizontal, or diagonal. They can add visual form to your data and help build a structure for your visualization.\n",
    "\n",
    " ![Elements Of Art - Lines](images\\elements_of_art_lines.png \"Elements Of Art - Lines\")\n",
    "\n",
    " * Shape: Shapes and visualizations should always be two-dimensional. This is because three-dimensional objects in a visualization can complicate the visual and confuse the audience. Shapes are also a great way to add eye-catching contrast, especially size contrast to your data story.\n",
    " \n",
    " This circle used for a pie chart lets someone quickly understand the data in a familiar format. Shapes with symmetry are usually more familiar to people, so there's less work for the audience to do when viewing symmetrical data viz.\n",
    "\n",
    " ![Elements Of Art - Shapes](images\\elements_of_art_shapes.png \"Elements Of Art - Shapes\")\n",
    "\n",
    " But the asymmetrical shapes in this map are still instantly recognizable as countries.\n",
    "\n",
    " ![Elements Of Art - Shapes](images\\elements_of_art_shapes_2.png \"Elements Of Art - Shapes\")\n",
    "\n",
    " * Color: Colors can be described by their hue, intensity, and value. The hue of a color is basically its name, red, green, blue and so on. Intensity is how bright or dull a color is, and finally, there's value. The value is how light or dark the colors are in a visualization.\n",
    " \n",
    " In more scientific terms, the color's value indicates how much light is being reflected. Dark values with some black added are called shades of color. Light values with white added are called tints.\n",
    " \n",
    " In this map, there are shades and tints of gray. The value of these colors help us understand the population data in the map and varying the color's value can be a very effective way to draw our audience's attention to specific areas.\n",
    "\n",
    " ![Elements Of Art - Colors](images\\elements_of_art_colors.png \"Elements Of Art - Colors\")\n",
    "\n",
    " * Space: Space is the area between, around and in the objects. There should always be space in data visualizations, just not too much or too little.\n",
    " \n",
    " For example, the space between the bars of a bar graph like this one should be smaller than the width of the bars themselves. This will draw the viewer's attention to the bar and the data it represents instead of the empty space.\n",
    "\n",
    " ![Elements Of Art - Space](images\\elements_of_art_space.png \"Elements Of Art - Space\")\n",
    "\n",
    " * Movement: Movement is used to create a sense of flow or action in a visualization. The interactivity allows for a greater volume of data to be displayed and we'll reveal multiple stories from the same data visualization.\n",
    "\n",
    " ![Elements Of Art - Movement](images\\elements_of_art_movement.gif \"Elements Of Art - Movement\")\n",
    " \n",
    " Remember, this is something that should be used sparingly. There's a fine line between attracting attention and distracting the audience. A static image lets you control all elements of the story you want to tell. When you start incorporating movement and interactivity, the story is controlled by whoever is controlling the interactivity, whether that's you or possibly your audience if you've turned control over to them."
   ],
   "cell_type": "markdown",
   "metadata": {}
  },
  {
   "source": [
    "# Elevator Pitch\n",
    "---\n",
    "\n",
    "An elevator pitch is a short statement describing an idea or concept. It should be just a couple of sentences, short enough that it can be explained to someone in an elevator ride."
   ],
   "cell_type": "markdown",
   "metadata": {}
  },
  {
   "source": [
    "# Equation\n",
    "---\n",
    "\n",
    "An equation is a calculation that involves addition, subtraction, multiplication, or division."
   ],
   "cell_type": "markdown",
   "metadata": {}
  },
  {
   "source": [
    "# Ethics\n",
    "---\n",
    "\n",
    "Ethics refers to well-founded standards of right and wrong that prescribe what humans ought to do, usually in terms of rights, obligations, benefits to society, fairness, or specific virtues.\n",
    "\n",
    "To most people, ethics is a set of principles to live by, a personal code of ethics that helps them navigate the world."
   ],
   "cell_type": "markdown",
   "metadata": {}
  },
  {
   "source": [
    "# External Data\n",
    "---\n",
    "\n",
    "External data is data that lives and is generated outside an organization. It can come from a variety of places, including other businesses, government sources, the media, professional associations, schools, and more. External data is sometimes called secondary data."
   ],
   "cell_type": "markdown",
   "metadata": {}
  },
  {
   "source": [
    "# EXTRACT\n",
    "---\n",
    "\n",
    "In SQL, the EXTRACT command let us pull one part of a given date to use."
   ],
   "cell_type": "markdown",
   "metadata": {}
  },
  {
   "source": [
    "# facet (R)\n",
    "---\n",
    "\n",
    "In R programming language, specifically in ggplot2, a facet let us display smaller groups, or subsets of data. \n",
    "\n",
    "A facet is a side or section of an object, like the sides of a gemstone. Facets show different sides of your data by placing each subset on its own plot. With facets, we can create separate plots for all the variables in a dataset.\n",
    "\n",
    "Faceting can help to discover new patterns in data and focus on relationships between different variables.\n",
    "\n",
    "The ggplot2 library has two functions for faceting:\n",
    "\n",
    "* facet_wrap()\n",
    "* facet_grid() "
   ],
   "cell_type": "markdown",
   "metadata": {}
  },
  {
   "source": [
    "# Factors (R)\n",
    "---\n",
    "\n",
    "In R programming language, factors store categorical data where the data values are limited and usually based on a finite group like country or year."
   ],
   "cell_type": "markdown",
   "metadata": {}
  },
  {
   "source": [
    "# Fairness\n",
    "---\n",
    "\n",
    "Fairness means ensuring that data analysis do not create or reinforce bias."
   ],
   "cell_type": "markdown",
   "metadata": {}
  },
  {
   "source": [
    "# Field\n",
    "---\n",
    "\n",
    "In a spreadsheet, a field is a single piece of information from a row or column."
   ],
   "cell_type": "markdown",
   "metadata": {}
  },
  {
   "source": [
    "# Field Length\n",
    "---\n",
    "\n",
    "In a spreadsheet, field length is a tool for determining how many characters can be keyed into a field."
   ],
   "cell_type": "markdown",
   "metadata": {}
  },
  {
   "source": [
    "# Fill Handle\n",
    "---\n",
    "\n",
    "The fill handle is a box in the lower-right-hand corner of a selected spreadsheet cell that can be dragged through neighboring cells in order to continue an instruction."
   ],
   "cell_type": "markdown",
   "metadata": {}
  },
  {
   "source": [
    "# Filtering\n",
    "---\n",
    "\n",
    "Filtering is the process of showing only the data that meets a specified criteria while hiding the rest.\n",
    "\n",
    "A filter simplifies a spreadsheet by only showing us the information we need. For example, we could add a filter to see only the sales representatives who worked with a particular product. Another example is, when cleaning data, you might use a filter to only find values above a certain number, or just even or odd values. In both cases, filtering helps you find what you need quickly and separates out the information you want from the rest."
   ],
   "cell_type": "markdown",
   "metadata": {}
  },
  {
   "source": [
    "# FIND\n",
    "---\n",
    "\n",
    "FIND is a spreadsheet function that determines the position of a specified character within a string.\n",
    "\n",
    "## Syntax\n",
    "\n",
    "=FIND(text to be found, text to search within, \\[starting at character\\])"
   ],
   "cell_type": "markdown",
   "metadata": {}
  },
  {
   "source": [
    "# Find And Replace\n",
    "---\n",
    "\n",
    "Find and replace is a tool that looks for a specified search term in a spreadsheet and allows you to replace it with something else."
   ],
   "cell_type": "markdown",
   "metadata": {}
  },
  {
   "source": [
    "# Five Whys\n",
    "---\n",
    "\n",
    "Five whys (or 5 whys) is an iterative interrogative technique used to explore the cause-and-effect relationships underlying a particular problem. The primary goal of the technique is to determine the root cause of a defect or problem by repeating the question _Why?_. Each answer forms the basis of the next question.\n",
    "\n",
    "The \"five\" in the name derives from an anecdotal observation on the number of iterations needed to resolve the problem."
   ],
   "cell_type": "markdown",
   "metadata": {}
  },
  {
   "source": [
    "# Float\n",
    "---\n",
    "\n",
    "A float is a number that contains a decimal."
   ],
   "cell_type": "markdown",
   "metadata": {}
  },
  {
   "source": [
    "# Foreign Key\n",
    "---\n",
    "\n",
    "A foreign key is a field within a table that is a primary key in another table."
   ],
   "cell_type": "markdown",
   "metadata": {}
  },
  {
   "source": [
    "# Formula\n",
    "---\n",
    "\n",
    "A formula is a set of instructions that performs a specific calculation using the data in a spreadsheet."
   ],
   "cell_type": "markdown",
   "metadata": {}
  },
  {
   "source": [
    "# Function\n",
    "---\n",
    "\n",
    "In a spreadsheet, a function is a preset command that automatically performs a specific process or task using the data."
   ],
   "cell_type": "markdown",
   "metadata": {}
  },
  {
   "source": [
    "# Function (R)\n",
    "---\n",
    "\n",
    "In R programming language, a function is a body of reusable code used to perform specific tasks."
   ],
   "cell_type": "markdown",
   "metadata": {}
  },
  {
   "source": [
    "# Gap Analysis\n",
    "---\n",
    "\n",
    "Gap analysis is a method for examining and evaluating how a process works currently in order to identify opportunities for improvement in the future.\n",
    "\n",
    "Businesses conduct gap analysis to do all kinds of things, such as improve a product or become more efficient. The general approach to gap analysis is understanding where you are now compared to where you want to be. Then, you can identify the gaps that exist between the current and future state and determine how to bridge them."
   ],
   "cell_type": "markdown",
   "metadata": {}
  },
  {
   "source": [
    "# GDPR (General Data Protection Regulation)\n",
    "---\n",
    "\n",
    "GDPR is a European Union data protection legislation to help protect people and their data."
   ],
   "cell_type": "markdown",
   "metadata": {}
  },
  {
   "source": [
    "# geom (R)\n",
    "---\n",
    "\n",
    "In R programming language, specifically in ggplot, a geom refers to the geometric object used to represent the data.\n",
    "\n",
    "For example, you can use points to create a scatter plot, bars to create a bar chart, or lines to create a line diagram. You can choose a geom to fit the type of data you have. Points show the relationship between two quantitative variables. Bars show one quantitative variable varies across different categories."
   ],
   "cell_type": "markdown",
   "metadata": {}
  },
  {
   "source": [
    "# geom_smooth (R)\n",
    "---\n",
    "\n",
    "In R programming language, specifically in ggplot, geom_smooth helps make data plots more readable, so that we can better recognize data trends and make key insights.\n",
    "\n",
    "Sometimes it can be hard to understand trends in your data from scatter plots alone. Smoothing enables the detection of a data trend even when you can't easily notice a trend from the plotted data points. Ggplot2’s smoothing functionality is helpful because it adds a smoothing line as another layer to a plot; the smoothing line helps the data to make sense to a casual observer.\n",
    "\n",
    "![geom_smooth()](images\\geom_smooth.png \"geom_smooth()\")"
   ],
   "cell_type": "markdown",
   "metadata": {}
  },
  {
   "source": [
    "# ggplot2 (R)\n",
    "---\n",
    "\n",
    "In R programming language, ggplot2 enables creating a variety of data visualizations by applying different visual properties to the data variables.\n",
    "\n",
    "The ggplot2 package is based on the grammar of graphics, which is a system for describing and building data visualizations. The essential idea behind the grammar of graphics is that you can build any plot from the same basic components, like building blocks. \n",
    "\n",
    "These building blocks include:\n",
    "\n",
    " * A dataset.\n",
    "\n",
    " * A set of geoms: A geom refers to the geometric object used to represent your data. For example, you can use points to create a scatterplot, bars to create a bar chart, lines to create a line diagram, etc. \n",
    " \n",
    " * A set of aesthetic attributes: An aesthetic is a visual property of an object in your plot. You can think of an aesthetic as a connection, or mapping, between a visual feature in your plot and a variable in your data. For example, in a scatterplot, aesthetics include things like the size, shape, color, or location (x-axis, y-axis) of your data points. \n",
    "To create a plot with ggplot2, you first choose a dataset. Then, you determine how to visually organize your data on a coordinate system by choosing a geom to represent your data points and aesthetics to map your variables. "
   ],
   "cell_type": "markdown",
   "metadata": {}
  },
  {
   "source": [
    "# Graph Types\n",
    "---\n",
    "\n",
    "## Bar Chart\n",
    "\n",
    "Bar graphs use size contrast to compare two or more values.\n",
    "\n",
    "The horizontal line of a bar graph usually placed at the bottom, is called the x-axis, and bar graphs with vertical bars, the x-axis is used to represent categories, time periods, or other variables. The vertical line of a bar graph usually placed to the left is called the y-axis. The y-axis usually has a scale of values for the variables.\n",
    "\n",
    "A bar chart should always be ranked by value, unless there's a natural order to the data like age or time, for example.\n",
    "\n",
    "Bar charts with horizontal bars effectively show data that are ranked, with bars arranged in ascending or descending order.\n",
    "\n",
    "### Example\n",
    "\n",
    "This simple bar chart shows metals like gold and platinum ranked by density. An audience would be able to clearly see the ranking and quickly determine which metals had the highest density, even if this database included a lot more metals.\n",
    "\n",
    "![Bar Chart Example](images\\bar_chart.png \"Bar Chart Example\")\n",
    "\n",
    "## Line Chart\n",
    "\n",
    "Line graphs help your audience to understand shifts or changes in your data. They're usually used to track changes through a period of time, but they can be paired with other factors too.\n",
    "\n",
    "## Pie Chart\n",
    "\n",
    "Pie charts show how much each part of something makes up the whole, showing proportions and percentages between categories. Each part of the circle should reflect its percentage to the whole, which is equal to 100%.\n",
    "\n",
    "For example, if you want to visualize your sales analysis to show the percentage of your company sales that come from online transactions, you could use a pie chart. The size of each slice would be the percentage of total sales that it represents.\n",
    "\n",
    "## Map\n",
    "\n",
    "Maps help organize data geographically. The great thing about maps is they can hold a lot of location-based information and they're easy for your audience to interpret."
   ],
   "cell_type": "markdown",
   "metadata": {}
  },
  {
   "source": [
    "# GROUP BY\n",
    "---\n",
    "\n",
    "GROUP BY is a SQL command that groups rows that have the same values from a table into summary rows. In a basic SELECT FROM or SELECT-FROM-WHERE query, GROUP BY comes at the end of the query."
   ],
   "cell_type": "markdown",
   "metadata": {}
  },
  {
   "source": [
    "# HAVING\n",
    "---\n",
    "\n",
    "HAVING allows you to add a filter to your SQL query instead of the underlying table that can only be used with aggregate functions."
   ],
   "cell_type": "markdown",
   "metadata": {}
  },
  {
   "source": [
    "# Header\n",
    "---\n",
    "\n",
    "An header is the first row in a spreadsheet that labels the type of data in each column."
   ],
   "cell_type": "markdown",
   "metadata": {}
  },
  {
   "source": [
    "# Headline\n",
    "---\n",
    "\n",
    "A headline is a line of words printed in large letters at the top of the visualization to communicate what data is being presented.\n",
    "\n",
    "Refer to the following table for recommended guidelines and style checks for headlines, subtitles, labels, and annotations in your data visualizations:\n",
    "\n",
    "![Headlines Tips](images\\headlines_tips.png \"Headlines Tips\")"
   ],
   "cell_type": "markdown",
   "metadata": {}
  },
  {
   "source": [
    "# Histogram\n",
    "---\n",
    "\n",
    "An histogram is a chart that shows how often data values fall into certain ranges.\n",
    "\n",
    "## Example\n",
    "\n",
    "This histogram shows a lot of data and how it's distributed on a narrow range from a negative one to a positive one. Each bin or bucket, as the bar is called, contains a certain number of values that fall into one small part of the range.\n",
    "\n",
    "![Histogram Example](images\\histogram.png \"Histogram Example\")"
   ],
   "cell_type": "markdown",
   "metadata": {}
  },
  {
   "source": [
    "# HTML (HyperText Markup Language)\n",
    "---\n",
    "\n",
    "HTML is the set of markup symbols or codes used to create a web page."
   ],
   "cell_type": "markdown",
   "metadata": {}
  },
  {
   "source": [
    "# Hyphotesis\n",
    "---\n",
    "\n",
    "The theory you are trying to prove or disprove with data."
   ],
   "cell_type": "markdown",
   "metadata": {}
  },
  {
   "source": [
    "# Hyphotesis Testing\n",
    "---\n",
    "\n",
    "Hypothesis testing is a way to see if a survey or experiment has meaningful results."
   ],
   "cell_type": "markdown",
   "metadata": {}
  },
  {
   "source": [
    "# IFNA\n",
    "---\n",
    "\n",
    "IFNA is a spreadsheet function that replaces the #N/A error with something more descriptive, like “Does not exist”.\n",
    "\n",
    "## Syntax\n",
    "\n",
    "=IFNA(value, value_if_na)\n",
    "\n",
    "### value\n",
    "\n",
    "This is a required value. The function checks if the cell value matches the value; such as #N/A.\n",
    "\n",
    "### value_if_na\n",
    "\n",
    "This is a required value. The function returns this value if the cell value matches the value in the first argument; it returns this value when the cell value is #N/A."
   ],
   "cell_type": "markdown",
   "metadata": {}
  },
  {
   "source": [
    "# Insufficient Data\n",
    "---\n",
    "\n",
    "These are the most common types of insufficient data:\n",
    "\n",
    " * Data from only one source\n",
    " * Data that keeps updating\n",
    " * Outdated data\n",
    " * Geographically-limited data\n",
    "\n",
    "![Data Issues](images\\data_issues.png \"Data Issues\")\n",
    "\n",
    "Some ways to address insufficient data are:\n",
    "\n",
    " * Identify trends with the available data\n",
    " * Wait for more data if time allows\n",
    " * Talk with stakeholders and adjust your objective\n",
    " * Look for a new data set\n",
    "\n",
    "Use the following decision tree as a reminder of how to deal with data errors or not enough data:\n",
    "\n",
    "![Data Errors](images\\data_errors.png \"Data Errors\")\n",
    "\n",
    "## Proxy Data\n",
    "\n",
    "Sometimes the data to support a business objective isn’t readily available. This is when proxy data is useful. Take a look at the following scenarios and where proxy data comes in for each example:\n",
    "\n",
    "![Proxy Data](images\\proxy.png \"Proxy Data\")"
   ],
   "cell_type": "markdown",
   "metadata": {}
  },
  {
   "source": [
    "# Integrated Development Environment (IDE)\n",
    "---\n",
    "\n",
    "A IDE is a software application that brings together all the tools you may want to use in a single place."
   ],
   "cell_type": "markdown",
   "metadata": {}
  },
  {
   "source": [
    "# Internal Data\n",
    "---\n",
    "\n",
    "Internal data is data that lives within a company's own systems. It's typically also generated from within the company. You may also hear internal data described as primary data."
   ],
   "cell_type": "markdown",
   "metadata": {}
  },
  {
   "source": [
    "# JOIN\n",
    "---\n",
    "\n",
    "JOIN is a SQL clause that is used to combine rows from two or more tables based on a related column.\n",
    "\n",
    "There are four common JOINs:\n",
    "\n",
    " * __INNER JOIN__: a INNER JOIN, or just JOIN, is a function that returns records with matching values in both tables.\n",
    "\n",
    " * __LEFT JOIN__: a LEFT JOIN is a function that will return all the records from the left table and only the matching records from the right table, where the table mentioned first is left, and the table mentioned second is right. You can also think of left as a table name to the left of the JOIN statement and right as a table name to the right of the JOIN statement.\n",
    "\n",
    " * __RIGHT JOIN__: a RIGHT JOIN is a function that will return all records from the right table and only the matching records from the left table.\n",
    "\n",
    " * __FULL OUTER JOIN__: a FULL OUTER JOIN, or just OUTER JOIN, is a function that combines RIGHT and LEFT JOIN to return all  records in both tables. If there are records in one table without a match in the other, it will output a record with null values for the other table's columns. \n",
    "\n",
    " ![JOIN Clause](images\\join.png \"JOIN Clause\")\n",
    "\n",
    "## Syntax\n",
    "\n",
    "![JOIN Syntax](images\\join_syntax.png \"JOIN Syntax\")"
   ],
   "cell_type": "markdown",
   "metadata": {}
  },
  {
   "source": [
    "# Labels And Annotations (R)\n",
    "---\n",
    "\n",
    "In R programming language, labels and annotations let us customize a plot.\n",
    "\n",
    "For example, we can add text like titles, subtitles and captions to communicate the purpose of a plot or highlight important data."
   ],
   "cell_type": "markdown",
   "metadata": {}
  },
  {
   "source": [
    "# Leading Question\n",
    "---\n",
    "\n",
    "A leading question is a question that steers people toward a certain response."
   ],
   "cell_type": "markdown",
   "metadata": {}
  },
  {
   "source": [
    "# LEFT\n",
    "---\n",
    "\n",
    "LEFT is a spreadsheet function that gives you a set number of characters from the left side of a text string.\n",
    "\n",
    "## Syntax\n",
    "\n",
    "=LEFT(range, number of characters)"
   ],
   "cell_type": "markdown",
   "metadata": {}
  },
  {
   "source": [
    "# Legend\n",
    "---\n",
    "\n",
    "A legend, or key, identifies the meaning of various elements in a data visualization."
   ],
   "cell_type": "markdown",
   "metadata": {}
  },
  {
   "source": [
    "# LEN\n",
    "---\n",
    "\n",
    "LEN is a spreadsheet function that tells you the length of a text string by counting the number of characters it contains.\n",
    "\n",
    "## Syntax\n",
    "\n",
    "=LEN(range)"
   ],
   "cell_type": "markdown",
   "metadata": {}
  },
  {
   "source": [
    "# Limitations Of Data\n",
    "---\n",
    "\n",
    "## The case of incomplete or nonexistent data\n",
    "\n",
    "If you have incomplete or nonexistent data, you might realize during an analysis that you don't have enough data to reach a conclusion. Or, you might even be solving a different problem altogether! For example, suppose you are looking for employees who earned a particular certificate but discover that certification records go back only two years at your company. You can still use the data, but you will need to make the limits of your analysis clear. You might be able to find an alternate source of the data by contacting the company that led the training. But to be safe, you should be up front about the incomplete dataset until that data becomes available.\n",
    "\n",
    "## Don't miss misaligned data\n",
    "\n",
    "If you're collecting data from other teams and using existing spreadsheets, it is good to keep in mind that people use different business rules. So one team might define and measure things in a completely different way than another. For example, if a metric is the total number of trainees in a certificate program, you could have one team that counts every person who registered for the training, and another team that counts only the people who completed the program. In cases like these, establishing how to measure things early on standardizes the data across the board for greater reliability and accuracy. This will make sure comparisons between teams are meaningful and insightful.\n",
    "\n",
    "## Deal with dirty data\n",
    "\n",
    "Dirty data refers to data that contains errors. Dirty data can lead to productivity loss, unnecessary spending, and unwise decision-making. A good data cleaning effort can help you avoid this. As a quick reminder, data cleaning is the process of fixing or removing incorrect, corrupted, incorrectly formatted, duplicate, or incomplete data within a dataset. When you find and fix the errors - while tracking the changes you made - you can avoid a data disaster. You will learn how to clean data later in the training.\n",
    "\n",
    "## Tell A Clear Story\n",
    "\n",
    "These are some of the best practices for good data storytelling: \n",
    "\n",
    " * Compare the same types of data: Data can get mixed up when you chart it for visualization. Be sure to compare the same types of data and double check that any segments in your chart definitely display different metrics. \n",
    "\n",
    " * Visualize with care: A 0.01% drop in a score can look huge if you zoom in close enough. To make sure your audience sees the full story clearly, it is a good idea to set your Y-axis to 0.\n",
    "\n",
    " * Leave out needless graphs: If a table can show your story at a glance, stick with the table instead of a pie chart or a graph. Your busy audience will appreciate the clarity.\n",
    "\n",
    " * Test for statistical significance: Sometimes two datasets will look different, but you will need a way to test whether the difference is real and important. So remember to run statistical tests to see how much confidence you can place in that difference.\n",
    "\n",
    " * Pay attention to sample size: Gather lots of data. If a sample size is small, a few unusual responses can skew the results. If you find that you have too little data, be careful about using it to form judgments. Look for opportunities to collect more data, then chart those trends over longer periods.\n",
    "\n",
    "## Be The Judge\n",
    "\n",
    "In any organization, a big part of a data analyst’s role is making sound judgments. When you know the limitations of your data, you can make judgment calls that help people make better decisions supported by the data. Data is an extremely powerful tool for decision-making, but if it is incomplete, misaligned, or hasn’t been cleaned, then it can be misleading. Take the necessary steps to make sure that your data is complete and consistent. Clean the data before you begin your analysis to save yourself and possibly others a great amount of time and effort."
   ],
   "cell_type": "markdown",
   "metadata": {}
  },
  {
   "source": [
    "# Mapping (R)\n",
    "---\n",
    "\n",
    "In R programming language, mapping refers to matching a specific variable in a dataset with a specific aesthetic."
   ],
   "cell_type": "markdown",
   "metadata": {}
  },
  {
   "source": [
    "# Margin Of Error\n",
    "---\n",
    "\n",
    "Margin of error is the maximum that the sample results are expected to differ from those of the actual population.\n",
    "\n",
    "More technically, the margin of error defines a range of values below and above the average result for the sample. The average result for the entire population is expected to be within that range.\n",
    "\n",
    "To calculate the margin of error, we need:\n",
    "\n",
    " * Population size\n",
    " * Sample size\n",
    " * Confidence level"
   ],
   "cell_type": "markdown",
   "metadata": {}
  },
  {
   "source": [
    "# Markdown\n",
    "---\n",
    "\n",
    "Markdown is a syntax for formatting plain text files."
   ],
   "cell_type": "markdown",
   "metadata": {}
  },
  {
   "source": [
    "# MATCH\n",
    "---\n",
    "\n",
    "MATCH is a function used to locate the position of a specific lookup value.\n",
    "\n",
    "## Syntax\n",
    "\n",
    "=MATCH(search_key, range)"
   ],
   "cell_type": "markdown",
   "metadata": {}
  },
  {
   "source": [
    "# Matrix (R)\n",
    "---\n",
    "\n",
    "In R programming language, a matrix is a two-dimensional collection of data elements. This means it has both rows and columns. By contrast, a vector is a one-dimensional sequence of data elements. But like vectors, matrices can only contain a single data type. For example, you can’t have both logicals and numerics in a matrix. "
   ],
   "cell_type": "markdown",
   "metadata": {}
  },
  {
   "source": [
    "# Meeting Best Practices\n",
    "---\n",
    "\n",
    "Every meeting should focus on making a clear decision and include the person needed to make that decision. And if there needs to be a meeting in order to make a decision, schedule it immediately. Don't let progress stall by waiting until next week's meeting. Also, try to keep the number of people at your meeting under 10 if possible. More people makes it hard to have a collaborative discussion.\n",
    "\n",
    "There are best practices to make sure your meetings are a success. This applies to both meetings you lead and ones you attend:\n",
    "\n",
    " * Come prepared: bring what you need, and read the meeting agenda. If you are presenting, prepare your notes and presentations, know what you are going to talk about, and be ready to answer questions.\n",
    "\n",
    " * Be on time: it's important to respect your team members' time. The best way to do this is to come to meetings on time. If you're leading the meeting, show up early and set up beforehand so you're ready to start when people arrive. You can do the same thing for online meetings.\n",
    " \n",
    " * Pay attention: staying focused and attentive during a meeting is another great way to respect your team members' time. You don't want to miss something important because you were distracted by something else during a presentation.\n",
    "\n",
    " * Ask questions: Paying attention also means asking questions when you need clarification, or if you think there may be a problem with a project plan. Don't be afraid to reach out after a meeting. If you didn't get to ask your question, follow up with the group afterwards and get your answer.\n",
    "\n",
    "There are also some obvious \"don'ts\" here. You don't want to show up unprepared, late, or distracted for meetings. You also don't want to dominate the conversation, talk over others, or distract people with unfocused discussion.\n",
    "\n",
    "Try to make sure you give other team members a chance to talk and always let them finish their thought before you start speaking. Everyone who is attending your meeting should be giving their input. Provide opportunities for people to speak up, ask questions, call for expertise, and solicit their feedback. You don't want to miss out on their valuable insights. And try to have everyone put their phones or computers on silent when they're not speaking, you included.\n",
    "\n",
    "## During the meeting\n",
    "\n",
    "As the leader of the meeting, it's your job to guide the data discussion. With everyone well informed of the meeting plan and goals, you can follow these steps to avoid any distractions:\n",
    "\n",
    " * Make introductions (if necessary) and review key messages.\n",
    " * Present the data.\n",
    " * Discuss observations, interpretations, and implications of the data.\n",
    " * Take notes during the meeting.\n",
    " * Determine and summarize next steps for the group.\n",
    "\n",
    "## After the meeting\n",
    "\n",
    "To keep the project and everyone aligned, prepare and distribute a brief recap of the meeting with next steps that were agreed upon in the meeting. You can even take it a step further by asking for feedback from the team.\n",
    "\n",
    " * Distribute any notes or data.\n",
    " * Confirm next steps and timeline for additional actions.\n",
    " * Ask for feedback (this is an effective way to figure out if you missed anything in your recap)."
   ],
   "cell_type": "markdown",
   "metadata": {}
  },
  {
   "source": [
    "# MAX\n",
    "---\n",
    "\n",
    "MAX is a spreadsheet and SQL function that returns the largest numeric value from a range of cells.\n",
    "\n",
    "## Syntax\n",
    "\n",
    "=MAX(range)"
   ],
   "cell_type": "markdown",
   "metadata": {}
  },
  {
   "source": [
    "# Measurable Question\n",
    "---\n",
    "\n",
    "A measurable question is a question whose answers can be quantified and assessed."
   ],
   "cell_type": "markdown",
   "metadata": {}
  },
  {
   "source": [
    "# Mental Model\n",
    "---\n",
    "\n",
    "Mental model is your thought process and the way you approach a problem."
   ],
   "cell_type": "markdown",
   "metadata": {}
  },
  {
   "source": [
    "# Mentor\n",
    "---\n",
    "\n",
    "Mentor is a professional who shares their knowledge, skills, and experience, to help you develop and grow. A mentor helps you skill up.\n",
    "\n",
    "Because your mentor is a person that you are going to go to with some of potentially the toughest choices of your career, looking to them for guidance, help and support, one of the most important things to look for in a mentor is somebody who you will get along with and somebody that you trust."
   ],
   "cell_type": "markdown",
   "metadata": {}
  },
  {
   "source": [
    "# Merger\n",
    "---\n",
    "\n",
    "Merger is an agreement that unites two organizations into a single new one."
   ],
   "cell_type": "markdown",
   "metadata": {}
  },
  {
   "source": [
    "# Metadata\n",
    "---\n",
    "\n",
    "Meta refers to something referencing back to itself or being completely self aware. For example if a character in a book knows she's in a book, that's meta. If you make a documentary about making documentaries, that's also meta. And if you analyze the best process of how to analyze data, that is meta as well.\n",
    "\n",
    "Metadata is data about data. Metadata tell us where the data comes from, when and how it was created, and what it's all about.\n",
    "\n",
    "Metadata is used in database management to help data analysts interpret the contents of the data within the database. It creates a sigle source of truth by keeping things consistent and uniform. Metadata also makes data more reliable by making sure it's accurate, precise, relevant, and timely.\n",
    "\n",
    "There are three types of metadata:\n",
    "\n",
    " * Descriptive: metadata that describes a piece of data and can be used to identify it at a later point in time.\n",
    "\n",
    " * Structural: metadata that indicates how a piece of data is organized and whether it's part of one or more than one data collection.\n",
    "\n",
    " * Administrative: metadata that indicates the technical source of a digital asset."
   ],
   "cell_type": "markdown",
   "metadata": {}
  },
  {
   "source": [
    "# Metadata Repository\n",
    "---\n",
    "\n",
    "A metadata repository is a database specifically created to store metadata. They make it easier and faster to bring together multiple sources for data analysis.\n",
    "\n",
    "Metadata repositories also:\n",
    "\n",
    " * Describe the state and location of the metadata.\n",
    " * Describe the structure of the tables inside.\n",
    " * Describe how the data flows through the repository.\n",
    " * Keep track of who accesses the metadata and when. "
   ],
   "cell_type": "markdown",
   "metadata": {}
  },
  {
   "source": [
    "# Metric\n",
    "---\n",
    "\n",
    "A metric is a single, quantifiable type of data that can be used for measurement."
   ],
   "cell_type": "markdown",
   "metadata": {}
  },
  {
   "source": [
    "# Metric Goal\n",
    "---\n",
    "\n",
    "A metric goal is a measurable goal set by a company and evaluated using metrics."
   ],
   "cell_type": "markdown",
   "metadata": {}
  },
  {
   "source": [
    "# MID\n",
    "---\n",
    "\n",
    "MID is a spreadsheet function that gives you a segment from the middle of a text string.\n",
    "\n",
    "## Syntax\n",
    "\n",
    "=MID(range, reference starting point, number of middle characters)"
   ],
   "cell_type": "markdown",
   "metadata": {}
  },
  {
   "source": [
    "# MIN\n",
    "---\n",
    "\n",
    "MIN is a spreadsheet and SQL function that returns the minimum value from a range of cells.\n",
    "\n",
    "## Syntax\n",
    "\n",
    "=MIN(range)"
   ],
   "cell_type": "markdown",
   "metadata": {}
  },
  {
   "source": [
    "# Modulo\n",
    "---\n",
    "\n",
    "Modulo is an operator (%) that returns the remainder when one number is divided by another."
   ],
   "cell_type": "markdown",
   "metadata": {}
  },
  {
   "source": [
    "# Naming Conventions\n",
    "---\n",
    "\n",
    "Naming conventions are consistent guidelines that describe the content, date, or version of a file in its name. It means using logical and descriptive names for files, to make them easier to find and use.\n",
    "\n",
    "Some best practices regarding file naming are:\n",
    "\n",
    " * Work out your conventions early.\n",
    " * Align file naming with your team.\n",
    " * Make sure file names are meaningful.\n",
    " * Keep file names short and to the point.\n",
    " * Format names yyyymmdd: SalesReport20201125\n",
    " * Lead revision numbers with 0: SalesReport20201125v02\n",
    " * Use hyphens, underscores, or capitalized letters: SalesReport_2020_11_25_v02\n",
    " * Create a text file that lays out all your naming conventions on a project.\n",
    "\n",
    "![Naming Conventions](images\\naming_conventions.png \"Naming Conventions\")"
   ],
   "cell_type": "markdown",
   "metadata": {}
  },
  {
   "source": [
    "# Nested\n",
    "---\n",
    "\n",
    "In programming, nested describes code that performs a particular function and is contained within code that performs a broader function."
   ],
   "cell_type": "markdown",
   "metadata": {}
  },
  {
   "source": [
    "# Networking\n",
    "---\n",
    "\n",
    "Networking can be called professional relationship building. It's all about meeting people both on and offline and building relationships with them."
   ],
   "cell_type": "markdown",
   "metadata": {}
  },
  {
   "source": [
    "# Normalized Database\n",
    "---\n",
    "\n",
    "A normalized database is a database in which only related data is stored in each table."
   ],
   "cell_type": "markdown",
   "metadata": {}
  },
  {
   "source": [
    "# Null\n",
    "---\n",
    "\n",
    "A null is an indication that a value does not exist in a dataset."
   ],
   "cell_type": "markdown",
   "metadata": {}
  },
  {
   "source": [
    "# Observation\n",
    "---\n",
    "\n",
    "An observation contains all of the attributes for something contained in a row of a data table."
   ],
   "cell_type": "markdown",
   "metadata": {}
  },
  {
   "source": [
    "# Open Data\n",
    "---\n",
    "\n",
    "Open data refers to data that is available to the public. Open data also is an important part of data ethics. Openness refers to free access, usage, and sharing of data.\n",
    "\n",
    "For data to be considered open, it has to:\n",
    "\n",
    " * Be available and accessible to the public as a complete dataset.\n",
    " * Be provided under terms that allow it to be reused and redistributed.\n",
    " * Allow universal participation so that anyone can use, reuse, and redistribute the data."
   ],
   "cell_type": "markdown",
   "metadata": {}
  },
  {
   "source": [
    "# Open Source\n",
    "---\n",
    "\n",
    "Open source refers to code that is freely available and may be modified and shared by the people who use it."
   ],
   "cell_type": "markdown",
   "metadata": {}
  },
  {
   "source": [
    "# Operator\n",
    "---\n",
    "\n",
    "An operator is a symbol that names the type of operation or calculation to be performed in a formula."
   ],
   "cell_type": "markdown",
   "metadata": {}
  },
  {
   "source": [
    "# Order Of Operations\n",
    "---\n",
    "\n",
    "In a spreadsheet, order of operations refers to using parentheses to group together spreadsheet values in order to clarify the order in which operations should be performed."
   ],
   "cell_type": "markdown",
   "metadata": {}
  },
  {
   "source": [
    "# Organization Guidelines\n",
    "---\n",
    "\n",
    "![Organization Guidelines](images\\organization_guidelines.png \"Organization Guidelines\")"
   ],
   "cell_type": "markdown",
   "metadata": {}
  },
  {
   "source": [
    "# Outliers\n",
    "---\n",
    "\n",
    "Outliers are data points that are very different from similarly collected data and might not be reliable values."
   ],
   "cell_type": "markdown",
   "metadata": {}
  },
  {
   "source": [
    "# Ownership\n",
    "---\n",
    "\n",
    "Ownership is the aspect of data ethics that presumes individuals own the raw data they provide and have primary control over its usage, processing, and sharing."
   ],
   "cell_type": "markdown",
   "metadata": {}
  },
  {
   "source": [
    "# Package (R)\n",
    "---\n",
    "\n",
    "In R programming language, a package is a unit of reproducible code.\n",
    "\n",
    "Packages in R include reusable R functions and documentation about the functions, including how to use them. They also contain sample datasets and tests for checking your code to make sure it does what you want it to do.\n",
    "\n",
    "By default, R includes a set of packages called \"Base R\" that are available to use in RStudio when you start your first programming session. There's also recommended packages that are loaded but not installed.\n",
    "\n",
    "Packages can be found in repositories, which are collections of useful packages that are ready to install. You can find repositories on [Bioconductor](http://bioconductor.org/), [R-Forge](https://r-forge.r-project.org/), [rOpenSci](https://ropensci.org/), or [GitHub](https://github.com/), but the most commonly used repository is the Comprehensive R Archive Network or [CRAN](https://cran.r-project.org/). CRAN stores code and documentation so that you can install packages into your own RStudio space.\n",
    "\n",
    "With so many packages out there, it can be hard to know which ones will be the most useful for your library or directory of installed packages. Luckily, there are some great resources out there:\n",
    "\n",
    " * [Tidyverse](https://www.tidyverse.org/): the tidyverse is a collection of R packages specifically designed for working with data. It’s a standard library for most data analysts, but you can also download the packages individually. \n",
    "\n",
    " * [Quick list of useful R packages](https://support.rstudio.com/hc/en-us/articles/201057987-Quick-list-of-useful-R-packages): this is RStudio Support’s list of useful packages with installation instructions and functionality descriptions. \n",
    "\n",
    " * [CRAN Task Views](https://cran.r-project.org/web/views/): this is an index of CRAN packages sorted by task. You can search for the type of task you need to perform and it will pull up a page with packages related to that task for you to explore.  "
   ],
   "cell_type": "markdown",
   "metadata": {}
  },
  {
   "source": [
    "# PAR Statement\n",
    "---\n",
    "\n",
    "PAR (Problem, Action, Result) refers to a statement that highlights a problem, then the actions taken to solve it, and finally the results, outcome or business benefits from applying the actions."
   ],
   "cell_type": "markdown",
   "metadata": {}
  },
  {
   "source": [
    "# Personally Identifiable Information (PII)\n",
    "---\n",
    "\n",
    "PII is information that can be used by itself or with other data to track down a person's identity."
   ],
   "cell_type": "markdown",
   "metadata": {}
  },
  {
   "source": [
    "# Pipe (R)\n",
    "---\n",
    "\n",
    "In R programming language, a pipe is a tool for expressing a sequence of multiple operations, represented with \"%>%\".\n",
    "\n",
    "By taking the output of one statement and making it the input of the next statement, a pipe makes a sequence of code easier to work with and read.\n",
    "\n",
    "We can think of a pipe as a way to code the phrase \"and then\". For example, say you have got sales data and now you need to find the mean or average. You can create a pipe by calling up the data _and then_ grouping the data _and then_ summarizing the group data using a mean function."
   ],
   "cell_type": "markdown",
   "metadata": {}
  },
  {
   "source": [
    "# Pivot Chart\n",
    "---\n",
    "\n",
    "A pivot chart is a chart created from the fields in a pivot table."
   ],
   "cell_type": "markdown",
   "metadata": {}
  },
  {
   "source": [
    "# Pivot Table\n",
    "---\n",
    "\n",
    "A pivot table is a data summarization tool that is used in data processing, allowing to view data in multiple ways to find insights and trends. Pivot tables can be used to summarize, sort, reorganize, group, count, total or average data stored in a database."
   ],
   "cell_type": "markdown",
   "metadata": {}
  },
  {
   "source": [
    "# Pixel\n",
    "---\n",
    "\n",
    "In digital imaging, a pixel is a small area of illumination on a screen display that, when combined with other adjacent areas, forms a digital image."
   ],
   "cell_type": "markdown",
   "metadata": {}
  },
  {
   "source": [
    "# Population\n",
    "---\n",
    "\n",
    "A population refers to all possible data values in a certain dataset."
   ],
   "cell_type": "markdown",
   "metadata": {}
  },
  {
   "source": [
    "# Portfolio\n",
    "---\n",
    "\n",
    "A portfolio is a collection of case studies that can be shared with potential employers."
   ],
   "cell_type": "markdown",
   "metadata": {}
  },
  {
   "source": [
    "# Presentation Tips & Best Practices\n",
    "---\n",
    "\n",
    "The framework of your presentation starts with your understanding of the business task. Raw data doesn't mean much to most people, but if you present your data in the context of the business task, your audience will have a much easier time connecting with it. This makes your presentation more informative and helps you empower your audience with knowledge. \n",
    "\n",
    "You want to establish your hiphotesis early in the presentation, to help you audience understand the data. That's why understanding the business task early on is key. Also, by showcasing what business metrics you used, you can help your audience understand the impact your findings will have.\n",
    "\n",
    "## Tips\n",
    "\n",
    "Using the following basic elements to outline your presentation could be a great place to start, and they can help you organize your findings into a clear story. It starts with how you want to organize your data insights. The narrative you share with your stakeholders needs:\n",
    "\n",
    "* Characters.\n",
    "* Setting.\n",
    "* Plot.\n",
    "* Big reveal.\n",
    "* \"Aha moment\".\n",
    "\n",
    "The characters are the people affected by your story. This could be your stakeholders, customers, clients, and others. When adding information about your characters to your story, you have a great opportunity to include a personal account and bring more human context to the facts that the data has revealed—think about why they care.\n",
    "\n",
    "A setting describes what's going on, how often it's happening, what tasks are involved, and other background information about the data project that describes the current situation.\n",
    "\n",
    "The plot, sometimes called the conflict, is what creates tension in the current situation. This could be a challenge from a competitor, an inefficient process that needs to be fixed, or a new opportunity that the company just can't pass up. This complication of the current situation should reveal the problem your analysis is solving and compel the characters to act.\n",
    "\n",
    "The big reveal, or resolution, is how the data has shown that you can solve the problem the characters are facing by becoming more competitive, improving a process, inventing a new system, or whatever the ultimate goal of your data project may be.\n",
    "\n",
    "The \"aha moment\" is when you share your recommendations and explain why you think they'll help your company be successful.\n",
    "\n",
    "## Best Practices\n",
    "\n",
    "There are helpful questions to ask yourself when applying best practices to create a presentation. For example, do you:\n",
    "\n",
    "* Use an attention-grabbing opening?\n",
    "* Start with broad ideas and later talk about specific details?\n",
    "* Speak in short sentences?\n",
    "* Pause for five seconds after showing a data visualization?\n",
    "* Pause intentionally at certain points?\n",
    "* Keep the pitch of your voice level?\n",
    "* Stand still and move with purpose?\n",
    "* Maintain good posture?\n",
    "* Look at your audience (or camera) while speaking?\n",
    "* Keep your message concise?\n",
    "* End by explaining why the data analysis matters?\n",
    "\n",
    "## Examples\n",
    "\n",
    "### Business Task\n",
    "\n",
    "This is an example of a business task: Let's say we're working with a grocery store chain, and they have asked us to identify trends and online searches for avocados to help them make seasonal stocking decisions.\n",
    "\n",
    "![Online Avocado Searches](images\\avocado_searches.png \"Online Avocado Searches\")\n",
    "\n",
    "### Good Presentation\n",
    "\n",
    "A good presentation logically guides the audience through the data – from the objectives at the beginning all the way to the conclusions at the end. Data visualizations are introduced using a common theme and are thoughtfully placed before each conclusion. A good presentation gives people in the audience the facts and data, helps them understand what the data means, and provides takeaways about how they can use their understanding to make a change or do some good.\n",
    "\n",
    "These are common best practices when creating a good presentation:\n",
    "\n",
    "* Title and date the presentation was last updated.\n",
    "* Flow or table of contents.\n",
    "* Transition slides.\n",
    "* Visual introduction to the data (also used as a repeated theme).\n",
    "* Animated bullet points.\n",
    "* Annotations on top of visuals.\n",
    "* Logic and progression.\n",
    "* Limitations to the data (caveats) - what the data can’t tell you.\n",
    "\n",
    "### Messy Presentation\n",
    "\n",
    "The main problem with a messy presentation is the lack of a logical flow. The data visualizations are hard to understand and appear without any introduction or explanation. The audience will have no sense of what they are looking at and why. When people in the audience have to figure out what the data means without any help, they can end up being lost, confused, and unclear about any actions they need to take.\n",
    "\n",
    "These are common problems found in a messy presentation:\n",
    "\n",
    "* No story or logical flow.\n",
    "* No titles.\n",
    "* Too much text.\n",
    "* Inconsistent format (no theme).\n",
    "* Hard to understand.\n",
    "* No recommendation or conclusion at the end."
   ],
   "cell_type": "markdown",
   "metadata": {}
  },
  {
   "source": [
    "# Primary Key\n",
    "---\n",
    "\n",
    "A primary key is an identifier that references a database column in which each value is unique."
   ],
   "cell_type": "markdown",
   "metadata": {}
  },
  {
   "source": [
    "# Principles Of Design\n",
    "---\n",
    "\n",
    "No matter how complex your analysis is, your audience will only care about what's in front of them and how easy they can understand it. Being a data analyst means learning to think in a lot of different ways. As you complete your analysis, you'll have to decide which visualization serve your needs and your audiences needs for each task.\n",
    "\n",
    "There are nine basic principles of design that data analysts should think about when building their visualizations. These principles can help guide you as you create effective and interesting visualizations:\n",
    "\n",
    "![Principles Of Design](images\\principles_of_design.png \"Principles Of Design\")\n",
    "\n",
    "## 1. Balance\n",
    "\n",
    "The design of a data visualization is balanced when the key visual elements, like color and shape, are distributed evenly. This doesn’t mean that you need complete symmetry, but your visualization shouldn’t have one side distracting from the other. If your data visualization is balanced, this could mean that the lines used to create the graphics are similar in length on both sides, or that the space between objects is equal.\n",
    "\n",
    "### Example\n",
    "\n",
    "This column chart is balanced; even though the columns are different heights and the chart isn’t symmetrical, the colors, width, and spacing of the columns keep this data visualization balanced. The colors provide sufficient contrast to each other so that you can pay attention to both the motivation level and the energy level displayed.\n",
    "\n",
    "![Principles Of Design - Balance](images\\balance.png \"Principles Of Design - Balance\")\n",
    "\n",
    "## 2. Emphasis\n",
    "\n",
    "Your data visualization should have a focal point, so that your audience knows where to concentrate. In other words, your visualizations should emphasize the most important data so that users recognize it first. Using color and value is one effective way to make this happen. By using contrasting colors, you can make certain that graphic elements—and the data shown in those elements—stand out.\n",
    "\n",
    "### Example\n",
    "\n",
    "This heat map visualization uses colors and value intensity to emphasize the states where search interest is highest. You can visually identify the increase in the search over time from low interest to high interest. This way, you are able to quickly grasp the key idea being presented without knowing the specific data values.\n",
    "\n",
    "![Principles Of Design - Emphasis](images\\emphasis.png \"Principles Of Design - Emphasis\")\n",
    "\n",
    "## 3. Movement\n",
    "\n",
    "Movement can refer to the path the viewer’s eye travels as they look at a data visualization, or literal movement created by animations. Movement in data visualization should mimic the way people usually read. You can use lines and colors to pull the viewer’s attention across the page.\n",
    "\n",
    "### Example\n",
    "\n",
    "Notice how the average line in this combo chart draws your attention from left to right. Even though this example isn’t moving, it still uses the movement principle to guide viewers’ understanding of the data.\n",
    "\n",
    "![Principles Of Design - Movement](images\\movement.png \"Principles Of Design - Movement\")\n",
    "\n",
    "## 4. Pattern\n",
    "\n",
    "You can use similar shapes and colors to create patterns in your data visualization. This can be useful in a lot of different ways. For example, you can use patterns to highlight similarities between different data sets, or break up a pattern with a unique shape, color, or line to create more emphasis.\n",
    "\n",
    "### Example\n",
    "\n",
    "The different colored categories of this stacked column chart are a consistent pattern that makes it easier to compare book sales by genre in each column. Notice in the chart that the Fantasy & Sci Fi category (royal blue) is increasing over time even as the general category (green) is staying about the same.\n",
    "\n",
    "![Principles Of Design - Pattern](images\\pattern.png \"Principles Of Design - Pattern\")\n",
    "\n",
    "## 5. Repetition\n",
    "\n",
    "Repeating chart types, shapes, or colors adds to the effectiveness of your visualization. Think about the book sales chart from the previous example: the repetition of the colors helps the audience understand that there are distinct sets of data. You may notice this repetition in all of the examples we have reviewed so far. Take some time to review each of the previous examples and notice the elements that are repeated to create a meaningful visual story.\n",
    "\n",
    "## 6. Proportion\n",
    "\n",
    "Proportion is another way that you can demonstrate the importance of certain data. Using various colors and sizes helps demonstrate that you are calling attention to a specific visual over others. If you make one chart in a dashboard larger than the others, then you are calling attention to it. It is important to make sure that each chart accurately reflects and visualizes the relationship among the values in it.\n",
    "\n",
    "## Example\n",
    "\n",
    "In this dashboard, the slice sizes and colors of the pie chart compared to the data in the table help make the number of donuts eaten by each person the focal point. \n",
    "\n",
    "![Principles Of Design - Proportion](images\\proportion.png \"Principles Of Design - Proportion\")\n",
    "\n",
    "## 7. Rhythm\n",
    "\n",
    "This refers to creating a sense of movement or flow in your visualization. Rhythm is closely tied to the movement principle. If your finished design doesn’t successfully create a flow, you might want to rearrange some of the elements to improve the rhythm.\n",
    "\n",
    "## 8. Variety\n",
    "\n",
    "Your visualizations should have some variety in the chart types, lines, shapes, colors, and values you use. Variety keeps the audience engaged. But it is good to find balance since too much variety can confuse people. The variety you include should make your dashboards and other visualizations feel interesting and unified.\n",
    "\n",
    "## 9. Unity\n",
    "\n",
    "The last principle is unity. This means that your final data visualization should be cohesive. If the visual is disjointed or not well organized, it will be confusing and overwhelming. "
   ],
   "cell_type": "markdown",
   "metadata": {}
  },
  {
   "source": [
    "# Problem Domain\n",
    "---\n",
    "\n",
    "The problem domain is the specific area of analysis that encompasses every activity affecting or affected by the problem."
   ],
   "cell_type": "markdown",
   "metadata": {}
  },
  {
   "source": [
    "# Problem Types\n",
    "---\n",
    "\n",
    "The various problems that data analysts encounter, including:\n",
    "\n",
    "![Problem Types](images\\problem_types.png \"Problem Types\")\n",
    "\n",
    "## Making predictions\n",
    "\n",
    "For example, how to determine the best advertising method for a company's target audience.\n",
    "\n",
    "A company that wants to know the best advertising method to bring in new customers is an example of a problem requiring analysts to make predictions. Analysts with data on location, type of media, and number of new customers acquired as a result of past ads can't guarantee future results, but they can help predict the best placement of advertising to reach the target audience.\n",
    " \n",
    "## Categorizing things\n",
    "\n",
    "For example, how to improve customer satisfaction levels.\n",
    "\n",
    "An example of a problem requiring analysts to categorize things is a company's goal to improve customer satisfaction. Analysts might classify customer service calls based on certain keywords or scores. This could help identify top-performing customer service representatives or help correlate certain actions taken with higher customer satisfaction scores.\n",
    " \n",
    "## Spotting something unusual\n",
    "\n",
    "For example, how a smart watch can find a peak in a resting heartbeat rate of a person.\n",
    "\n",
    "A company that sells smart watches that help people monitor their health would be interested in designing their software to spot something unusual. Analysts who have analyzed aggregated health data can help product developers determine the right algorithms to spot and set off alarms when certain data doesn't trend normally.\n",
    " \n",
    "## Identifying themes\n",
    "\n",
    "For example, how to improve a coffee maker customers' interaction with their products.\n",
    "\n",
    "User experience (UX) designers might rely on analysts to analyze user interaction data. Similar to problems that require analysts to categorize things, usability improvement projects might require analysts to identify themes to help prioritize the right product features for improvement. Themes are most often used to help researchers explore certain aspects of data. In a user study, user beliefs, practices, and needs are examples of themes. \n",
    "\n",
    "By now you might be wondering if there is a difference between categorizing things and identifying themes, The best way to think about it is this: Categorizing things involves assigning items to categories. Identifying themes takes those categories a step further by grouping them into broader themes.\n",
    "\n",
    "## Discovering connections\n",
    "\n",
    "For example, how to reduce wait time of truck drivers when they pick up a shipment.\n",
    "\n",
    "A third-party logistics company working with another company to get shipments delivered to customers on time is a problem requiring analysts to discover connections. By analyzing the wait times at shipping hubs, analysts can determine the appropriate schedule changes to increase the number of on-time deliveries. \n",
    " \n",
    "## Finding patterns\n",
    "\n",
    "For example, how to stop machines from breaking down by generating insights on what led to the breakage.\n",
    "\n",
    "Minimizing downtime caused by machine failure is an example of a problem requiring analysts to find patterns in data. For example, by analyzing maintenance data, they might discover that most failures happen if regular maintenance is delayed by more than a 15-day window. "
   ],
   "cell_type": "markdown",
   "metadata": {}
  },
  {
   "source": [
    "# Profit Margin\n",
    "---\n",
    "\n",
    "The profit margin is a percentage that indicates how many cents of profit has been generated for each dollar of sale."
   ],
   "cell_type": "markdown",
   "metadata": {}
  },
  {
   "source": [
    "# Programming Language\n",
    "---\n",
    "\n",
    "A programming language is the words and symbols we use to write instructions for computers to follow.\n",
    "\n",
    "Programming languages have their own set of rules for how these words and symbols should be used, called syntax. The syntax shows you how to arrange the words and symbols you enter so they make sense to a computer.\n",
    "\n",
    "Just like the variety of human languages around the world, there's lots of different programming languages available to communicate with computers. There's a language for almost anything you want to do, from designing websites, to developing video games, to working with data.\n",
    "\n",
    "For example, Python is a general-purpose language that can be used for all sorts of things, from working with artificial intelligence to creating virtual reality experiences. Javascript works well for developing online apps and is an essential part of web browsers. Some other popular programming languages for data analysis include R, SAS, Scala, and Julia.\n",
    "\n",
    "These are three advantages of using a programming language for data analysis:\n",
    "\n",
    "* Clarify the analysis steps.\n",
    "* Save time.\n",
    "* Reproduce and share work."
   ],
   "cell_type": "markdown",
   "metadata": {}
  },
  {
   "source": [
    "# Quantitative And Qualitative Data\n",
    "---\n",
    "\n",
    "Quantitative data is about specific and objective measures of numerical facts. This can often be the what, how many, and how often about a problem. In other words, things you can measure, for example, how many commuters take the train to work every week.\n",
    "\n",
    "Qualitative data describes subjective or explanatory measures of qualities and characteristics or things that can't be measured with numerical data, for example, a person's hair color.\n",
    "\n",
    "![Quantitative and Qualitative Data](images\\quantitative_qualitative.png \"Quantitative and Qualitative Data\")"
   ],
   "cell_type": "markdown",
   "metadata": {}
  },
  {
   "source": [
    "# Query\n",
    "---\n",
    "\n",
    "A query is a request for data or information from a database."
   ],
   "cell_type": "markdown",
   "metadata": {}
  },
  {
   "source": [
    "# Query Language\n",
    "---\n",
    "\n",
    "Query language is a computer programming language used to communicate with a database."
   ],
   "cell_type": "markdown",
   "metadata": {}
  },
  {
   "source": [
    "# R\n",
    "---\n",
    "\n",
    "R is a programming language frequently used for statistical analysis, visualization, and other data analysis.\n",
    "\n",
    "R is based on another programming language named S. In the 1970s, John Chambers created S for internal use at Bell Labs, a famous scientific research facility. In the 1990s, Ross Oaxaca and Robert Gentleman developed R at the University of Auckland, New Zealand. The title R refers to the first names of its two authors and plays on a single- letter tittle of its predecessor S. Since then, R has become a preferred programming language of scientists, statisticians and data analysts around the world."
   ],
   "cell_type": "markdown",
   "metadata": {}
  },
  {
   "source": [
    "# R Markdown\n",
    "---\n",
    "\n",
    "R Markdown is a file format for making dynamic documents with R. We can use an R Markdown file as a code notebook to save, organize, and document our analysis using code chunks, comments, and other features. For example, when we finish data cleaning and exploration, we can create a report in R Markdown to summarize your findings for stakeholders.\n",
    "\n",
    "Any R Markdown document can be used as a notebook."
   ],
   "cell_type": "markdown",
   "metadata": {}
  },
  {
   "source": [
    "# R Notebook\n",
    "---\n",
    "\n",
    "An R notebook lets users run R code and show the graphs and charts that visualize the code."
   ],
   "cell_type": "markdown",
   "metadata": {}
  },
  {
   "source": [
    "# R vs Python\n",
    "---\n",
    "\n",
    "R has been used by professionals who have a statistical or research-oriented approach to solving problems; among them are scientists, statisticians, and engineers. Python has been used by professionals looking for solutions in the data itself, those who must heavily mine data for answers; among them are data scientists, machine learning specialists, and software developers.\n",
    "\n",
    "![R vs Python](images\\r_vs_python.png \"R vs Python\")\n",
    "\n",
    "For more information on comparing R and Python:\n",
    "\n",
    " * [R versus Python, a comprehensive guide for data professionals](https://medium.com/analytics-and-data/r-vs-python-a-comprehensive-guide-for-data-professionals-321e8dead598): This article is written by a data professional with extensive experience using both languages and provides a detailed comparison.\n",
    " * [R versus Python, an objective comparison](https://www.dataquest.io/blog/python-vs-r/): This article provides a comparison of the languages using examples of code use.\n",
    " * [R versus Python: What’s the best language for data science?](https://blog.rstudio.com/2019/12/17/r-vs-python-what-s-the-best-for-language-for-data-science/): This blog article provides RStudio’s perspective on the R vs. Python debate."
   ],
   "cell_type": "markdown",
   "metadata": {}
  },
  {
   "source": [
    "# Random Sampling\n",
    "---\n",
    "\n",
    "Random sampling is a way of selecting a sample from a population so that every possible type of the sample has an equal chance of being chosen."
   ],
   "cell_type": "markdown",
   "metadata": {}
  },
  {
   "source": [
    "# Range\n",
    "---\n",
    "\n",
    "In a spreadsheet, a range refers to a collection of two or more cells."
   ],
   "cell_type": "markdown",
   "metadata": {}
  },
  {
   "source": [
    "# RDBMS\n",
    "---\n",
    "\n",
    "Relational Database Management System."
   ],
   "cell_type": "markdown",
   "metadata": {}
  },
  {
   "source": [
    "# readr (R)\n",
    "---\n",
    "\n",
    "In R programming language, readr is used for importing data. The goal of readr is to provide a fast and friendly way to read rectangular data.\n",
    "\n",
    "The most common function from readr is read_csv(), which is used to import a CSV file into R. Each readr function refers to a specific file format:\n",
    "\n",
    " * __read_csv()__: comma-separated values (.csv) files.\n",
    " * __read_tsv()__: tab-separated values files.\n",
    " * __read_delim()__: general delimited files.\n",
    " * __read_fwf()__: fixed-width files.\n",
    " * __read_table()__: tabular files where columns are separated by white-space.\n",
    " * __read_log()__: web log files."
   ],
   "cell_type": "markdown",
   "metadata": {}
  },
  {
   "source": [
    "# Redundancy\n",
    "---\n",
    "\n",
    "Redundancy occurs when the same piece of data is stored in two or more places."
   ],
   "cell_type": "markdown",
   "metadata": {}
  },
  {
   "source": [
    "# Reframing\n",
    "---\n",
    "\n",
    "Reframing is the process of restating a problem or challenge, then redirecting it toward a potential resolution."
   ],
   "cell_type": "markdown",
   "metadata": {}
  },
  {
   "source": [
    "# Relational Database\n",
    "---\n",
    "\n",
    "Relational database is a database that contains a series of tables that can be connected to form relationships.\n",
    "\n",
    "![Relational Database](images\\relational_database.png \"Relational Database\")"
   ],
   "cell_type": "markdown",
   "metadata": {}
  },
  {
   "source": [
    "# Relevant Question\n",
    "---\n",
    "\n",
    "A relevant question is a question that has significance to the problem to be solved."
   ],
   "cell_type": "markdown",
   "metadata": {}
  },
  {
   "source": [
    "# Remove Duplicates\n",
    "---\n",
    "\n",
    "Remove duplicates is a tool that automatically searches for and eliminates duplicate entries from a spreadsheet."
   ],
   "cell_type": "markdown",
   "metadata": {}
  },
  {
   "source": [
    "# Report\n",
    "---\n",
    "\n",
    "A report is a static collection of data given to stakeholders periodically. Reports are great for giving snapshots of high level historical data for an organization. For example, a finance firm's monthly sales.\n",
    "\n",
    "Reports use static data or data that doesn't change once it's been recorded, they reflect data that's already been cleaned and sorted. There are some downsides to keep in mind too. Reports need regular maintenance and aren't very visually appealing. Because they aren't automatic or dynamic, reports don't show live, evolving data."
   ],
   "cell_type": "markdown",
   "metadata": {}
  },
  {
   "source": [
    "# Return On Investment\n",
    "---\n",
    "\n",
    "Return on investment (ROI) is a performance metric used to evaluate the efficiency or profitability of an investment or compare the efficiency of a number of different investments. ROI tries to directly measure the amount of return on a particular investment, relative to the investment’s cost.\n",
    "\n",
    "To calculate ROI, the benefit (or return) of an investment is divided by the cost of the investment. The result is expressed as a percentage or a ratio:\n",
    "\n",
    "$\\large \\text{ROI} = \\Large \\frac{\\text{Profit}}{\\text{Cost of Investment}}$"
   ],
   "cell_type": "markdown",
   "metadata": {}
  },
  {
   "source": [
    "# Revenue\n",
    "---\n",
    "\n",
    "Revenue is the total amount of income generated by the sale of goods and services."
   ],
   "cell_type": "markdown",
   "metadata": {}
  },
  {
   "source": [
    "# RIGHT\n",
    "---\n",
    "\n",
    "RIGHT is a spreadsheet function that gives you a set number of characters from the right side of a text string.\n",
    "\n",
    "## Syntax\n",
    "\n",
    "=RIGHT(range, number of characters)"
   ],
   "cell_type": "markdown",
   "metadata": {}
  },
  {
   "source": [
    "# ROCCC\n",
    "---\n",
    "\n",
    "The more high quality data we have, the more confidence we can have in our decisions. The best data are vetted public datasets, academic papers, financial data, and governmental agency data.\n",
    "\n",
    "ROCCC is an acronym that help us spot good data:\n",
    "\n",
    " * __Reliable__: data you can trust as accurate, complete and unbiased information that's been vetted and proven fit for use.\n",
    "\n",
    " * __Original__: data comes from a reliable organization.\n",
    "\n",
    " * __Comprehensive__: data contains all critical information needed to answer the question or find the solution.\n",
    "\n",
    " * __Current__: data is current and relevant to the task at hand.\n",
    "\n",
    " * __Cited__: data that was cited is more credible."
   ],
   "cell_type": "markdown",
   "metadata": {}
  },
  {
   "source": [
    "# Root Cause\n",
    "---\n",
    "\n",
    "The root cause of a problem is the reason why the problem occurs."
   ],
   "cell_type": "markdown",
   "metadata": {}
  },
  {
   "source": [
    "# Sample Size\n",
    "---\n",
    "\n",
    "A sample size, or sample, is a part of a population that is representative of the population.\n",
    "\n",
    "The sample size helps ensure the degree to which you can be confident that your conclusions accurately represent the population.\n",
    "\n",
    "Using a sample for analysis is more cost-effective and takes less time. However, when you only use a small sample of a population, it can lead to uncertainty. If you can't be $100$% sure that your statistics are a complete and accurate representation of the population, for example, if some members of the population are being overrepresented or underrepresented, that can lead to sampling bias.\n",
    "\n",
    "In the context of sample size, the following terms and definitions are most relevant:\n",
    "\n",
    "![Sample Size Terminology](images\\sample_size_terminology.png \"Sample Size Terminology\")\n",
    "\n",
    "When figuring out a sample size, here are things to keep in mind:\n",
    "\n",
    " * Don’t use a sample size less than $30$. It has been statistically proven that $30$ is the smallest sample size where an average result of a sample starts to represent the average result of a population.\n",
    " * As sample size increases, the average result of the sample grows closer to the average result of the population.\n",
    " * The confidence level most commonly used is $95$%, but $90$% can work in some cases. "
   ],
   "cell_type": "markdown",
   "metadata": {}
  },
  {
   "source": [
    "# Schema\n",
    "---\n",
    "\n",
    "A schema is a way of describing how something is organized.\n",
    "\n",
    "Data schemas are like blueprints of how the database is constructed. Schemas are useful when learning about a new dataset or designing a relational database."
   ],
   "cell_type": "markdown",
   "metadata": {}
  },
  {
   "source": [
    "# Scope Of Work (SOW)\n",
    "---\n",
    "\n",
    "A scope of work is an agreed-upon outline of the work you are going to perform on a project. For many businesses, this includes things like work details, schedules, and reports that the client can expect.\n",
    "\n",
    "![Scope Of Work](images\\sow.png \"Scope Of Work\")\n",
    "\n",
    "An effective SOW should include:\n",
    "\n",
    " * Project objectives: Your problem statement. What is it the issue that you’re facing and what do you want to achieve with this project?\n",
    " * Schedule/Milestones: When is the project starting and when does it need to be finished by? What are the major milestones or phases of the project that you’ll be able to track and measure progress by?\n",
    " * Individual Tasks:What exactly needs to get done in order to go from where you are now to a finished project?\n",
    " * Deliverables: What do you need at the end of the project? Is it simply a .PSD file of the website mockup? Or usable code on a staging server that you can implement when you’re ready?\n",
    " * Payment Information: How much is the project going to cost and how are you going to pay the team you’re working with?\n",
    " * Expected Outcomes: The answer to your problem statement. Are you looking for an increase in traffic, conversions, or sales? What is the business objective that you want to hit with this project and how will you measure and report on it?\n",
    " * Terms, conditions, and requirements: Define the terms you’re using in the SOW and any conditions or requirements that aren’t already made clear."
   ],
   "cell_type": "markdown",
   "metadata": {}
  },
  {
   "source": [
    "# SMART Methodology\n",
    "---\n",
    "\n",
    "Knowing the difference between effective and ineffective questions is essential for your future career as a data analyst. We need to avoid innefective questions that are leading, closed-ended, vague or lacking context.\n",
    "\n",
    "Effective questions follow the SMART methodology. The SMART methodology is a tool for determining a question’s effectiveness based on whether it is specific, measurable, action-oriented, relevant, and time-bound.\n",
    "\n",
    "![SMART Questions](images\\smart.png \"SMART Questions\")\n",
    "\n",
    "## Specific\n",
    "\n",
    "Specific questions need to be simple, significant, and focused on a sigle topic or a few closely related ideas.\n",
    "\n",
    "## Measurable\n",
    "\n",
    "Measurable questions can be quantified and assessed.\n",
    "\n",
    "## Action-oriented\n",
    "\n",
    "Action-oriented questions encourage change. You might remember that problem solving is about seeing the current state and figuring out how to transform it into the ideal future state.\n",
    "\n",
    "## Relevant\n",
    "\n",
    "Relevant questions matter, are important and have significance to the problem you're trying to solve.\n",
    "\n",
    "## Time-bound\n",
    "\n",
    "Time-bound questions specify the time to be studied.\n",
    "\n",
    "### An Example of SMART questions\n",
    "\n",
    "Here's an example that breaks down the thought process of turning a problem question into one or more SMART questions using the SMART method:\n",
    "\n",
    "What features do people look for when buying a new car?\n",
    "\n",
    " * Specific: Does the question focus on a particular car feature?\n",
    " * Measurable: Does the question include a feature rating system?\n",
    " * Action-oriented: Does the question influence creation of different or new feature packages?\n",
    " * Relevant: Does the question identify which features make or break a potential car purchase?\n",
    " * Time-bound: Does the question validate data on the most popular features from the last three years? \n",
    "\n",
    "Questions should be open-ended. This is the best way to get responses that will help you accurately qualify or disqualify potential solutions to your specific problem.\n",
    "\n",
    "So, based on the thought process, possible SMART questions might be:\n",
    "\n",
    " * On a scale of 1-10 (with 10 being the most important) how important is your car having four-wheel drive?\n",
    " * What are the top five features you would like to see in a car package?\n",
    " * What features, if included with four-wheel drive, would make you more inclined to buy the car?\n",
    " * How much more would you pay for a car with four-wheel drive?\n",
    " * Has four-wheel drive become more or less popular in the last three years?"
   ],
   "cell_type": "markdown",
   "metadata": {}
  },
  {
   "source": [
    "# Social Media\n",
    "---\n",
    "\n",
    "Social media are websites and applications through which users create and share content or participate in social networking."
   ],
   "cell_type": "markdown",
   "metadata": {}
  },
  {
   "source": [
    "# Soft Skills\n",
    "---\n",
    "\n",
    "Soft skills are non-technical traits and behaviors that relate to how you work.\n",
    "\n",
    "These are examples of soft skills:\n",
    "\n",
    "![Soft Skills](images\\soft_skills.png \"Soft Skills\")\n",
    "\n",
    "Here are a few ways that you can add soft skills to your resume:\n",
    "\n",
    " * Analyze your previous work experience and find opportunities to insert a soft skill. For example, if you worked in a restaurant, you could emphasize your communication and adaptability skills that you utilized to effectively function during peak hours. \n",
    " * Call attention to your problem-solving, presentation, research, and communication skills in previous projects or relevant coursework.\n",
    " * Add a mix of soft and professional skills in the skills or summary section of your resume."
   ],
   "cell_type": "markdown",
   "metadata": {}
  },
  {
   "source": [
    "# SORT\n",
    "---\n",
    "\n",
    "SORT is a spreadsheet function that sorts data.\n",
    "\n",
    "## Syntax\n",
    "\n",
    "=SORT(range, sort_column, is_ascending)"
   ],
   "cell_type": "markdown",
   "metadata": {}
  },
  {
   "source": [
    "# Sorting Data\n",
    "---\n",
    "\n",
    "Sorting data is about arranging data into a meaningful order to make it easier to understand, analyze, and visualize.\n",
    "\n",
    "Data can be sorted in ascending or descending order, and alphabetically or numerically. Sorting can be done across all of a spreadsheet or just in a single column or table. You can also sort by multiple variables. For instance, if our data set contains both city and state fields, we can sort first by city and then by state.\n",
    "\n",
    "## Customized sort order\n",
    "\n",
    "A customized sort order is when you sort data in a spreadsheet using multiple conditions."
   ],
   "cell_type": "markdown",
   "metadata": {}
  },
  {
   "source": [
    "# Sort Range\n",
    "---\n",
    "\n",
    "When using sort range, nothing else on the spreadsheet is rearranged besides the specified cells in a column."
   ],
   "cell_type": "markdown",
   "metadata": {}
  },
  {
   "source": [
    "# Sort Sheet\n",
    "---\n",
    "\n",
    "When using sort sheet, all of the data in a spreadsheet is sorted by the ranking of a specified sorted column, therefore, data across rows is kept together."
   ],
   "cell_type": "markdown",
   "metadata": {}
  },
  {
   "source": [
    "# Specific Question\n",
    "---\n",
    "\n",
    "A specific question is a question that is simple, significant, and focused on a single topic or a few closely related ideas."
   ],
   "cell_type": "markdown",
   "metadata": {}
  },
  {
   "source": [
    "# Sponsor\n",
    "---\n",
    "\n",
    "A sponsor is a professional advocate who's committed to moving a sponsee's career forward within an organization. A sponsor helps you move up."
   ],
   "cell_type": "markdown",
   "metadata": {}
  },
  {
   "source": [
    "# Spotlighting\n",
    "---\n",
    "\n",
    "Spotlighting is scanning through data to quickly identify the most important insights."
   ],
   "cell_type": "markdown",
   "metadata": {}
  },
  {
   "source": [
    "# SPLIT\n",
    "---\n",
    "\n",
    "Split is a Google Sheet's function that divides text around a specified character and puts each fragment into a new, separate cell.\n",
    "\n",
    "## Syntax\n",
    "\n",
    "=SPLIT(text, delimiter)"
   ],
   "cell_type": "markdown",
   "metadata": {}
  },
  {
   "source": [
    "# Spreadsheet Errors\n",
    "---\n",
    "\n",
    "![Spreadsheet Errors](images\\spreadsheet_errors.png \"Spreadsheet Errors\")"
   ],
   "cell_type": "markdown",
   "metadata": {}
  },
  {
   "source": [
    "# Spreadsheets vs SQL Databases\n",
    "---\n",
    "\n",
    "Spreadsheets and SQL are different things. Spreadsheets are generated with a program like Microsoft Excel or Google Sheets. These programs are designed to execute certain built-in functions. SQL on the other hand is a language that can be used to interact with database programs, like Oracle MySQL or Microsoft SQL Server.\n",
    "\n",
    "The differences between the two are mostly in how they're used. If a data analyst was given data in the form of a spreadsheet they'll probably do their data cleaning and analysis within that spreadsheet, but if they're working with a large data set with more than a million rows or multiple files within a database, it's easier, faster and more repeatable to use SQL.\n",
    "\n",
    "![Spreadsheets vs SQL Databases](images\\spreadsheets_vs_sql.png \"Spreadsheets vs SQL Databases\")"
   ],
   "cell_type": "markdown",
   "metadata": {}
  },
  {
   "source": [
    "# Static vs Dynamic Visualization\n",
    "---\n",
    "\n",
    "A static visualization does not change over time unless they are edited.\n",
    "\n",
    "Static visualizations can be useful when you want to control your data and your data story. Any visualization printed on paper is automatically static. Charts and graphs created in spreadsheets are often static too. For example, the owner of a spreadsheet might have to change the data in order for the visualization to update.\n",
    "\n",
    "A dynamic visualization is interactive or changes over time.\n",
    "\n",
    "The interactive nature of dynamic visualizations means that users have some control over what they see. This can be helpful if stakeholders want to adjust what they're able to view.\n",
    "\n",
    "It's good to remember that the more power you give the user, the less control you have over the story you want the data to tell. It's something to keep in mind as you learn how to create your own visualizations. You want to find the right balance between interactivity and control. Also, when choosing between using a static or dynamic visualization, you should consider the data you're visualizing, the audience you're presenting to, and how you're giving your presentation. "
   ],
   "cell_type": "markdown",
   "metadata": {}
  },
  {
   "source": [
    "# Structured Query Language (SQL)\n",
    "---\n",
    "\n",
    "SQL is a structured query language that analyst use to work with databases.\n",
    "\n",
    "Some database products have their own variant of SQL, and these different varieties of SQL dialects are what help you communicate with each database product.\n",
    "\n",
    "These dialects will be different from company to company and might change over time if the company moves to another database system. So, a lot of analysts start with Standard SQL and then adjust the dialect they use based on what database they are working with. Standard SQL works with a majority of databases and requires a small number of syntax changes to adapt to other dialects."
   ],
   "cell_type": "markdown",
   "metadata": {}
  },
  {
   "source": [
    "# Stakeholders\n",
    "---\n",
    "\n",
    "People who have invested time, interest, and resources into a project and are interested in its outcome.\n",
    "\n",
    "Stakeholders will want to discuss things like the project objective, what you need to reach that goal, and any challenges or concerns you have."
   ],
   "cell_type": "markdown",
   "metadata": {}
  },
  {
   "source": [
    "# Statistical Power\n",
    "---\n",
    "\n",
    "Statistical power is the probability of getting meaningful results from a test. Statistical power is usually shown as a value out of one. So if your statistical power is $0.6$, that's the same thing as saying $60$%.\n",
    "\n",
    "Usually, you need a statistical power of at least $0.8$ ($80$%) to consider your results statistically significant."
   ],
   "cell_type": "markdown",
   "metadata": {}
  },
  {
   "source": [
    "# Statistically Significant\n",
    "---\n",
    "\n",
    "If a test is statistically significant, it means the results of the test are real and not an error caused by random chance."
   ],
   "cell_type": "markdown",
   "metadata": {}
  },
  {
   "source": [
    "# Structured vs Unstructured Data\n",
    "---\n",
    "\n",
    "## Structured data\n",
    "\n",
    "As we described earlier, structured data is organized in a certain format. This makes it easier to store and query for business needs. If the data is exported, the structure goes along with the data.\n",
    "\n",
    "## Unstructured data\n",
    "\n",
    "Unstructured data can’t be organized in any easily identifiable manner. And there is much more unstructured than structured data in the world. Video and audio files, text files, social media content, satellite imagery, presentations, PDF files, open-ended survey responses, and websites all qualify as types of unstructured data.\n",
    "\n",
    "![Structured vs Unstructured Data](images\\structured_vs_unstructured.png \"Structured vs Unstructured Data\")"
   ],
   "cell_type": "markdown",
   "metadata": {}
  },
  {
   "source": [
    "# Structured Thinking\n",
    "---\n",
    "\n",
    "Structured thinking is the process of recognizing the current problem or situation, organizing available information, revealing gaps and opportunities, and identifying the options."
   ],
   "cell_type": "markdown",
   "metadata": {}
  },
  {
   "source": [
    "# Subquery\n",
    "---\n",
    "\n",
    "A subquery, also called an inner query, nested query, or inner select, is a query that is inside a larger query. The statement containing the larger query can also be called the outer query.\n",
    "\n",
    "The inner query executes first, so that the results can be passed on to the outer query to use. Subqueries can also be nested inside all sorts of other queries, for example, you will find subqueries nested in FROM or WHERE clauses.\n",
    "\n",
    "There are a few rules that subqueries must follow:\n",
    "\n",
    " * Subqueries must be enclosed within parentheses.\n",
    " * A subquery can have only one column specified in the SELECT clause. But if you want a subquery to compare multiple columns, those columns must be selected in the main query.\n",
    " * Subqueries that return more than one row can only be used with multiple value operators, such as the IN operator which allows you to specify multiple values in a WHERE clause.\n",
    " * A subquery can’t be nested in a SET command. The SET command is used with UPDATE to specify which columns (and values) are to be updated in a table."
   ],
   "cell_type": "markdown",
   "metadata": {}
  },
  {
   "source": [
    "# Subtitle\n",
    "---\n",
    "\n",
    "A subtitle supports the headline by adding more context and description."
   ],
   "cell_type": "markdown",
   "metadata": {}
  },
  {
   "source": [
    "# SUM\n",
    "---\n",
    "\n",
    "SUM is a spreadsheet function that adds the values of a selected range of cells.\n",
    "\n",
    "## Syntax\n",
    "\n",
    "=SUM(range)"
   ],
   "cell_type": "markdown",
   "metadata": {}
  },
  {
   "source": [
    "# SUMIF\n",
    "---\n",
    "\n",
    "SUMIF is a spreadsheet function that adds numeric data based on one condition.\n",
    "\n",
    "## Syntax\n",
    "\n",
    "=SUMIF(range, criteria, sum_range)"
   ],
   "cell_type": "markdown",
   "metadata": {}
  },
  {
   "source": [
    "# SUMIFS\n",
    "---\n",
    "\n",
    "SUMIFS allows to use a SUMIF spreadsheet function with multiple conditions.\n",
    "\n",
    "## Syntax\n",
    "\n",
    "=SUMIFS(sum_range, criteria_range1, criterion1, \\[criteria_range2, criterion2, ...\\])"
   ],
   "cell_type": "markdown",
   "metadata": {}
  },
  {
   "source": [
    "# Summary Table\n",
    "---\n",
    "\n",
    "A summary table is a table used to summarize statistical inmformation about data."
   ],
   "cell_type": "markdown",
   "metadata": {}
  },
  {
   "source": [
    "# SUMPRODUCT\n",
    "---\n",
    "\n",
    "SUMPRODUCT is a spreadsheet function that multiplies arrays and returns the sum of those products.\n",
    "\n",
    "## Syntax\n",
    "\n",
    "=SUMPRODUCT(array1, \\[array2, ...\\])"
   ],
   "cell_type": "markdown",
   "metadata": {}
  },
  {
   "source": [
    "# Syntax\n",
    "---\n",
    "\n",
    "Syntax is a predetermined structure that includes all required information and its proper placement."
   ],
   "cell_type": "markdown",
   "metadata": {}
  },
  {
   "source": [
    "# Tableau\n",
    "---\n",
    "\n",
    "Tableau is a business intelligence and analytics platform that helps people see, understand, and make decisions with data."
   ],
   "cell_type": "markdown",
   "metadata": {}
  },
  {
   "source": [
    "# Technical Mindset\n",
    "---\n",
    "\n",
    "Technical mindset is the ability to break things down into smaller steps or pieces and work with them in an orderly and logical way."
   ],
   "cell_type": "markdown",
   "metadata": {}
  },
  {
   "source": [
    "# Text String\n",
    "---\n",
    "\n",
    "A text string is a group of characters within a cell, commonly composed of letters, numbers, or both."
   ],
   "cell_type": "markdown",
   "metadata": {}
  },
  {
   "source": [
    "# Tibble (R)\n",
    "---\n",
    "\n",
    "In R programming language, more specifically in tidyverse, a tibble can be described as a streamlined data frame.\n",
    "\n",
    "Tibbles make working with data easier, but they're a little different from standard data frames. First, tibbles never change the data types of the inputs. They won't change your strings to factors or anything else. You can make more changes to base data frames, but tibbles are easier to use. This saves time because you won't have to do as much cleaning or changing data types in tibbles. Tibbles also never change the names of your variables, and they never create row names.\n",
    "\n",
    "Finally, tibbles make printing in R easier. They won't accidentally overload your console because they're automatically set to pull up only the first 10 rows and as many columns as fit on screen. This is super useful when you're working with large sets of data. "
   ],
   "cell_type": "markdown",
   "metadata": {}
  },
  {
   "source": [
    "# Tidy Data (R)\n",
    "---\n",
    "\n",
    "In R programming language, tidy data is a way of standardizing the organization of data.\n",
    "\n",
    "Tidy data standards are pretty straightforward:\n",
    "\n",
    " * Variables are organized into columns.\n",
    " * Observations are organized into rows.\n",
    " * Each value must have its own cell."
   ],
   "cell_type": "markdown",
   "metadata": {}
  },
  {
   "source": [
    "# tidyr (R)\n",
    "---\n",
    "\n",
    "In R programming language, tidyr is a package used for data cleaning to make tidy data."
   ],
   "cell_type": "markdown",
   "metadata": {}
  },
  {
   "source": [
    "# tidyverse (R)\n",
    "---\n",
    "\n",
    "In R programming language, tidyverse is a system of packages with a common design philosophy for data manipulation, exploration, and visualization.\n",
    "\n",
    "![Tidyverse Workflow](images\\tidyverse.png \"Tidyverse Workflow\")"
   ],
   "cell_type": "markdown",
   "metadata": {}
  },
  {
   "source": [
    "# Time-Bound Question\n",
    "---\n",
    "\n",
    "A time-bound question is a question that specifies a timeframe to be studied."
   ],
   "cell_type": "markdown",
   "metadata": {}
  },
  {
   "source": [
    "# Time-Series Chart\n",
    "---\n",
    "\n",
    "A time-series chart shows how the data has changed over a certain period, which can be days, weeks, months, or years.\n",
    "\n",
    "## Example\n",
    "\n",
    "![Time-Series Chart](images\\time_series_chart.png \"Time-Series Chart\")"
   ],
   "cell_type": "markdown",
   "metadata": {}
  },
  {
   "source": [
    "# Transferable Skills\n",
    "---\n",
    "\n",
    "Transferable skills are skills and qualities that can transfer from one job or industry to another."
   ],
   "cell_type": "markdown",
   "metadata": {}
  },
  {
   "source": [
    "# TRIM\n",
    "---\n",
    "\n",
    "TRIM is a spreadsheet function that removes leading, trailing, and repeated spaces in data.\n",
    "\n",
    "## Syntax\n",
    "\n",
    "=TRIM(range)"
   ],
   "cell_type": "markdown",
   "metadata": {}
  },
  {
   "source": [
    "# Turnover Rate\n",
    "---\n",
    "\n",
    "Turnover rate is the rate at which employees leave a company."
   ],
   "cell_type": "markdown",
   "metadata": {}
  },
  {
   "source": [
    "# Typecasting\n",
    "---\n",
    "\n",
    "Typecasting means converting data from one type to another."
   ],
   "cell_type": "markdown",
   "metadata": {}
  },
  {
   "source": [
    "# Unbiased Sampling\n",
    "---\n",
    "\n",
    "Unbiased sampling is a sample that is representative of the population being measured.\n",
    "\n",
    "Generally, as data analysts, we want to avoid bias. That said, there are actually situations where a biased sample can come in handy. When we are trying to get more actionable data, bias can help to narrow our focus. For example, if we were trying to predict and plan a company's budget for the coming year, we will probably check out last year's sales. We are technically using biased data because it's not taking into account other variables, but it is helping to narrow our focus. "
   ],
   "cell_type": "markdown",
   "metadata": {}
  },
  {
   "source": [
    "# Underscores\n",
    "---\n",
    "\n",
    "Lines used to underline words and connect text characters."
   ],
   "cell_type": "markdown",
   "metadata": {}
  },
  {
   "source": [
    "# United States Census Bureau\n",
    "---\n",
    "\n",
    "An agency in the U.S. Department of Commerce that serves as the nation’s leading provider of quality data about its people and economy."
   ],
   "cell_type": "markdown",
   "metadata": {}
  },
  {
   "source": [
    "# Unfair Question\n",
    "---\n",
    "\n",
    "An unfair question is a question that makes assumptions or is difficult to answer honestly."
   ],
   "cell_type": "markdown",
   "metadata": {}
  },
  {
   "source": [
    "# VALUE\n",
    "---\n",
    "\n",
    "VALUE is a spreadsheet function that converts a text string that represents a number to a numerical value.\n",
    "\n",
    "## Syntax\n",
    "\n",
    "=VALUE(text)"
   ],
   "cell_type": "markdown",
   "metadata": {}
  },
  {
   "source": [
    "# Variable (R)\n",
    "---\n",
    "\n",
    "In R programming language, a variable is a representation of a value that can be stored for later use during programming.\n",
    "\n",
    "A variable should start with a letter and can also contain numbers and underscores."
   ],
   "cell_type": "markdown",
   "metadata": {}
  },
  {
   "source": [
    "# Vector (R)\n",
    "---\n",
    "\n",
    "In R programming language, a vector is a group of data elements of the same type stored in a sequence.\n",
    "\n",
    "You can create a vector using the combine function, which is written as just the letter \"c\", passing it as arguments the values that we want to combine into a vector, e.g. c(x, y, z)."
   ],
   "cell_type": "markdown",
   "metadata": {}
  },
  {
   "source": [
    "# Verification\n",
    "---\n",
    "\n",
    "Verification is a process to confirm that a data cleaning effort was well-executed and the resulting data is accurate and reliable."
   ],
   "cell_type": "markdown",
   "metadata": {}
  },
  {
   "source": [
    "# Video File\n",
    "---\n",
    "\n",
    "A collection of images, audio files, and other data usually encoded in a compressed format such as MP4, MV4, MOV, AVI, or FLV."
   ],
   "cell_type": "markdown",
   "metadata": {}
  },
  {
   "source": [
    "# Vignette (R)\n",
    "---\n",
    "\n",
    "In R programming language, a vignette is documentation that acts as a guide to a package. A vignette shares details about the problem that the package is designed to solve and how the included functions can help you solve it."
   ],
   "cell_type": "markdown",
   "metadata": {}
  },
  {
   "source": [
    "# Visualization Packages (R)\n",
    "---\n",
    "\n",
    "There are several packages for creating visualizations in R programming language. Base R has its own package and there are other useful packages you can add. They'll help you do almost anything you want with your data from making simple pie charts, to creating more complex visuals like interactive graphs and maps.\n",
    "\n",
    "General-purpose packages like Plotly let you do a wide range of visualization functions. Others like RGL, focus on specific solutions like 3D visuals.\n",
    "\n",
    "Some of the most popular include ggplot2, Plotly, Lattice, RGL, Dygraphs, Leaflet, Highcharter, Patchwork, gganimate and ggridges. "
   ],
   "cell_type": "markdown",
   "metadata": {}
  },
  {
   "source": [
    "# VLOOKUP\n",
    "---\n",
    "\n",
    "VLOOKUP is a spreadsheet function that searches for a certain value in a column to return a corresponding piece of information. VLOOKUP stands for Vertical Lookup. VLOOKUP only returns the first match it finds, even if there are many possible matches.\n",
    "\n",
    "Two common reasons to use VLOOKUP are:\n",
    "\n",
    " * Populating data in a spreadsheet.\n",
    " * Merging data from one spreadsheet with data in another.\n",
    "\n",
    "## Syntax\n",
    "\n",
    "=VLOOKUP(search_key, range, column_index, \\[is_sorted\\])\n",
    "\n",
    "### search_key\n",
    "\n",
    "The value to search for. For example, 42, \"Cats\", or I24.\n",
    "\n",
    "### range\n",
    "\n",
    "The range to consider for the search. The first column in the range is searched for the key specified in search_key.\n",
    "\n",
    "### index\n",
    "\n",
    "The column index of the value to be returned, where the first column in range is numbered 1. If index is not between 1 and the number of columns in range, #VALUE! is returned.\n",
    "\n",
    "### is_sorted\n",
    "\n",
    "Indicates whether the column to be searched (the first column of the specified range) is sorted. TRUE by default.\n",
    "It’s recommended to set is_sorted to FALSE. If set to FALSE, an exact match is returned. If there are multiple matching values, the content of the cell corresponding to the first value found is returned, and #N/A is returned if no such value is found. If is_sorted is TRUE or omitted, the nearest match (less than or equal to the search key) is returned. If all values in the search column are greater than the search key, #N/A is returned."
   ],
   "cell_type": "markdown",
   "metadata": {}
  },
  {
   "source": [
    "# Wide Data And Long Data\n",
    "---\n",
    "\n",
    "Wide data is data in which every data subject has a single row with multiple columns to hold the values of various attributes of the subject.\n",
    "\n",
    "Long data is data in which each row is one time point per subject, so each subject will have data in multiple rows.\n",
    "\n",
    "![Wide And Long Data](images\\wide_long_data.png \"Wide And Long Data\")"
   ],
   "cell_type": "markdown",
   "metadata": {}
  },
  {
   "source": [
    "# WITH\n",
    "---\n",
    "\n",
    "In SQL, the WITH clause is a type of temporary table that you can query from multiple times.\n",
    "\n",
    "The WITH clause approximates a temporary table. Basically, this means it creates something that does the same thing as a temporary table. Even if it doesn't add a table to the database you're working in for others to see, you can still see your results and anyone who needs to review your work can see the code that led to your results.\n",
    "\n",
    "There are also other ways to create a temp table. Instead of using the WITH clause, you can use the SELECT INTO or the CREATE TABLE clauses. \n",
    "\n",
    "The SELECT INTO clause copies data from one table into a new table, but doesn’t add the new table to the database. It’s useful if you want to make a copy of a table with a specific condition."
   ],
   "cell_type": "markdown",
   "metadata": {}
  },
  {
   "source": [
    "# Workflow Automation\n",
    "---\n",
    "\n",
    "Workflow automation is the process of automating parts of the work."
   ],
   "cell_type": "markdown",
   "metadata": {}
  },
  {
   "source": [
    "# YAML\n",
    "---\n",
    "\n",
    "YAML (originally stood for \"Yet Another Markup Language\") is a language for data that translates it so it is readable."
   ],
   "cell_type": "markdown",
   "metadata": {}
  }
 ]
}