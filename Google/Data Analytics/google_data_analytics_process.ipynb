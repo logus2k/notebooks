{
 "metadata": {
  "language_info": {
   "codemirror_mode": {
    "name": "ipython",
    "version": 3
   },
   "file_extension": ".py",
   "mimetype": "text/x-python",
   "name": "python",
   "nbconvert_exporter": "python",
   "pygments_lexer": "ipython3",
   "version": "3.8.5"
  },
  "orig_nbformat": 4,
  "kernelspec": {
   "name": "python3",
   "display_name": "Python 3.8.5 64-bit ('NOTB')"
  },
  "interpreter": {
   "hash": "64705722d42f224bd33248ac4d89ee0cc4919d550576e75df27cbc314ff16140"
  }
 },
 "nbformat": 4,
 "nbformat_minor": 2,
 "cells": [
  {
   "source": [
    "# DATA ANALYTICS\n",
    "---\n",
    "# Process Phases"
   ],
   "cell_type": "markdown",
   "metadata": {}
  },
  {
   "source": [
    "# 1. Ask\n",
    "---\n",
    "\n",
    "## Guiding questions\n",
    "\n",
    "* What topic are you exploring?\n",
    "* What is the problem you are trying to solve?\n",
    "* What metrics will you use to measure your data to achieve your objective?\n",
    "* Who are the stakeholders?\n",
    "* Who is your audience for this analysis and how does this affect your analysis process and presentation?\n",
    "* How will this data help your stakeholders make decisions?\n",
    "\n",
    "## Key tasks\n",
    "\n",
    "It’s important to understand the problem and any questions about your case study early on so that you’re focused on your stakeholders’ needs.\n",
    "\n",
    "* Choose a case study\n",
    "* Identify the problem\n",
    "* Determine key stakeholders\n",
    "* Explore the data and establish metrics"
   ],
   "cell_type": "markdown",
   "metadata": {}
  },
  {
   "source": [
    "# 2. Prepare\n",
    "---\n",
    "\n",
    "## Guiding questions\n",
    "\n",
    "* Where is your data located?\n",
    "* How is the data organized?\n",
    "* Are there issues with bias or credibility in this data? Does your data ROCCC?\n",
    "* How are you addressing licensing, privacy, security, and accessibility?\n",
    "* How did you verify the data’s integrity?\n",
    "* How does it help you answer your question?\n",
    "* Are there any problems with the data?\n",
    "\n",
    "## Key tasks\n",
    "\n",
    "The prepare phase ensures that you have all of the data you need for your analysis and that you have credible, useful data.\n",
    "\n",
    "* Collect data and store it appropriately\n",
    "* Identify how it’s organized\n",
    "* Sort and filter the data\n",
    "* Determine the credibility of the data"
   ],
   "cell_type": "markdown",
   "metadata": {}
  },
  {
   "source": [
    "# 3. Process\n",
    "---\n",
    "\n",
    "## Guiding questions\n",
    "\n",
    "* What tools are you choosing and why?\n",
    "* Have you ensured your data’s integrity?\n",
    "* What steps have you taken to ensure that your data is clean?\n",
    "* How can you verify that your data is clean and ready to analyze?\n",
    "* Have you documented your cleaning process so you can review and share those results?\n",
    "\n",
    "## Key tasks\n",
    "\n",
    "Now that you know your data is credible and relevant to your problem, you’ll need to clean it so that your analysis will be error-free.\n",
    "\n",
    "* Check the data for errors\n",
    "* Transform the data into the right type\n",
    "* Document the cleaning process\n",
    "* Choose your tools"
   ],
   "cell_type": "markdown",
   "metadata": {}
  },
  {
   "source": [
    "# 4. Analyze\n",
    "---\n",
    "\n",
    "## Guiding questions\n",
    "\n",
    "* How should you organize your data to perform analysis on it?\n",
    "* Has your data been properly formatted?\n",
    "* What surprises did you discover in the data?\n",
    "* What trends or relationships have you found in the data?\n",
    "* How do these insights answer your question or solve the problem?\n",
    "\n",
    "## Key tasks\n",
    "\n",
    "Now you’ll really put your data to work to uncover new insights and discover potential solutions to your problem!\n",
    "\n",
    "* Aggregate your data so it’s useful and accessible\n",
    "* Organize and format your data\n",
    "* Perform calculations\n",
    "* Identify trends and relationships"
   ],
   "cell_type": "markdown",
   "metadata": {}
  },
  {
   "source": [
    "# 5. Share\n",
    "---\n",
    "\n",
    "## Guiding questions\n",
    "\n",
    "* What story does your data tell?\n",
    "* How do your findings relate to your original question?\n",
    "* Who is your audience? What is the best way to communicate with them?\n",
    "* Can data visualization help you share your findings?\n",
    "* Is your presentation accessible to your audience?\n",
    "\n",
    "## Key tasks\n",
    "\n",
    "During the share phase, you’ll tell a story using data and communicate your findings.\n",
    "\n",
    "* Determine the best way to share your findings\n",
    "* Create effective data visualizations\n",
    "* Present your findings\n",
    "* Ensure your work is accessible to your audience"
   ],
   "cell_type": "markdown",
   "metadata": {}
  },
  {
   "source": [
    "# 6. Act\n",
    "---\n",
    "\n",
    "## Guiding questions\n",
    "\n",
    "* What is your final conclusion based on your analysis?\n",
    "* How can you apply your insights?\n",
    "* Are there any next steps you or your stakeholders can take based on your findings?\n",
    "* Is there additional data you could use to expand on your findings?\n",
    "* How can you feature your case study in your portfolio?\n",
    "\n",
    "## Key tasks\n",
    "\n",
    "After this, your case study will be complete. But you can use these steps again to help guide you through your analysis process.\n",
    "\n",
    "* Share next steps with your stakeholders\n",
    "* Determine if more data could give you new insights\n",
    "* Upload to your portfolio"
   ],
   "cell_type": "markdown",
   "metadata": {}
  }
 ]
}