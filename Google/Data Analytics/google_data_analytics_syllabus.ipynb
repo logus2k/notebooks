{
 "metadata": {
  "language_info": {
   "codemirror_mode": {
    "name": "ipython",
    "version": 3
   },
   "file_extension": ".py",
   "mimetype": "text/x-python",
   "name": "python",
   "nbconvert_exporter": "python",
   "pygments_lexer": "ipython3",
   "version": 3
  },
  "orig_nbformat": 2
 },
 "nbformat": 4,
 "nbformat_minor": 2,
 "cells": [
  {
   "source": [
    "# Google Certified Data Analytics Professional\n",
    "---\n",
    "# SYLLABUS"
   ],
   "cell_type": "markdown",
   "metadata": {}
  },
  {
   "source": [
    "# Course 1 - Foundations: Data, Data, Everywhere\n",
    "---\n",
    "\n",
    "## What you will learn\n",
    "\n",
    " * Real-life roles and responsibilities of a junior data analyst\n",
    " * How businesses transform data into actionable insights\n",
    " * Spreadsheet basics\n",
    " * Database and query basics\n",
    " * Data visualization basics\n",
    "\n",
    "## Skill sets you will build\n",
    "\n",
    " * Using data in everyday life\n",
    " * Thinking analytically\n",
    " * Applying tools from the data analytics toolkit\n",
    " * Showing trends and patterns with data visualizations\n",
    " * Ensuring your data analysis is fair"
   ],
   "cell_type": "markdown",
   "metadata": {}
  },
  {
   "source": [
    "# Course 2 - Ask Questions To Make Data-Driven Decisions\n",
    "---\n",
    "\n",
    "## What you will learn\n",
    "\n",
    " * How data analysts solve problems with data\n",
    " * The use of analytics for making data-driven decisions\n",
    " * Spreadsheet formulas and functions\n",
    " * Dashboard basics, including an introduction to Tableau\n",
    " * Data reporting basics\n",
    "\n",
    "\n",
    "## Skill sets you will build\n",
    "\n",
    " * Asking SMART and effective questions\n",
    " * Structuring how you think\n",
    " * Summarizing data\n",
    " * Putting things into context\n",
    " * Managing team and stakeholder expectations\n",
    " * Problem-solving and conflict-resolution"
   ],
   "cell_type": "markdown",
   "metadata": {}
  },
  {
   "source": [
    "# Course 3 - Prepare Data For Exploration\n",
    "---\n",
    "\n",
    "## What you will learn\n",
    "\n",
    " * How data is generated\n",
    " * Features of different data types, fields, and values\n",
    " * Database structures\n",
    " * The function of metadata in data analytics\n",
    " * Structured Query Language (SQL) functions\n",
    "\n",
    "## Skill sets you will build\n",
    "\n",
    " * Ensuring ethical data analysis practices\n",
    " * Addressing issues of bias and credibility\n",
    " * Accessing databases and importing data\n",
    " * Writing simple queries\n",
    " * Organizing and protecting data\n",
    " * Connecting with the data community (optional)"
   ],
   "cell_type": "markdown",
   "metadata": {}
  },
  {
   "source": [
    "# Course 4 - Process Data From Dirty To Clean\n",
    "---\n",
    "\n",
    "## What you will learn\n",
    "\n",
    " * Data integrity and the importance of clean data\n",
    " * The tools and processes used by data analysts to clean data\n",
    " * Data-cleaning verification and reports\n",
    " * Statistics, hypothesis testing, and margin of error\n",
    " * Resume building and interpretation of job postings (optional)\n",
    "\n",
    "## Skill sets you will build\n",
    "\n",
    " * Connecting business objectives to data analysis\n",
    " * Identifying clean and dirty data\n",
    " * Cleaning small datasets using spreadsheet tools\n",
    " * Cleaning large datasets by writing SQL queries\n",
    " * Documenting data-cleaning processes"
   ],
   "cell_type": "markdown",
   "metadata": {}
  },
  {
   "source": [
    "# Course 5 - Analyze Data To Answer Questions\n",
    "\n",
    "## What you will learn\n",
    "\n",
    " * Steps data analysts take to organize data\n",
    " * How to combine data from multiple sources\n",
    " * Spreadsheet calculations and pivot tables\n",
    " * SQL calculations\n",
    " * Temporary tables\n",
    " * Data validation\n",
    "\n",
    "## Skill sets you will build\n",
    "\n",
    " * Sorting data in spreadsheets and by writing SQL queries\n",
    " * Filtering data in spreadsheets and by writing SQL queries\n",
    " * Converting data\n",
    " * Formatting data\n",
    " * Substantiating data analysis processes\n",
    " * Seeking feedback and support from others during data analysis"
   ],
   "cell_type": "markdown",
   "metadata": {}
  },
  {
   "source": [
    "# Course 6 - Share Data Through The Art Of Visualization\n",
    "---\n",
    "\n",
    "## What you will learn\n",
    "\n",
    " * Design thinking\n",
    " * How data analysts use visualizations to communicate about data\n",
    " * The benefits of Tableau for presenting data analysis findings\n",
    " * Data-driven storytelling\n",
    " * Dashboards and dashboard filters\n",
    " * Strategies for creating an effective data presentation\n",
    "\n",
    "## Skill sets you will build\n",
    "\n",
    " * Creating visualizations and dashboards in Tableau\n",
    " * Addressing accessibility issues when communicating about data\n",
    " * Understanding the purpose of different business communication tools\n",
    " * Telling a data-driven story\n",
    " * Presenting to others about data\n",
    " * Answering questions about data"
   ],
   "cell_type": "markdown",
   "metadata": {}
  },
  {
   "source": [
    "# Course 7 - Data Analysis With R Programming\n",
    "---\n",
    "\n",
    "## What you will learn\n",
    "\n",
    " * Programming languages and environments\n",
    " * R packages\n",
    " * R functions, variables, data types, pipes, and vectors\n",
    " * R data frames\n",
    " * Bias and credibility in R\n",
    " * R visualization tools\n",
    " * R Markdown for documentation, creating structure, and emphasis\n",
    "\n",
    "## Skill sets you will build:\n",
    "\n",
    " * Coding in R\n",
    " * Writing functions in R\n",
    " * Accessing data in R\n",
    " * Cleaning data in R\n",
    " * Generating data visualizations in R\n",
    " * Reporting on data analysis to stakeholders"
   ],
   "cell_type": "markdown",
   "metadata": {}
  },
  {
   "source": [
    "# Course 8 - Google Data Analytics Capstone: Complete a Case Study\n",
    "---\n",
    "\n",
    "## What you will learn\n",
    "\n",
    " * How a data analytics portfolio distinguishes you from other candidates\n",
    " * Practical, real-world problem-solving\n",
    " * Strategies for extracting insights from data\n",
    " * Clear presentation of data findings\n",
    " * Motivation and ability to take initiative\n",
    "\n",
    "## Skill sets you will build\n",
    "\n",
    " * Building a portfolio\n",
    " * Increasing your employability\n",
    " * Showcasing your data analytics knowledge, skill, and technical expertise\n",
    " * Sharing your work during an interview\n",
    " * Communicating your unique value proposition to a potential employer"
   ],
   "cell_type": "markdown",
   "metadata": {}
  }
 ]
}