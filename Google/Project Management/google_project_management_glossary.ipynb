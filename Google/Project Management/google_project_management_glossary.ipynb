{
 "metadata": {
  "language_info": {
   "codemirror_mode": {
    "name": "ipython",
    "version": 3
   },
   "file_extension": ".py",
   "mimetype": "text/x-python",
   "name": "python",
   "nbconvert_exporter": "python",
   "pygments_lexer": "ipython3",
   "version": 3
  },
  "orig_nbformat": 4
 },
 "nbformat": 4,
 "nbformat_minor": 2,
 "cells": [
  {
   "source": [
    "![Google Logo](images\\google.png \"Google Logo\")\n",
    "\n",
    "# Google Project Management Professional Certificate\n",
    "---\n",
    "# GLOSSARY"
   ],
   "cell_type": "markdown",
   "metadata": {}
  },
  {
   "source": [
    "# Project Management\n",
    "---\n",
    "\n",
    "Project Management is the application of knowledge, skills, tools, and techniques to meet the project requirements and acheive the desired outcome."
   ],
   "cell_type": "markdown",
   "metadata": {}
  }
 ]
}