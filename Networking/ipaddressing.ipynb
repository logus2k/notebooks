{
 "metadata": {
  "language_info": {
   "codemirror_mode": {
    "name": "ipython",
    "version": 3
   },
   "file_extension": ".py",
   "mimetype": "text/x-python",
   "name": "python",
   "nbconvert_exporter": "python",
   "pygments_lexer": "ipython3",
   "version": "3.8.5"
  },
  "orig_nbformat": 2,
  "kernelspec": {
   "name": "notb",
   "display_name": "Python 3.8.5  ('NOTB': venv)"
  }
 },
 "nbformat": 4,
 "nbformat_minor": 2,
 "cells": [
  {
   "source": [
    "# IP ADDRESSING NOTES\n",
    "---"
   ],
   "cell_type": "markdown",
   "metadata": {}
  },
  {
   "source": [
    "# Classful Addressing\n",
    "---\n",
    "\n",
    "## Class A\n",
    "\n",
    " * Range: 0.0.0.0 to 127.255.255.255\n",
    " * High-order bits: 0\n",
    " * Networks: 128\n",
    " * Hosts: Approximately 16 million\n",
    "\n",
    "## Class B\n",
    "\n",
    " * Range: 128.0.0.0 to 191.255.255.255\n",
    " * High-order bits: 10\n",
    " * Networks: 16384\n",
    " * Hosts: 65536\n",
    "\n",
    "## Class C\n",
    "\n",
    " * Range: 192.0.0.0 to 223.255.255.255\n",
    " * High-order bits: 110\n",
    " * Networks: 2097152\n",
    " * Hosts: 256\n",
    "\n",
    "## Class D\n",
    "\n",
    " * Range: 224.0.0.0 to 239.255.255.255\n",
    " * High-order bits: 1110\n",
    " * Multicast\n",
    "\n",
    "## Class E\n",
    "\n",
    " * Range: 240.0.0.0 to 255.255.255.254\n",
    " * High-order bits: 1111\n",
    " * Experimental purposes"
   ],
   "cell_type": "markdown",
   "metadata": {}
  },
  {
   "source": [
    "# OSI (Open Source Interconnection) Model\n",
    "---\n",
    "\n",
    "![OSI Model](images\\osi.png \"OSI Model\")"
   ],
   "cell_type": "markdown",
   "metadata": {}
  },
  {
   "source": [
    "# RFC 1918\n",
    "---\n",
    "\n",
    "To contain growth of routing overhead, an Internet Provider obtains a block of address space from an address registry, and then assigns to its customers addresses from within that block based on each customer requirement. The result of this process is that routes to many customers will be aggregated together, and will appear to other providers as a single route.\n",
    "\n",
    "In order for route aggregation to be effective, Internet providers encourage customers joining their network to use the provider’s block, and thus renumber their computers. Such encouragement may become a requirement in the future.\n",
    "\n",
    "It has been typical to assign globally unique addresses to all hosts that use TCP/IP. In order to extend the life of the IPv4 address space, address registries are requiring more justification than ever before, making it harder for organizations to acquire additional address space.\n",
    "\n",
    "Hosts within enterprises that use IP can be partitioned into three categories:\n",
    " \n",
    " * Category 1: hosts that do not require access to hosts in other enterprises or the Internet at large; hosts within\n",
    " this category may use IP addresses that are unambiguous within an enterprise, but may be ambiguous between enterprises.\n",
    " \n",
    " * Category 2: hosts that need access to a limited set of outside services (e.g., E-mail, FTP, netnews, remote login)\n",
    " which can be handled by mediating gateways (e.g., application layer gateways). For many hosts in this category an unrestricted external access (provided via IP connectivity) may be unnecessary and even undesirable for privacy/security reasons. Just like hosts within the first category, such hosts may use IP addresses that are unambiguous within an  enterprise, but may be ambiguous between enterprises.\n",
    " \n",
    " * Category 3: hosts that need network layer access outside the enterprise (provided via IP connectivity); hosts in\n",
    " the last category require IP addresses that are globally unambiguous.\n",
    " \n",
    "The hosts in the first and second categories will be referred to as \"private\", and the hosts in the third category will be referred to as \"public\".\n",
    "\n",
    "The Internet Assigned Numbers Authority (IANA) has reserved the following three blocks of the IP address space for private internets:\n",
    "\n",
    " * Class A: 10.0.0.0 - 10.255.255.255 (10/8 prefix)\n",
    " * Class B: 172.16.0.0 - 172.31.255.255 (172.16/12 prefix)\n",
    " * Class C: 192.168.0.0 - 192.168.255.255 (192.168/16 prefix)"
   ],
   "cell_type": "markdown",
   "metadata": {}
  },
  {
   "source": [
    "# RFC 6598\n",
    "---\n",
    "\n",
    "IPv4 address space is nearly exhausted. However, ISPs must continue to support IPv4 growth until IPv6 is fully deployed. To that end, many ISPs will deploy a Carrier-Grade NAT (CGN) device, such as that described in RFC 6264. Because CGNs are used on networks where public address space is expected, and currently available private address space causes operational issues when used in this context, ISPs require a new IPv4 /10 address block. This address block will be called the \"Shared Address Space\" and will be used to number the interfaces that connect CGN devices to Customer Premises Equipment (CPE).\n",
    "\n",
    "Shared Address Space is similar to RFC 1918 private address space in that it is not globally routable address space and can be used by multiple pieces of equipment. However, Shared Address Space has limitations in its use that the current RFC 1918 private address space does not have. In particular, Shared Address Space can only be used in Service Provider networks or on routing equipment that is able to do address translation across router interfaces when the addresses are identical on two different interfaces.\n",
    "\n",
    "This document requests the allocation of an IPv4 /10 address block to be used as Shared Address Space. In conversations with many ISPs, a /10 is the smallest block that will allow them to deploy CGNs on a regional basis without requiring nested CGNs.\n",
    "\n",
    "IANA has recorded the allocation of an IPv4 /10 for use as Shared Address Space. The Shared Address Space address range is:\n",
    " \n",
    "  * 100.64.0.0/10."
   ],
   "cell_type": "markdown",
   "metadata": {}
  },
  {
   "source": [
    "# Subnet Mask\n",
    "---\n",
    "\n",
    "Subnet masks are used by a computer to determine if any computer is on the same network or on a different network. An IPv4 subnet mask is a 32-bit sequence of ones (1) followed by a block of zeros (0). The ones designate the network prefix, while the trailing block of zeros designates the host identifier. In shorthand, we use /24, which simply means that a subnet mask has 24 ones, and the rest are zeros.\n",
    "\n",
    "![Subnet Mask](images\\subnet_mask.png \"Subnet Mask\")"
   ],
   "cell_type": "markdown",
   "metadata": {}
  },
  {
   "source": [
    "# Variable-Length Subnet Masking (VLSM)\n",
    "---\n",
    "\n",
    "Subnetting is the process of dividing a single large network into multiple small networks known as subnets. The primary purpose of subnetting is to help relieve network congestion and improve efficiency in the utilization of the relatively small network address space available especially in IPv4.\n",
    "\n",
    "There are two approaches to subnetting an IP address for a network: Fixed Length Subnet Mask (FLSM) and Variable-Length Subnet Mask (VLSM). In FLSM subnetting, all subnets are of equal size with an equal number of host identifiers. You use the same subnet mask for each subnet, and all the subnets have the same number of addresses in them. It tends to be the most wasteful because it uses more IP addresses than are necessary.\n",
    "\n",
    "VLSM is a subnet design strategy that allows all subnet masks to have variable sizes. In VLSM subnetting, network administrators can divide an IP address space into subnets of different sizes, and allocate it according to the individual need on a network. This type of subnetting makes more efficient use of a given IP address range. VLSM is the defacto standard for how every network is designed today. The table below is a summary of the differences between FLSM and VLSM Subnetting.\n",
    "\n",
    "![Subnetting](images\\subnetting.png \"Subnetting\")\n",
    "\n",
    "One of the easiest ways to solve VLSM problems is by using a subnetting chart like the one shown below:\n",
    "\n",
    "![Subnetting Chart](images\\subnetting_chart.png \"Subnetting Chart\")"
   ],
   "cell_type": "markdown",
   "metadata": {}
  }
 ]
}