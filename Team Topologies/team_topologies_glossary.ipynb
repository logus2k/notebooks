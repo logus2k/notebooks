{
 "cells": [
  {
   "cell_type": "markdown",
   "source": [
    "# TEAM TOPOLOGIES\r\n",
    "\r\n",
    "---\r\n",
    "\r\n",
    "## GLOSSARY\r\n"
   ],
   "metadata": {}
  },
  {
   "cell_type": "markdown",
   "source": [
    "# Bounded Context\r\n",
    "\r\n",
    "---\r\n",
    "\r\n",
    "A bounded context is a unit for partitioning a larger domain (or system) into smaller parts, each of which represents an internally consistent business domain area (as in Domain-Driven Design, by Eric Evans).\r\n"
   ],
   "metadata": {}
  },
  {
   "cell_type": "markdown",
   "source": [
    "# Brook's Law\r\n",
    "\r\n",
    "---\r\n",
    "\r\n",
    "The Brook's law was coined by computer architect and scientist Fred Brooks, which states that adding new people to a team does not immediately increase the capacity of a team.\r\n"
   ],
   "metadata": {}
  },
  {
   "cell_type": "markdown",
   "source": [
    "# Cognitive Load\r\n",
    "\r\n",
    "---\r\n",
    "\r\n",
    "The cognitive load refers to the amount of working memory being used.\r\n",
    "\r\n",
    "Any one person has a limit on how much information they can hold in their brains at any given moment. The same happens for any on team by simply adding up all the team members' cognitive capacities.\r\n"
   ],
   "metadata": {}
  },
  {
   "cell_type": "markdown",
   "source": [
    "# Collaboration Mode\r\n",
    "\r\n",
    "---\r\n",
    "\r\n",
    "![Collaboration Mode](images/collaboration_mode.png \"Collaboration Mode\")\r\n"
   ],
   "metadata": {}
  },
  {
   "cell_type": "markdown",
   "source": [
    "# Complicated-Subsystem Team\r\n",
    "\r\n",
    "---\r\n",
    "\r\n",
    "A complicated-subsystem team is a team responsible for building and maintaining a part of the system that depends heavily on specialist knowledge.\r\n",
    "\r\n",
    "A complicated-subsystem team has a special remit for a subsystem that is too complicated to be dealt with by a normal stream-aligned team or platform team. This is optional and only used when really necessary.\r\n"
   ],
   "metadata": {}
  },
  {
   "cell_type": "markdown",
   "source": [
    "# Conway's Law\r\n",
    "\r\n",
    "---\r\n",
    "\r\n",
    "The Conway's law was coined by computer scientist, programmer, and hacker Mel Conway, which states that system design will copy the communication structures of the organization which designs it:\r\n",
    "\r\n",
    "\"_Organizations, who design systems, are constrained to produce designs which are copies of the communication structures of these organizations_\".\r\n",
    "\r\n",
    "It refers to the fact that static team structures and rigid responsibilities strongly restrict the solutions we can find and deliver.\r\n"
   ],
   "metadata": {}
  },
  {
   "cell_type": "markdown",
   "source": [
    "# Dunbar's Number\r\n",
    "\r\n",
    "---\r\n",
    "\r\n",
    "The Dunbar's number was coined by anthropologist Robin Dunbar, which states that fifteen is the limit of people one person can trust; of those, only around five can be known and trusted closely.\r\n"
   ],
   "metadata": {}
  },
  {
   "cell_type": "markdown",
   "source": [
    "# Enabling Team\r\n",
    "\r\n",
    "---\r\n",
    "\r\n",
    "An enabling team is a team composed of specialists in a given technical (or product) domain that help bridge a capability gap.\r\n",
    "\r\n",
    "An enabling team assists other teams in adopting and modifying software as part of a transition or learning period.\r\n"
   ],
   "metadata": {}
  },
  {
   "cell_type": "markdown",
   "source": [
    "# Facilitation Mode\r\n",
    "\r\n",
    "---\r\n",
    "\r\n",
    "![Facilitation Mode](images/facilitation_mode.png \"Facilitation Mode\")\r\n"
   ],
   "metadata": {}
  },
  {
   "cell_type": "markdown",
   "source": [
    "# Flow Of Change\r\n",
    "\r\n",
    "---\r\n",
    "\r\n",
    "The flow of change is a stream of related updates or alterations to a software service or system, usually aligned to user goals or other core focus of the business.\r\n"
   ],
   "metadata": {}
  },
  {
   "cell_type": "markdown",
   "source": [
    "# Fracture Planes\r\n",
    "\r\n",
    "---\r\n",
    "\r\n",
    "A fracture plane is a _natural seam_ in the software system that allows the system to be split easily into two or more parts. Often, a combination of fracture planes will be required.\r\n",
    "\r\n",
    "There is a variety of angles for looking at how to divide up a system:\r\n",
    "\r\n",
    "* __Business Domain Bounded Context__: This means identifying business domain areas. Domain-driven design techniques can help with this.\r\n",
    "* __Regulatory compliance__: Sometimes regulatory needs affect parts of a system and mean that they sit logically apart (e.g., parts dealing with payments or personal data).\r\n",
    "* __Change cadence__: Parts of the system might get released more or less often than others. This can be an indicator of a fracture plane.\r\n",
    "* __Team location__: If a team can all talk to each other in person, then this can make a difference.\r\n",
    "* __Risk__: Parts of a system might be much more or less risk-tolerant (e.g., depending on how many users they have or financial value of transactions).\r\n",
    "* __Performance levels__: Sometimes parts of a system have much more demanding scaling or throughput requirements.\r\n",
    "* __Technology__: Differences in tech can be important for cognitive load. You’ll want to be wary of requiring a single team to work with too many kinds of tech.\r\n",
    "* __User personas__: Consider, for example, admin users vs. new users. Or users of paid add-on features on top of an otherwise free-to-use product.\r\n",
    "\r\n",
    "The key point is that the team structure both affects the software being delivered and needs to reflect the software we want to be delivered. We want teams to be empowered and that means structuring teams around software (not reporting lines or an age-old org chart).\r\n"
   ],
   "metadata": {}
  },
  {
   "cell_type": "markdown",
   "source": [
    "# Organizational Sensing\r\n",
    "\r\n",
    "---\r\n",
    "\r\n",
    "Organizational sensing refers to the concept that teams and their internal and external communication are the \"senses\" of the organization (sight, sound, touch, smell, taste).\r\n"
   ],
   "metadata": {}
  },
  {
   "cell_type": "markdown",
   "source": [
    "# Platform Team\r\n",
    "\r\n",
    "---\r\n",
    "\r\n",
    "A platform team is a team that enables stream-aligned teams to deliver work with substantial autonomy.\r\n",
    "\r\n",
    "A platform team works on the underlying platform supporting stream-aligned teams in delivery. The platform simplifies otherwise complex technology and reduces cognitive load for teams that use it.\r\n"
   ],
   "metadata": {}
  },
  {
   "cell_type": "markdown",
   "source": [
    "# Reverse Conway Manouver\r\n",
    "\r\n",
    "---\r\n",
    "\r\n",
    "The reverse Conway manouver refers to the concept that organizations should evolve their team and organizational structure to achieve the desired architecture.\r\n"
   ],
   "metadata": {}
  },
  {
   "cell_type": "markdown",
   "source": [
    "# Stream-Aligned Team\r\n",
    "\r\n",
    "---\r\n",
    "\r\n",
    "A stream-aligned team is a team aligned to a single, valuable stream of work.\r\n",
    "\r\n",
    "A stream-aligned team aligns to the main flow of business change, with cross-functional skills mix and the ability to deliver significant increments without waiting on another team.\r\n"
   ],
   "metadata": {}
  },
  {
   "cell_type": "markdown",
   "source": [
    "# Team Interaction Modes\r\n",
    "\r\n",
    "---\r\n",
    "\r\n",
    "There are three essential ways in which teams can and should interact: Collaboration, X-as-a-Service, and Facilitating.\r\n",
    "\r\n",
    "Team interactions outside these three core interaction modes are wasteful and indicative of poorly chosen team responsibility boundaries and poorly understood team purposes.\r\n",
    "\r\n",
    "A key part of the Team Topologies approach is in the choice between two teams collaborating and one team consuming \"as a service\" from another team.\r\n",
    "\r\n",
    "![Team Interaction Modes](images/team_interaction_modes.png \"Team Interaction Modes\")\r\n",
    "\r\n",
    "## Collaboration\r\n",
    "\r\n",
    "Working closely with another team. Two teams work closely together on a shared goal for a defined period to discover new patterns, approaches, and limitations. Responsibility is shared and boundaries blurred, but problems are solved rapidly and the organization learns quickly. The overhead is valuable due to the rapid pace of learning.\r\n",
    "\r\n",
    "## X-as-a-Service\r\n",
    "\r\n",
    "Consuming or providing something with minimal collaboration. One team consumes something (such as a service, an API, or a full product) provided \"as a service\" from another team. Responsibilities are clearly delineated and -if the boundary is effective- the consuming team can deliver rapidly. The team providing the service seeks to make their service as easy to consume as possible. Collaboration is minimal.\r\n",
    "\r\n",
    "## Facilitating\r\n",
    "\r\n",
    "Helping (or being helped by) another team to clear impediments. One team (usually an enabling team) helps another team to learn or adopt new approaches for a defined period of time. The team providing the facilitation aims to make the other team self-sufficient as soon as possible, while the team receiving the facilitation has an open-minded attitude to learning.\r\n"
   ],
   "metadata": {}
  },
  {
   "cell_type": "markdown",
   "source": [
    "# Thinnest Viable Platform\r\n",
    "\r\n",
    "---\r\n",
    "\r\n",
    "A careful balance between keeping the platform small and ensuring that the platform is helping to accelerate and simplify software delivery for teams building on the platform.\r\n"
   ],
   "metadata": {}
  },
  {
   "cell_type": "markdown",
   "source": [
    "# Topology\r\n",
    "\r\n",
    "---\r\n",
    "\r\n",
    "Topology refers to the way in which constituent parts are interrelated or arranged.\r\n"
   ],
   "metadata": {}
  },
  {
   "cell_type": "markdown",
   "source": [
    "# X-as-a-Service Mode\r\n",
    "\r\n",
    "---\r\n",
    "\r\n",
    "![X-as-a-Service Mode](images/x_as_a_service_mode.png \"X-as-a-Service Mode\")\r\n"
   ],
   "metadata": {}
  }
 ],
 "metadata": {
  "orig_nbformat": 4,
  "language_info": {
   "name": "python",
   "version": "3.8.5"
  },
  "kernelspec": {
   "name": "python3",
   "display_name": "Python 3.8.5 64-bit ('NOTB': venv)"
  },
  "interpreter": {
   "hash": "64705722d42f224bd33248ac4d89ee0cc4919d550576e75df27cbc314ff16140"
  }
 },
 "nbformat": 4,
 "nbformat_minor": 2
}
