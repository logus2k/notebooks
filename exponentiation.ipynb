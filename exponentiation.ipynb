{
 "metadata": {
  "language_info": {
   "codemirror_mode": {
    "name": "ipython",
    "version": 3
   },
   "file_extension": ".py",
   "mimetype": "text/x-python",
   "name": "python",
   "nbconvert_exporter": "python",
   "pygments_lexer": "ipython3",
   "version": "3.8.5-final"
  },
  "orig_nbformat": 2,
  "kernelspec": {
   "name": "python3",
   "display_name": "Python 3.8.5 64-bit ('NOTB')",
   "metadata": {
    "interpreter": {
     "hash": "64705722d42f224bd33248ac4d89ee0cc4919d550576e75df27cbc314ff16140"
    }
   }
  }
 },
 "nbformat": 4,
 "nbformat_minor": 2,
 "cells": [
  {
   "source": [
    "# EXPONENTIATION\n",
    "\n",
    "Exponentiation is a mathematical operation, written as $b^{n}$, involving two numbers, the _base_ $b$ and the _exponent_ or _power_ $n$, and pronounced as \"_b raised to the power of $n$_\".\n",
    "\n",
    "Exponents are numbers shown as a superscript to the right of the base. In that case, $b^{n}$ is called \"$b$ raised to the $n$-th power\", \"$b$ raised to the power of $n$\", \"the $n$-th power of $b$\", \"$b$ to the $n$-th power\", or most briefly as \"$b$ to the $n$\".\n",
    "\n",
    "![Graphs of several exponents](images/\exponentiation.png \"Graphs of several exponents\")\n",
    "\n",
    "The image above contains a graph of $y = b^x$ for various bases $b$: base $10$, base $e$, base $2$, and base $^1/_2$. Each curve passes through the point $(0, 1)$ because any non-zero number raised to the power of $0$ is $1$. At $x = 1$, the value of $y$ equals the base because any number raised to the power of $1$ is the number itself."
   ],
   "cell_type": "markdown",
   "metadata": {}
  },
  {
   "cell_type": "code",
   "execution_count": null,
   "metadata": {},
   "outputs": [],
   "source": [
    "import math\n",
    "\n",
    "pow(1/2, 0) == pow(2, 0) == pow(math.e, 0) == pow(10, 0) == 1"
   ]
  },
  {
   "source": [
    "# Laws of Exponents\n",
    "---\n",
    "\n",
    "## Law #1\n",
    "\n",
    "$\\LARGE x^{\\Large 1} = x$\n",
    "\n",
    "### Example\n",
    "\n",
    "$\\large 4096^1 = 4096$\n",
    "\n",
    "\n",
    "<br>\n",
    "\n",
    "## Law #2\n",
    "\n",
    "$\\LARGE x^{\\Large 0} \\Large = 1$\n",
    "\n",
    "### Example\n",
    "\n",
    "$\\large 4096^0 = 1$\n",
    "\n",
    "\n",
    "<br>\n",
    "\n",
    "## Law #3\n",
    "\n",
    "$\\LARGE x^{-n} = \\dfrac{\\Large 1}{\\LARGE x^n}$\n",
    "\n",
    "### Examples\n",
    "\n",
    "$\\large 2^{-3} \\Large = \\frac{1}{2^3} = \\frac{1}{2 \\, \\cdot \\, 2 \\, \\cdot \\, 2} = \\frac{1}{8} \\large = 0.125$\n",
    "\n",
    "$\\large 0.5^{-2} \\Large = \\frac{1}{0.5^2} = \\frac{1}{0.5 \\, \\cdot \\, 0.5} = \\frac{1}{0.25} \\large = 4.0$\n",
    "\n",
    "\n",
    "<br>\n",
    "\n",
    "## Law #4\n",
    "\n",
    "$\\LARGE \\left(x^m \\right)^n = x^{m \\, \\cdot \\, n}$\n",
    "\n",
    "### Example\n",
    "\n",
    "$\\large \\left( 2^3 \\right)^4 = 2^{3 \\, \\cdot \\, 4} = 4096$\n",
    "\n",
    "\n",
    "<br>\n",
    "\n",
    "## Law #5\n",
    "\n",
    "$\\LARGE x^{m}x^n = x^{m \\, + \\, n}$\n",
    "\n",
    "### Example\n",
    "\n",
    "$\\large 2^3 \\, \\cdot \\, 2^5 = 2^{3 \\, + \\, 5} = 2^8 = 256$\n",
    "\n",
    "\n",
    "<br>\n",
    "\n",
    "## Law #6\n",
    "\n",
    "$\\LARGE \\dfrac{x^m}{x^n} = x^{m \\, - \\, n}$\n",
    "\n",
    "### Example\n",
    "\n",
    "$\\Large \\frac{2^3}{2^5} \\large = 2^{3 \\, - \\, 5} = 2^{-2} = \\Large \\frac{1}{4} \\large = 0.25$\n",
    "\n",
    "\n",
    "<br>\n",
    "\n",
    "## Law #7\n",
    "\n",
    "$\\LARGE (xy)^m = x^{m}y^m$\n",
    "\n",
    "### Example\n",
    "\n",
    "$\\large 2^3 \\, \\cdot \\, 3^3 = (2 \\, \\cdot \\, 3)^3 = (2 \\, \\cdot \\, 2 \\, \\cdot \\, 2) \\, \\cdot \\, (3 \\, \\cdot \\, 3 \\, \\cdot \\, 3) = 216$\n",
    "\n",
    "\n",
    "<br>\n",
    "\n",
    "## Law #8\n",
    "\n",
    "$\\LARGE \\left(\\dfrac{x}{y}\\right)^n = \\dfrac{x^n}{y^n}$\n",
    "\n",
    "### Example\n",
    "\n",
    "$\\large \\left(\\dfrac{2}{4}\\right)^3 = \\dfrac{2}{4} \\, \\cdot \\, \\dfrac{2}{4} \\, \\cdot \\, \\dfrac{2}{4} = \\dfrac{2 \\, \\cdot \\, 2 \\, \\cdot \\, 2}{4 \\, \\cdot \\, 4 \\, \\cdot \\, 4} = 0.125$"
   ],
   "cell_type": "markdown",
   "metadata": {}
  },
  {
   "cell_type": "code",
   "execution_count": null,
   "metadata": {},
   "outputs": [],
   "source": [
    "# Law 1\n",
    "print(4096**1 == 4096)\n",
    "\n",
    "# Law 2\n",
    "print(4096**0 == 1)\n",
    "\n",
    "# Law 3\n",
    "print(2**-3 == 1/2**3 == 1/(2*2*2) == 1/8 == 0.125)\n",
    "print(0.5**-2 == 1/0.5**2 == 1/(0.5*0.5) == 1/0.25 == 4.0)\n",
    "\n",
    "# Law 4\n",
    "print((2**3)**4 == 2**(3*4) == 4096)\n",
    "\n",
    "# Law 5\n",
    "print(2**3 * 2**5 == 2**(3+5) == 2**8 == 256)\n",
    "\n",
    "# Law 6\n",
    "print(2**3 / 2**5 == 2**(3-5) == 2**-2 == 1/4 == 0.25)\n",
    "\n",
    "# Law 7\n",
    "print(2**3 * 3**3 == (2*3)**3 == (2*2*2) * (3*3*3) == 216)\n",
    "\n",
    "# Law 8\n",
    "print((2/4)**3 == 2/4 * 2/4 *2/4 == (2*2*2) / (4*4*4) == 0.125)"
   ]
  },
  {
   "source": [
    "# Positive Integer Exponents\n",
    "---\n",
    "\n",
    "When $n$ is a positive integer, exponentiation corresponds to a repeated multiplication of the base, so that $b^n$ is the product of multiplying by itself $n$ times:\n",
    "\n",
    "$\n",
    "\\LARGE\n",
    "b^n = \\underbrace{b \\, \\cdot \\,\\,\\, b \\, \\cdot \\,\\,\\, \\cdots \\,\\,\\, \\cdot \\, b}_{\\LARGE n}\n",
    "$\n",
    "\n",
    "<br>\n",
    "\n",
    "## Examples\n",
    "\n",
    "$\n",
    "\\Large\n",
    "9 = 3 \\cdot 3 = 3^2\n",
    "$\n",
    "\n",
    "$\n",
    "\\Large\n",
    "27 = 3 \\cdot 3 \\cdot 3 = 3^3\n",
    "$\n",
    "\n",
    "$\n",
    "\\Large\n",
    "81 = 3 \\cdot 3 \\cdot 3 \\cdot 3 = 3^4\n",
    "$\n",
    "\n",
    "$\n",
    "\\Large\n",
    "248,832 = 12 \\cdot 12 \\cdot 12 \\cdot 12 \\cdot 12 = 12^5\n",
    "$"
   ],
   "cell_type": "markdown",
   "metadata": {}
  },
  {
   "cell_type": "code",
   "execution_count": null,
   "metadata": {},
   "outputs": [],
   "source": [
    "pow(12, 5) == 12 * 12 * 12 * 12 * 12 == 248832"
   ]
  },
  {
   "source": [
    "# Zero as an Exponent\n",
    "---\n",
    "\n",
    "By definition, any number, except for zero, raised to the power of $0$ is equal to $1$:\n",
    "\n",
    "$\n",
    "\\LARGE\n",
    "b^0 = 1\n",
    "$\n",
    "\n",
    "$0^0$ (zero to the power of zero) is a mathematical expression with no agreed-upon value. The most common possibilities are $1$, or leaving the expression _undefined_, with justifications existing for each case, depending on context.\n",
    "\n",
    "Raising $0$ to a negative exponent is _undefined_, but in some circumstances, it may be interpreted as $\\infty$ (infinity).\n",
    "\n",
    "<br>\n",
    "\n",
    "## Examples\n",
    "\n",
    "$\\large 1^0 = 1$\n",
    "\n",
    "$\\large 2^0 = 1$\n",
    "\n",
    "$\\large 3^0 = 1$\n",
    "\n",
    "$\\large \\left(2\\pi\\right)^0 = \\large 1$\n",
    "\n",
    "$\\Large \\left(\\frac{1}{x^3}\\right)^0 = \\large 1$"
   ],
   "cell_type": "markdown",
   "metadata": {}
  },
  {
   "cell_type": "code",
   "execution_count": null,
   "metadata": {},
   "outputs": [],
   "source": [
    "import math\n",
    "import random\n",
    "\n",
    "pow(1, 0) == pow(2, 0) == pow(3, 0) == pow(2 * math.pi, 0) == pow(1 / pow(random.random(), 3), 0) == 1"
   ]
  },
  {
   "source": [
    "# Negative Integer Exponents\n",
    "---\n",
    "\n",
    "Rasing a number to a negative exponent is the same as diving it by the same integer, if that integer is positive:  \n",
    "\n",
    "$\n",
    "\\LARGE\n",
    "b^{-n} = \\frac{1}{b^n}\n",
    "$\n",
    "\n",
    "Dividing by a negative exponent uses the same logic to execute the opposite operation:\n",
    "\n",
    "$\n",
    "\\LARGE\n",
    "\\frac{1}{b^{-n}} = b^n\n",
    "$\n",
    "\n",
    "<br>\n",
    "\n",
    "## Examples\n",
    "\n",
    "$\n",
    "\\large\n",
    "2^{-1} = \\Large \\frac{1}{2^1} = \\frac{1}{2}\n",
    "$\n",
    "\n",
    "$\n",
    "\\large\n",
    "2^{-2} = \\Large \\frac{1}{2^2} = \\frac{1}{4}\n",
    "$\n",
    "\n",
    "$\n",
    "\\large\n",
    "2^{-3} = \\Large \\frac{1}{2^3} = \\frac{1}{8}\n",
    "$\n",
    "\n",
    "$\n",
    "\\Large\n",
    "\\frac{1}{2^{-1}} = \\large 2^1 = 2\n",
    "$\n",
    "\n",
    "$\n",
    "\\Large\n",
    "\\frac{1}{2^{-2}} = \\large 2^2 = 4\n",
    "$\n",
    "\n",
    "$\n",
    "\\Large\n",
    "\\frac{1}{2^{-3}} = \\large 2^3 = 8\n",
    "$"
   ],
   "cell_type": "markdown",
   "metadata": {}
  },
  {
   "cell_type": "code",
   "execution_count": null,
   "metadata": {},
   "outputs": [],
   "source": [
    "1 / pow(2, -3) == pow(2, 3) == 8"
   ]
  },
  {
   "source": [
    "# Multiplication Rule\n",
    "---\n",
    "\n",
    "The multiplication rule states that when taking the power of the same factor raised to different exponents, we sum the exponents:\n",
    "\n",
    "$\\LARGE x^{n} \\cdot x^{m} = x^{(n + m)}$\n",
    "\n",
    "<br>\n",
    "\n",
    "## Examples\n",
    "\n",
    "$\\large 2^{3} \\cdot 2^{5} = 2^{8} = 256$"
   ],
   "cell_type": "markdown",
   "metadata": {}
  },
  {
   "cell_type": "code",
   "execution_count": null,
   "metadata": {
    "tags": []
   },
   "outputs": [],
   "source": [
    "pow(2, 3) * pow(2, 5) == pow(2, 8) == 256"
   ]
  },
  {
   "source": [
    "# Power to a Power Rule\n",
    "---\n",
    "\n",
    "The power to a power rule states that when we have a number raised to an exponent, and that number with an exponent is raised again to another exponent (so that we have two exponents applied to the same factor and separated by a parentesis), we multiply the exponents:\n",
    "\n",
    "$\\LARGE \\left(x^{n}\\right)^{m} = x^{(n \\, \\cdot \\, m)}$\n",
    "\n",
    "<br>\n",
    "\n",
    "## Examples\n",
    "\n",
    "$\\large \\left(2^{3}\\right)^{2} = 2^{6} = 64$"
   ],
   "cell_type": "markdown",
   "metadata": {}
  },
  {
   "cell_type": "code",
   "execution_count": null,
   "metadata": {
    "tags": []
   },
   "outputs": [],
   "source": [
    "pow(pow(2, 3), 2) == pow(2, 6) == 64"
   ]
  },
  {
   "source": [
    "# Product to a Power Rule\n",
    "---\n",
    "\n",
    "The product to a power rule states that when we have two different factors raised to a common exponent, we distribute the exponent toe have each of the factors raised separately to that exponent:\n",
    "\n",
    "$\\LARGE (xy)^{n} = x^{n} \\, \\cdot \\, y^{n}$\n",
    "\n",
    "<br>\n",
    "\n",
    "## Examples\n",
    "\n",
    "$\\large (2 \\cdot 3)^{3} = 2^{3} \\cdot 3^{3} = (2 \\cdot 3) \\cdot (2 \\cdot 3) \\cdot (2 \\cdot 3) = 216$"
   ],
   "cell_type": "markdown",
   "metadata": {}
  },
  {
   "cell_type": "code",
   "execution_count": null,
   "metadata": {
    "tags": []
   },
   "outputs": [],
   "source": [
    "pow(2 * 3, 3) == (2 * 3) * (2 * 3) * (2 * 3) == 216"
   ]
  },
  {
   "source": [
    "# Fraction to a Power Rule\n",
    "---\n",
    "\n",
    "The fraction to a power rule states that when we have a whole fraction raised to a power, we separate the numerator from the denominator and raise those separately to that power:\n",
    "\n",
    "$\\LARGE \\left(\\frac{x}{y}\\right)^{n} = \\frac{x^{n}}{y^{n}}$\n",
    "\n",
    "<br>\n",
    "\n",
    "## Examples\n",
    "\n",
    "$\\large \\left(\\frac{2}{3}\\right)^{3} = \\frac{2^{3}}{3^{3}} = 0.\\overline{29}$"
   ],
   "cell_type": "markdown",
   "metadata": {}
  },
  {
   "cell_type": "code",
   "execution_count": null,
   "metadata": {},
   "outputs": [],
   "source": [
    "# Using Decimal to avoid floating point precision problems\n",
    "from decimal import Decimal\n",
    "\n",
    "x = Decimal(str(2.0))\n",
    "y = Decimal(str(3.0))\n",
    "exp = Decimal(str(3.0))\n",
    "\n",
    "pow(x/y, exp) == pow(x, exp) / pow(y, exp)"
   ]
  },
  {
   "source": [
    "# Division and Negative Powers Rule\n",
    "---\n",
    "\n",
    "The division and negative powers rule states that when we have a factor with a power dividing by the same factor also with a power, we keep the factor and substract the power of the numerator by the power of the denominator:\n",
    "\n",
    "$\\LARGE \\frac{x^{n}}{x^{m}} = x^{(n-m)}$\n",
    "\n",
    "<br>\n",
    "\n",
    "## Examples\n",
    "\n",
    "$\\large \\frac{3^{2}}{3^{6}} = 3^{2} \\cdot 3^{-6} = 3^{(2-6)} = 3^{-4} = 0.01234567901234567901234567901$\n",
    "\n",
    "$\\LARGE \\left(\\frac{(xy)^{2}}{x^{-3}y^{2}}\\right)^{-1} = \\left(\\frac{x^{2}y^{2}}{x^{-3}y^{2}}\\right)^{-1} = \\Large \\left(x^{2-(-3)}y^{2-2}\\right)^{-1} = \\left(x^{5}\\right)^{-1} = x^{-5} = \\LARGE \\frac{1}{x^{5}}$"
   ],
   "cell_type": "markdown",
   "metadata": {}
  },
  {
   "cell_type": "code",
   "execution_count": null,
   "metadata": {},
   "outputs": [],
   "source": [
    "# Using Decimal to avoid floating point precision problems\n",
    "from decimal import Decimal\n",
    "\n",
    "x = Decimal(str(3.0))\n",
    "exp1 = Decimal(str(2.0))\n",
    "exp2 = Decimal(str(6.0))\n",
    "exp3 = Decimal(str(-4.0))\n",
    "\n",
    "pow(x, exp1) / pow(x, exp2) == pow(x, exp3) == Decimal(\"0.01234567901234567901234567901\")"
   ]
  },
  {
   "source": [
    "# Fractional Exponents\n",
    "---\n",
    "\n",
    "When we have a fraction as the exponent of a factor, we treat the fraction as two separate operations. The fraction numerator becomes the factor exponent, and the denominator the factor root:\n",
    "\n",
    "$\\LARGE x^{\\frac{a}{m}} = \\sqrt[m]{x^{a}}$\n",
    "\n",
    "<br>\n",
    "\n",
    "## Examples\n",
    "\n",
    "$\\large 8^{\\Large \\frac{2}{4}} \\large = 2.8284271247461903$\n",
    "\n",
    "$\\large 2^{\\Large \\frac{4}{3}} \\large = 2.5198420997897464$"
   ],
   "cell_type": "markdown",
   "metadata": {}
  }
 ]
}
