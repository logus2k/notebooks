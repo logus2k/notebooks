{
 "metadata": {
  "language_info": {
   "codemirror_mode": {
    "name": "ipython",
    "version": 3
   },
   "file_extension": ".py",
   "mimetype": "text/x-python",
   "name": "python",
   "nbconvert_exporter": "python",
   "pygments_lexer": "ipython3",
   "version": 3
  },
  "orig_nbformat": 2
 },
 "nbformat": 4,
 "nbformat_minor": 2,
 "cells": [
  {
   "source": [
    "# FINANCE CONCEPTS\n",
    "---"
   ],
   "cell_type": "markdown",
   "metadata": {}
  },
  {
   "source": [
    "# Accounting Equation\n",
    "---\n",
    "\n",
    "The Accounting Equation is the basis of accounting in which Assets will always equal Liabilities plus Equity:\n",
    "\n",
    "$\\large \\text{Assets = Liability + Equity}$"
   ],
   "cell_type": "markdown",
   "metadata": {}
  },
  {
   "source": [
    "# Asset\n",
    "---\n",
    "\n",
    "An asset is a resource with economic value that an individual, corporation, or country owns or controls with the expectation that it will provide a future benefit. Assets are reported on a company's balance sheet and are bought or created to increase a firm's value or benefit the firm's operations. An asset can be thought of as something that, in the future, can generate cash flow, reduce expenses, or improve sales, regardless of whether it's manufacturing equipment or a patent.\n",
    "\n",
    "An asset represents an economic resource for a company or represents access that other individuals or firms do not have. A right or other access is legally enforceable, which means economic resources can be used at a company's discretion, and its use can be precluded or limited by an owner.\n",
    "\n",
    "For an asset to be present, a company must possess a right to it as of the date of the financial statements. An economic resource is something that is scarce and has the ability to produce economic benefit by generating cash inflows or decreasing cash outflows.\n",
    "\n",
    "Assets can be broadly categorized into short-term (or current) assets, fixed assets, financial investments, and intangible assets.\n",
    "\n",
    "A current asset is an asset expected to be used or converted into cash within one year.\n"
   ],
   "cell_type": "markdown",
   "metadata": {}
  },
  {
   "source": [
    "# Balance Sheet\n",
    "---\n",
    "\n",
    "The Balance Sheet is also known as the Statement of Finantial Position. It is a list of an organization's Assets and Liabilities.\n",
    "\n",
    "The Balance Sheet reports a corporation’s assets, liabilities, and stockholders’ equity as of a moment in time. Unlike the other financial statements which report amounts for a period of time (such as revenues and expenses for the year), the Balance Sheet reports amounts as of the final moment of the day shown in the heading of the balance sheet. Typically, this is the final moment of the accounting period.\n",
    "\n",
    "At all times the amount of the corporation’s assets should be equal to the amount of liabilities plus stockholders’ equity. In other words, the Balance Sheet reflects the accounting equation: Assets = Liabilities + Stockholders’ Equity.\n",
    "\n",
    "Assets are resources such as cash, inventory, investments, buildings, equipment, and some prepaid or deferred expenses. Liabilities are obligations such as accounts payable, loans payable, accrued expenses payable (wages, interest, utilities), deferred revenues, and bonds payable. Stockholders’ equity includes paid-in capital, retained earnings, accumulated other comprehensive income, and treasury stock.\n",
    "\n",
    "Because of the cost principle, some valuable assets will not be reported (trade names, management) and some property may be more valuable than the amounts based on cost. As a result, the amount of stockholders’ equity should not be interpreted to be the market value of the corporation.\n",
    "\n",
    "![Balance Sheet](images\\balance_sheet.png \"Balance Sheet\")"
   ],
   "cell_type": "markdown",
   "metadata": {}
  },
  {
   "source": [
    "# Beta\n",
    "---\n",
    "\n",
    "Beta is a measure of the market-wide risk that can not be eliminated through diversification (because it happens to everybody). Beta reflects the amount of risk that a company has tied to the market risk. A low Beta means that a company is not much affected by market movements. The reference rate of a risk-free transaction, e.g. a loan, is $5$%.\n",
    "\n",
    "Beta's value is calculated as the covariance between the company returns ($r_{a}$) and the market returns ($r_{b}$), divided by the variance in the market returns ($r_{b}$):\n",
    "\n",
    "$\\LARGE \\beta = \\frac{\\text{Cov}(r_{a}, \\, r_{b})}{\\text{Var}(r_{b})}$\n",
    "\n",
    "![Beta Risk](images\\beta.png \"Beta Risk\")"
   ],
   "cell_type": "markdown",
   "metadata": {}
  },
  {
   "source": [
    "# Bond\n",
    "---\n",
    "\n",
    "A bond provides an evidence that the bondholder is owed money by the company that issued the bond.\n",
    "\n",
    "The bond is an instrument of indebtedness of the bond issuer to the holders. The most common types of bonds include municipal bonds and corporate bonds. Bonds can be in mutual funds or can be in private investing where a person would give a loan to a company or the government.\n",
    "\n",
    "The bond is a debt security, under which the issuer owes the holders a debt and (depending on the terms of the bond) is obliged to pay them interest (the coupon) or to repay the principal at a later date, termed the maturity date. Interest is usually payable at fixed intervals (semiannual, annual, sometimes monthly). Very often the bond is negotiable, that is, the ownership of the instrument can be transferred in the secondary market. This means that once the transfer agents at the bank medallion stamp the bond, it is highly liquid on the secondary market.\n",
    "\n",
    "Thus a bond is a form of loan or IOU: the holder of the bond is the lender (creditor), the issuer of the bond is the borrower (debtor), and the coupon is the interest. Bonds provide the borrower with external funds to finance long-term investments, or, in the case of government bonds, to finance current expenditure. Certificates of deposit (CDs) or short-term commercial paper are considered to be money market instruments and not bonds: the main difference is the length of the term of the instrument."
   ],
   "cell_type": "markdown",
   "metadata": {}
  },
  {
   "source": [
    "# Bonds vs. Stock\n",
    "---\n",
    "\n",
    "Bonds and Stock are both securities, but the major difference between the two is that (capital) stockholders have an equity stake in a company (that is, they are owners), whereas bondholders have a creditor stake in the company (that is, they are lenders). Being a creditor, bondholders have priority over stockholders. This means they will be repaid in advance of stockholders, but will rank behind secured creditors, in the event of bankruptcy.\n",
    "\n",
    "Another difference is that bonds usually have a defined term, or maturity, after which the bond is redeemed, whereas stocks typically remain outstanding indefinitely. An exception is an irredeemable bond, such as a consol, which is a perpetuity, that is, a bond with no maturity.\n",
    "\n",
    "![Bonds vs Stock](images\\bonds_vs_stock.png \"Bonds vs Stock\")"
   ],
   "cell_type": "markdown",
   "metadata": {}
  },
  {
   "source": [
    "# Bottom Line\n",
    "---\n",
    "\n",
    "Bottom Line is a term used for a company’s Net Income because the Net Income is the “bottom line” of an income statement."
   ],
   "cell_type": "markdown",
   "metadata": {}
  },
  {
   "source": [
    "# Capital Asset Pricing Model (CAPM)\n",
    "---\n",
    "\n",
    "According to the Capital Asset Pricing Model, the expected return on investment should be greater than the Risk-Free Rate plus an Equity Risk Premium multiplied by the Beta Risk of the company.\n",
    "\n",
    "## Examples\n",
    "\n",
    " $1)$ Walmart Expected Return = (Risk-Free Rate = $5$%) + (Equity Risk Premium = $6$% $\\times$ Walmart Beta Risk = $0.36$) = $7.2$%.\n",
    "\n",
    " $2)$ Ford Motor Company Expected Return = (Risk-Free Rate = $5$%) + (Equity Risk Premium = $6$% $\\times$ Ford Motor Company Beta Risk = $1.8$) = $15.8$%."
   ],
   "cell_type": "markdown",
   "metadata": {}
  },
  {
   "source": [
    "# Capital Expenditures (CapEx)\n",
    "---\n",
    "\n",
    "Capital Expenditures are purchases of long-term operating assets, such as land, buildings and equipment. These assets are acquired to be used over the course of several years.\n",
    "\n",
    "There are several models used to make Capital Budget decisions:\n",
    "\n",
    " * Net present value\n",
    " * Internal rate of return\n",
    " * Payback period"
   ],
   "cell_type": "markdown",
   "metadata": {}
  },
  {
   "source": [
    "# Capital Structure\n",
    "---\n",
    "\n",
    "Capital Structure is the mix between owner investment and long-term borrowing. An optimal capital structure has some borrowing because of tax benefits, but not too much, because of the increase in the probability of costly financial distress. The optimal level of borrowing depends on the concrete context of every company.\n",
    "\n",
    "Examples of factors that enable companies to borrow more:\n",
    "\n",
    " * Higher tax rates - when the tax rates are high, companies tend to have more borrowing in their capital structure, because they will be able to deduct more from the tax payments. \n",
    " * High collateral quantity - when the companies have several assets that they can present as collateral value.\n",
    " * Stable cash flows - when the companies have predictable cash flows, they can offer more comfort to the lenders. \n",
    "\n",
    "![Capital Structure](images\\capital_structure.png \"Capital Structure\")\n",
    "\n",
    "## Cost of Capital\n",
    "\n",
    "The Cost of Capital is the cost of obtaining financing. Depending on each project returns, the Cost of Capital determines which projects are good or bad, from an investment perspective. For example, it does not make sense to borrow capital if the Cost of Capital is $11$% but the expected project returns is only $7$%.\n",
    "\n",
    "## Cost of Borrowing\n",
    "\n",
    "The Cost of Borrowing is the interest rate for loans.\n",
    "\n",
    "## Cost of Equity Investment\n",
    "\n",
    "The Cost of Equity Investment is the return that investors expect to encourage them to invest in a project. The Cost of Equity Investment is what we calculate using the Capital Asset Pricing Model."
   ],
   "cell_type": "markdown",
   "metadata": {}
  },
  {
   "source": [
    "# Cash Flow Statement\n",
    "---\n",
    "\n",
    "The Cash Flow Statement is a report of the amount of cash collected and cash paid by a company during a period of time."
   ],
   "cell_type": "markdown",
   "metadata": {}
  },
  {
   "source": [
    "\n",
    "# Collateral Value\n",
    "---\n",
    "\n",
    "The term Collateral Value refers to the fair market value of the assets used to secure a loan. Collateral Value is typically determined by looking at the recent sale prices of similar assets or having the asset appraised by a qualified expert.\n",
    "\n",
    "Key takeways:\n",
    "\n",
    " * Collateral Value refers to the amount of assets that have been put up to secure a loan.\n",
    " * Lenders often use this value to estimate the level of risk associated with a particular loan application.\n",
    " * Various methods estimate collateral value, including reviewing comparable transactions, relying on tax assessments, and consulting with subject-matter experts."
   ],
   "cell_type": "markdown",
   "metadata": {}
  },
  {
   "source": [
    "# Common-Size Financial Statements\n",
    "---\n",
    "\n",
    "Common-Size is an analysis method to convert a company's raw financial statement numbers into percentage of total sales or percentage of total assets.\n",
    "\n",
    "Common-size financial statements are prepared by dividing financial statement numbers by either total sales or total assets. A common-size income statement, for example, is prepared by dividing all the numbers on the income statement by sales. A lot of information can be gleaned from this simple set of calculations. With common-size statements, you can compare financial statements of different sizes across time for the same company and across companies at the same point in time. "
   ],
   "cell_type": "markdown",
   "metadata": {}
  },
  {
   "source": [
    "# Discounting\n",
    "---\n",
    "\n",
    "Discounting is the process of mathematically using the time value of money to make long-term investment decisions. We discount all of the cash flows to the present time using an interest rate so that we can compare them on a common basis right now.\n",
    "\n",
    "In Capital Budgeting, we estimate what cash flows are going to be in the future, and then we discount those cash flows to right now to see what their cash flow equivalent is today."
   ],
   "cell_type": "markdown",
   "metadata": {}
  },
  {
   "source": [
    "# DuPont Framework\n",
    "---\n",
    "\n",
    "Originally popularized in $1920$ by the DuPont Corporation, the DuPont framework  (also known as the DuPont Analysis, DuPont Equation, DuPont Model or the DuPont Method) is an equation that allows to understand the company's fundamental performance and potential growth by decomposing the drivers of Return on Equity (ROE):\n",
    "\n",
    " 1. Profitability (measured by Net Profit Margin)\n",
    " 2. Asset Efficiency (measured by Asset Turnover)\n",
    " 3. Financial Leverage (measured by Equity Multiplier)\n",
    "\n",
    "![DuPont Framework](images\\dupont_framework.png \"DuPont Framework\")\n",
    "\n",
    "The Return on Equity metric is Net Income divided by Shareholders’ Equity. The Dupont analysis is still the ROE, just an expanded version. The ROE calculation alone reveals how well a company utilizes capital from shareholders. Investors can use the DuPont Framework to compare the operational efficiency of two similar firms. Managers can use DuPont analysis to identify strengths or weaknesses that should be addressed and its effect on the Return on Equity. That is, a Dupont Analysis can help deduce whether its profitability, use of assets, or debt that’s driving ROE."
   ],
   "cell_type": "markdown",
   "metadata": {}
  },
  {
   "source": [
    "# Efficiency Ratios\n",
    "---\n",
    "\n",
    "The result of these two values added together is the company's Operating Cycle:\n",
    "\n",
    " 1. Number of Days' Sales in Inventory: how long the inventory stays in the company until is sold.\n",
    "\n",
    " $\\text{Average Inventory} = \\Large \\frac{\\text{Beginning Inventory for the Year + Ending Inventory}}{2}$\n",
    "\n",
    " $\\text{Inventory Turnover} = \\Large \\frac{\\text{Cost of Goods Sold}}{\\text{Average Inventory}}$\n",
    "\n",
    " $\\text{Days' Sales in Inventory} = 365 \\div \\text{Inventory Turnover}$\n",
    "\n",
    " ![Harley-Davidson Efficiency Ratio 1](images\\efficiency_ratio_1.png \"Harley-Davidson Efficiency Ratio 1\")\n",
    "\n",
    " 2. Average Collection Period: how long from when the company sells something on credit until receiving the cash.\n",
    "\n",
    " $\\text{Average Accounts Receivable} = \\Large \\frac{\\text{Beginning Balance + Ending Balance}}{2}$\n",
    "\n",
    " $\\text{Accounts Receivable Turnover} = \\Large \\frac{\\text{Net Credit Sales}}{\\text{Average Accounts Receivable}}$\n",
    "\n",
    " $\\text{Average Collection Period} = 365 \\div \\text{Accounts Receivables Turnover}$\n",
    "\n",
    " ![Harley-Davidson Efficiency Ratio 2](images\\efficiency_ratio_2.png \"Harley-Davidson Efficiency Ratio 2\")"
   ],
   "cell_type": "markdown",
   "metadata": {}
  },
  {
   "source": [
    "# Expenses\n",
    "---\n",
    "\n",
    "Expenses are the amount of Assets consumed in doing business."
   ],
   "cell_type": "markdown",
   "metadata": {}
  },
  {
   "source": [
    "# Finance\n",
    "---\n",
    "\n",
    "Finance is deciding what you should buy, how to get the money to buy it and, once you have it, how you should manage it.\n",
    "\n",
    "Financial Management is monitoring the cash flows in and out of the business: the receivables, the inventory and the payables.\n",
    "\n",
    "![Finance Operating Cycle](images\\finance_operating_cycle.png \"Finance Operating Cycle\")"
   ],
   "cell_type": "markdown",
   "metadata": {}
  },
  {
   "source": [
    "# Financial Ratios\n",
    "---\n",
    "\n",
    "## Debt Ratio\n",
    "\n",
    "The Debt Ratio is calculated dividing the Total of Liabilities by the Total of Assets. The Debt Ratio is a measure of Leverage. The Leverage is the amount of borrowed money vs. the investment from owners in a business.\n",
    "\n",
    "$\\text{Debt Ratio} = \\Large \\frac{\\text{Total of Liabilities}}{\\text{Total of Assets}}$\n",
    "\n",
    "![Debt Ratio](images\\debt_ratio.png \"Debt Ratio\")\n",
    "\n",
    "A rule of thumb for large companies is the Debt Ratio is about $50$% to $60$%. In the above case, it would make sense to ask why Nordstrom's Debt Ratio is so high.\n",
    "\n",
    "As there are several measures of debt, we always need to clarify which ratios are being used on every case, e.g. Debt Ratio, Debt-to-Equity Ratio, or Assets-to-Equity Ratio. We can not interpret the number until we know which ratio is being used.\n",
    "\n",
    "## Current Ratio\n",
    "\n",
    "The Current Ratio is calculated dividing the Current Assets by the Current Liabilities. A Current Asset is an asset that a company is expecting to use in the next year, for example: cash, inventory or account receivables. A Current Liability is an obligation that a company expects to pay in the coming year, for example: supplier accounts payable or wages.\n",
    "\n",
    "To give confidence to creditors that debts will be paid, a classic rule of thumb is for current ratio to be bigger than $2$. So, the current ratio reflects company's Liquidity. In modern times, due to technology advancements in tracking inventory, it is common for a company to have a current ratio below $1.0$. As an example, Walmart's current ration is about $0.8$.\n",
    "\n",
    "$\\text{Current Ratio} = \\Large \\frac{\\text{Current Assets}}{\\text{Current Liabilities}}$\n",
    "\n",
    "## Return On Sales\n",
    "\n",
    "The Return On Sales is calculated dividing the Net Income by the Total Revenue. The Return On Sales ratio is a measure of company's profitability. The Return On Sales is also known as the Profit Margin.\n",
    "\n",
    "## Asset Turnover\n",
    "\n",
    "The Asset Turnover is calculated dividing the Total of Sales by the Total of Assets. It is a measure of efficiency, and as such it is also known as Efficiency Ratio:\n",
    "\n",
    "$\\text{Efficiency Ratio} = \\Large \\frac{\\text{Total Sales}}{\\text{Total Assets}}$\n",
    "\n",
    "## Return On Equity (ROE)\n",
    "\n",
    "The Return On Equity is calculated dividing the Net Income by the Total of Equity. The Return On Equity is a measure of the overall profitability of shareholders' investment.\n",
    "\n",
    "$\\text{ROE} = \\Large \\frac{\\text{Net Income}}{\\text{Stockholder Equity}}$\n",
    "\n",
    "For example, if a company's ROE is $9.3$%, it means that for each $100$€ that shareholders invest, they will get $9.30$€ in return. Most companies are between $10$% and $20$%, generally being considered that below $10$% is not a good performance, and above $20$% is very good.\n",
    "\n",
    "![Return On Equity](images\\roe.png \"Return On Equity\")\n",
    "\n",
    "## Price-Earnings Ratio\n",
    "\n",
    "The Price-Earnings Ratio is calculated dividing the Market Value Of Shares by the Net Income. Earnings is just another designation for the Net Income. The Price-Earnings Ratio is a measure of growth potential, earnings stability, and management capabilities. The Market Value Of Shares is also known as the Market Capitalization. The Market Capitalization is the market value of the company's shares, the price to buy $100$% ownership of the company."
   ],
   "cell_type": "markdown",
   "metadata": {}
  },
  {
   "source": [
    "# Financial Statement Analysis\n",
    "---\n",
    "\n",
    "Financial Statement Analysis is the process of using the relatioships among a company's financial statement numbers to gain insight into its operations.\n",
    "\n",
    "Steps of Financial Ratio Analysis Process:\n",
    "\n",
    " 1. Dupont framework\n",
    " 2. Common-size statements\n",
    " 3. Additional ratios\n",
    " 4. Follow-up with specific staff\n",
    "\n",
    "When doing Financial Analysis, a number of potential pitfalls need to be considered:\n",
    "\n",
    " 1. Financial information is not the only valuable information about a firm, and the apparent precison of numbers may be misleading.\n",
    " 2. It is difficult to compare statements across companies.\n",
    " 3. We could overlook a multitude of reasons related to a firm's performance.\n",
    " 4. We all weight information differently.\n",
    "\n",
    "There are commonly several reasons, not just one, that explain a company's performance."
   ],
   "cell_type": "markdown",
   "metadata": {}
  },
  {
   "source": [
    "# Income Statement\n",
    "---\n",
    "\n",
    "The Income Statement is also known as Statement of Earnings, Statement of Operations, or P&L (Profit & Loss).\n",
    "\n",
    "The Income Statement reports a corporation’s revenues, expenses, gains, losses, and the resulting net income (revenues minus expenses) for the period of time specified in its heading. The period of time or time interval could be a year, quarter, week, 26 weeks, etc.\n",
    "\n",
    "If the corporation’s shares of stock are publicly-traded the earnings per share of common stock (EPS) must also be reported on the face of the Income Statement.\n",
    "\n",
    "A positive net income reported on the Income Statement will cause the corporation’s retained earnings (part of the balance sheet section, stockholders’ equity) to increase. (A net loss will cause retained earnings to decrease.) There are a few items that will increase stockholders’ equity but will not be reported on the Income Statement. These items are part of other comprehensive income which is reported on the Statement of Comprehensive Income.\n",
    "\n",
    "![Income Statement](images\\income_statement.png \"Income Statement\")\n",
    "\n",
    "The Income Statement can be summarized as:\n",
    "\n",
    "$\\large \\text{Revenues - Expenses = Net Income}$"
   ],
   "cell_type": "markdown",
   "metadata": {}
  },
  {
   "source": [
    "# Internal Controls\n",
    "---\n",
    "\n",
    "Internal Controls are the systems inside a company that record every transaction to ensure it meets its obligations and that its financial reports are accurate. \n",
    "\n",
    "These are some internal control practices:\n",
    "\n",
    " * Separation of duties\n",
    " * Physical asset protection\n",
    " * Independent checks\n",
    " * Employee vacations"
   ],
   "cell_type": "markdown",
   "metadata": {}
  },
  {
   "source": [
    "# Leverage\n",
    "---\n",
    "\n",
    "Leverage refers to the use of borrowed money to generate sales. Leverage results from using borrowed capital as a funding source when investing to expand the firm's asset base and generate returns on risk capital. It is an investment strategy of using borrowed money, specifically, the use of various financial instruments or borrowed capital to increase the potential return of an investment. Leverage can also refer to the amount of debt a firm uses to finance assets.\n",
    "\n",
    "The Leverage Ratio is an indicator of how much money has been borrowed to purchase assets:\n",
    "\n",
    "$\\text{Leverage Ratio} = \\Large \\frac{\\text{Total Assets}}{\\text{Stockholder Equity}}$"
   ],
   "cell_type": "markdown",
   "metadata": {}
  },
  {
   "source": [
    "# Liabilities\n",
    "---\n",
    "\n",
    "Liabilities are obligations to repay money or to provide a service in the future. A current liability is a liability expected to be paid or fulfilled within one year."
   ],
   "cell_type": "markdown",
   "metadata": {}
  },
  {
   "source": [
    "# Liquidity\n",
    "---\n",
    "\n",
    "Liquidity refers to the ability of a company to pay its obligations in the short term. The short term period is usually defined as less than one year."
   ],
   "cell_type": "markdown",
   "metadata": {}
  },
  {
   "source": [
    "# Marketable Securities\n",
    "---\n",
    "\n",
    "Marketable securities are liquid financial instruments that can be quickly converted into cash at a reasonable price. The liquidity of marketable securities comes from the fact that the maturities tend to be less than one year, and that the rates at which they can be bought or sold have little effect on prices."
   ],
   "cell_type": "markdown",
   "metadata": {}
  },
  {
   "source": [
    "# Master Budget\n",
    "---\n",
    "\n",
    "The master budget is the aggregation of all lower-level budgets produced by a company's various functional areas, and also includes budgeted financial statements, a cash forecast, and a financing plan. The master budget is typically presented in either a monthly or quarterly format, and usually covers a company's entire fiscal year. An explanatory text may be included with the master budget, which explains the company's strategic direction, how the master budget will assist in accomplishing specific goals, and the management actions needed to achieve the budget. There may also be a discussion of the headcount changes that are required to achieve the budget.\n",
    "\n",
    "A master budget is the central planning tool that a management team uses to direct the activities of a corporation, as well as to judge the performance of its various responsibility centers. It is customary for the senior management team to review a number of iterations of the master budget and incorporate modifications until it arrives at a budget that allocates funds to achieve the desired results. Hopefully, a company uses participative budgeting to arrive at this final budget, but it may also be imposed on the organization by senior management, with little input from other employees.\n",
    "\n",
    "The budgets that roll up into the master budget include:\n",
    "\n",
    " * Direct labor budget\n",
    " * Direct materials budget\n",
    " * Ending finished goods budget \n",
    " * Manufacturing overhead budget\n",
    " * Production budget\n",
    " * Sales budget\n",
    " * Selling and administrative expense budget\n",
    "\n",
    "![Budgeting](images\\budgeting.png \"Budgeting\")\n",
    "\n",
    "![Manufacturing vs Service Firm](images\\manufacturing_vs_service.png \"Manufacturing vs Service Firm\")"
   ],
   "cell_type": "markdown",
   "metadata": {}
  },
  {
   "source": [
    "# Net Income\n",
    "---\n",
    "\n",
    "Net Income is the net amount of assets generated by a business through operations."
   ],
   "cell_type": "markdown",
   "metadata": {}
  },
  {
   "source": [
    "# Operating Cycle\n",
    "---\n",
    "\n",
    "The Operating Cycle is the length of time from when inventory is purchased by the company to when cash is collected from the sale of the inventory (v. EFFICIENCY RATIOS).\n",
    "\n",
    "For example, Harley-Davidson's Operating Cycle is 83 days:\n",
    "\n",
    "![Operating Cycle](images\\operating_cycle.png \"Operating Cycle\")"
   ],
   "cell_type": "markdown",
   "metadata": {}
  },
  {
   "source": [
    "# Owner's Equity\n",
    "---\n",
    "\n",
    "The Shareholder's Equity or Owner's Equity (for private companies) is money provided to the company by the owners. Equity can be provided as Paid-In Capital or Retained Earnings. "
   ],
   "cell_type": "markdown",
   "metadata": {}
  },
  {
   "source": [
    "# Paid-In Capital\n",
    "---\n",
    "\n",
    "Paid-In Capital is the owners own money (capital) they put into the business."
   ],
   "cell_type": "markdown",
   "metadata": {}
  },
  {
   "source": [
    "# Profit Margin\n",
    "---\n",
    "\n",
    "Profit margin is one of the commonly used profitability ratios to gauge the degree to which a company or a business activity makes money. It represents what percentage of sales has turned into profits. Simply put, the percentage figure indicates how many cents of profit the business has generated for each dollar of sale. For instance, if a business reports that it achieved a 35% profit margin during the last quarter, it means that it had a net income of $0.35 for each dollar of sales generated.\n",
    "\n",
    "There are several types of profit margin. In everyday use, however, it usually refers to net profit margin, a company’s bottom line after all other expenses, including taxes and one-off oddities, have been taken out of revenue.\n",
    "\n",
    "$\\text{Profit Margin} = \\Large \\frac{\\text{Net Income}}{\\text{Revenue}}$"
   ],
   "cell_type": "markdown",
   "metadata": {}
  },
  {
   "source": [
    "# Retained Earnings\n",
    "---\n",
    "\n",
    "Retained Earnings (RE) are the accumulated portion of a business’s profits that are not distributed as dividends to shareholders but instead are reserved for reinvestment back into the business. Normally, these funds are used for working capital and fixed asset purchases (capital expenditures) or allotted for paying off debt obligations.\n",
    "\n",
    "Retained Earnings are reported on the balance sheet under the shareholder’s equity section at the end of each accounting period. To calculate RE, the beginning RE balance is added to the net income or reduced by a net loss and then dividend payouts are subtracted. A summary report called a statement of retained earnings is also maintained, outlining the changes in RE for a specific period.\n",
    "\n",
    "Retained Earnings represent a useful link between the income statement and the balance sheet, as they are recorded under shareholders’ equity, which connects the two statements. The purpose of retaining these earnings can be varied and includes buying new equipment and machines, spending on research and development, or other activities that could potentially generate growth for the company. This reinvestment into the company aims to achieve even more earnings in the future.\n",
    "\n",
    "If a company does not believe it can earn a sufficient return on investment from those retained earnings (i.e., earn more than their cost of capital), then they will often distribute those earnings to shareholders as dividends or conduct a share buybacks."
   ],
   "cell_type": "markdown",
   "metadata": {}
  },
  {
   "source": [
    "# Return On Equity (ROE)\n",
    "---\n",
    "\n",
    "v. FINANCIAL RATIOS."
   ],
   "cell_type": "markdown",
   "metadata": {}
  },
  {
   "source": [
    "# Revenue\n",
    "---\n",
    "\n",
    "Revenue is the amount of Assets generated doing business."
   ],
   "cell_type": "markdown",
   "metadata": {}
  },
  {
   "source": [
    "# Risk\n",
    "---\n",
    "\n",
    "Risk is the uncertainty of what will happen in the future that may cause variability in potential outcomes. Insurance companies exist because of risk. It is their job to take risk on behalf of the insured and assume the risk themselves. That will have a cost to the insured.\n",
    "\n",
    "There are several types of business risk:\n",
    "\n",
    " * Price risk - uncertainty about the future price of an asset (inventory, fuel prices, etc.)\n",
    " * Credit risk - uncertainty about if all parties on an agreement will abide by the terms of the deal.\n",
    " * Interest rate - uncertainty about future interest rates and their impact on cash flows.\n",
    " * Exchange rate - uncertainty about fair value and future cash flows of assets in a foreign currency.\n",
    " * Cash flow - uncertainty about the amount of cash generated or consumed in the future.\n",
    "\n",
    "Some risk can be mitigated through diversification. Diversification is to spread out an investment in several places. However, there is risk that can not be avoided through diversification. That risk is called Beta risk."
   ],
   "cell_type": "markdown",
   "metadata": {}
  },
  {
   "source": [
    "# Risk-Free Rate Of Return\n",
    "---\n",
    "\n",
    "The Risk-Free Rate of Return is the theoretical rate of return of an investment with zero risk. The risk-free rate represents the interest an investor would expect from an absolutely risk-free investment over a specified period of time. The real risk-free rate can be calculated by subtracting the current inflation rate from the yield of the Treasury bond matching your investment duration.\n",
    "\n",
    "Key takeaways:\n",
    "\n",
    " * The risk-free rate of return refers to the theoretical rate of return of an investment with zero risk.\n",
    " * In practice, the risk-free rate of return does not truly exist, as every investment carries at least a small amount of risk.\n",
    " * To calculate the real risk-free rate, subtract the inflation rate from the yield of the Treasury bond matching your investment duration."
   ],
   "cell_type": "markdown",
   "metadata": {}
  },
  {
   "source": [
    "# Equity Risk Premium\n",
    "---\n",
    "\n",
    "Equity Risk Premium is the extra amount earned on investments because of their added risk. It is the difference between the rate of risk-free investments (about $5$%) and the rate of equity investments (about $11$%). So, a rate used in Equity Risk Premium is $6$%.\n",
    "\n",
    "![Levels of Risk](images\\levels_of_risk.png \"Levels of Risk\")"
   ],
   "cell_type": "markdown",
   "metadata": {}
  },
  {
   "source": [
    "# Sarbannes-Oxley Act\n",
    "---\n",
    "\n",
    "The Sarbannes-Oxley Act of 2002 requires a company's internal controls to be in place and to be verified by an external auditor."
   ],
   "cell_type": "markdown",
   "metadata": {}
  },
  {
   "source": [
    "# Statement of Cash Flows\n",
    "---\n",
    "\n",
    "The Statement of Cash Flows is a financial statement that provides aggregate data regarding all cash inflows a company receives from its ongoing operations and external investment sources. It also includes all cash outflows that pay for business activities and investments during a given period. \n",
    "\n",
    "The Statement of Cash Flows is a report on three types of activies:\n",
    "\n",
    " 1. Operating activities: cash collection, cash paid for inventory, cash paid for wages, rent, advertising.\n",
    " 2. Investing activities: investing in the business's productive capacity, buying new buildings, land, or machines. \n",
    " 3. Financing activities: borrowing money, repaying loans, cash from investors, paying dividends.\n",
    "\n",
    "A company's financial statements offer investors and analysts a portrait of all the transactions that go through the business, where every transaction contributes to its success. The Statement of Cash Flows is believed to be the most intuitive of all the financial statements because it follows the cash made by the business in three main ways—through operations, investment, and financing. The sum of these three segments is called Net Cash Flow.\n",
    "\n",
    "![Statement of Cash Flows](images\\statement_of_cash_flows.png \"Statement of Cash Flows\")"
   ],
   "cell_type": "markdown",
   "metadata": {}
  },
  {
   "source": [
    "# Stock\n",
    "---\n",
    "\n",
    "Stock (also known as Capital Stock or Equity) is an evidence that a stockholder is the owner of a part of the company that issued the stock.\n",
    "\n",
    "Stock is all of the shares into which ownership of a corporation is divided. In American English, the shares are collectively known as \"stock\". A single share of the stock represents fractional ownership of the corporation in proportion to the total number of shares. This typically entitles the stockholder to that fraction of the company's earnings, proceeds from liquidation of assets (after discharge of all senior claims such as secured and unsecured debt), or voting power, often dividing these up in proportion to the amount of money each stockholder has invested.\n",
    "\n",
    "Stock can be bought and sold privately or on stock exchanges, and such transactions are typically heavily regulated by governments to prevent fraud, protect investors, and benefit the larger economy. The stocks are deposited with the depositories in the electronic format also known as Demat account. As new shares are issued by a company, the ownership and rights of existing shareholders are diluted in return for cash to sustain or grow the business. Companies can also buy back stock, which often lets investors recoup the initial investment plus capital gains from subsequent rises in stock price. \n",
    "\n",
    "Stock options, issued by many companies as part of employee compensation, do not represent ownership, but represent the right to buy ownership at a future time at a specified price. This would represent a windfall to the employees if the option is exercised when the market price is higher than the promised price, since if they immediately sold the stock they would keep the difference (minus taxes)."
   ],
   "cell_type": "markdown",
   "metadata": {}
  },
  {
   "source": [
    "# Weighted Average Cost of Capital (WACC)\n",
    "---\n",
    "\n",
    "The Weighted Average Cost of Capital (WACC) is a calculation of a firm's cost of capital in which each category of capital is proportionately weighted. All sources of capital, including common stock, preferred stock, bonds, and any other long-term debt, are included in a WACC calculation.\n",
    "\n",
    "A firm’s WACC increases as the Beta and Rate of Return on Equity increase because an increase in WACC denotes a decrease in valuation and an increase in risk."
   ],
   "cell_type": "markdown",
   "metadata": {}
  }
 ]
}