{
 "metadata": {
  "language_info": {
   "codemirror_mode": {
    "name": "ipython",
    "version": 3
   },
   "file_extension": ".py",
   "mimetype": "text/x-python",
   "name": "python",
   "nbconvert_exporter": "python",
   "pygments_lexer": "ipython3",
   "version": 3
  },
  "orig_nbformat": 2
 },
 "nbformat": 4,
 "nbformat_minor": 2,
 "cells": [
  {
   "source": [
    "# FINANCE CONCEPTS\n",
    "---"
   ],
   "cell_type": "markdown",
   "metadata": {}
  },
  {
   "source": [
    "# Balance Sheet\n",
    "---\n",
    "\n",
    "The Balance Sheet is also known as the Statement of Finantial Position.\n",
    "\n",
    "The Balance Sheet reports a corporation’s assets, liabilities, and stockholders’ equity as of a moment in time. Unlike the other financial statements which report amounts for a period of time (such as revenues and expenses for the year), the Balance Sheet reports amounts as of the final moment of the day shown in the heading of the balance sheet. Typically, this is the final moment of the accounting period.\n",
    "\n",
    "At all times the amount of the corporation’s assets should be equal to the amount of liabilities plus stockholders’ equity. In other words, the Balance Sheet reflects the accounting equation: Assets = Liabilities + Stockholders’ Equity.\n",
    "\n",
    "Assets are resources such as cash, inventory, investments, buildings, equipment, and some prepaid or deferred expenses. Liabilities are obligations such as accounts payable, loans payable, accrued expenses payable (wages, interest, utilities), deferred revenues, and bonds payable. Stockholders’ equity includes paid-in capital, retained earnings, accumulated other comprehensive income, and treasury stock.\n",
    "\n",
    "Because of the cost principle, some valuable assets will not be reported (trade names, management) and some property may be more valuable than the amounts based on cost. As a result, the amount of stockholders’ equity should not be interpreted to be the market value of the corporation.\n"
   ],
   "cell_type": "markdown",
   "metadata": {}
  },
  {
   "source": [
    "# Beta Risk\n",
    "---\n",
    "\n",
    "Beta Risk is a measure of the market-wide risk that can not be eliminated through diversification (because it happens to everybody). Beta reflects the amount of risk that a company has tied to the market risk. A low Beta means that a company is not much affected by market movements. The reference rate of a risk-free transaction, e.g. a loan, is $5$%.\n",
    "\n",
    "Beta is calculated as the covariance between the company returns ($r_{a}$) and the market returns ($r_{b}$), divided by the variance in the market returns ($r_{b}$):\n",
    "\n",
    "$\\LARGE \\beta = \\frac{\\text{Cov}(r_{a}, \\, r_{b})}{\\text{Var}(r_{b})}$\n",
    "\n",
    "![Beta Risk](images\\beta.png \"Beta Risk\")"
   ],
   "cell_type": "markdown",
   "metadata": {}
  },
  {
   "source": [
    "# Bond\n",
    "---\n",
    "\n",
    "A bond provides an evidence that the bondholder is owed money by the company that issued the bond.\n",
    "\n",
    "The bond is an instrument of indebtedness of the bond issuer to the holders. The most common types of bonds include municipal bonds and corporate bonds. Bonds can be in mutual funds or can be in private investing where a person would give a loan to a company or the government.\n",
    "\n",
    "The bond is a debt security, under which the issuer owes the holders a debt and (depending on the terms of the bond) is obliged to pay them interest (the coupon) or to repay the principal at a later date, termed the maturity date. Interest is usually payable at fixed intervals (semiannual, annual, sometimes monthly). Very often the bond is negotiable, that is, the ownership of the instrument can be transferred in the secondary market. This means that once the transfer agents at the bank medallion stamp the bond, it is highly liquid on the secondary market.\n",
    "\n",
    "Thus a bond is a form of loan or IOU: the holder of the bond is the lender (creditor), the issuer of the bond is the borrower (debtor), and the coupon is the interest. Bonds provide the borrower with external funds to finance long-term investments, or, in the case of government bonds, to finance current expenditure. Certificates of deposit (CDs) or short-term commercial paper are considered to be money market instruments and not bonds: the main difference is the length of the term of the instrument."
   ],
   "cell_type": "markdown",
   "metadata": {}
  },
  {
   "source": [
    "# Bonds vs. Stock\n",
    "---\n",
    "\n",
    "Bonds and Stock are both securities, but the major difference between the two is that (capital) stockholders have an equity stake in a company (that is, they are owners), whereas bondholders have a creditor stake in the company (that is, they are lenders). Being a creditor, bondholders have priority over stockholders. This means they will be repaid in advance of stockholders, but will rank behind secured creditors, in the event of bankruptcy.\n",
    "\n",
    "Another difference is that bonds usually have a defined term, or maturity, after which the bond is redeemed, whereas stocks typically remain outstanding indefinitely. An exception is an irredeemable bond, such as a consol, which is a perpetuity, that is, a bond with no maturity.\n",
    "\n",
    "![Bonds vs Stock](images\\bonds_vs_stock.png \"Bonds vs Stock\")"
   ],
   "cell_type": "markdown",
   "metadata": {}
  },
  {
   "source": [
    "# Capital Asset Pricing Model (CAPM)\n",
    "---\n",
    "\n",
    "According to the Capital Asset Pricing Model, the expected return on investment should be greater than the risk-free rate plus an equity risk premium multiplied by the Beta Risk of the company.\n",
    "\n",
    "## Examples\n",
    "\n",
    " $1)$ Walmart Expected Return = (Risk-Free Rate = $5$%) + (Equity Risk Premium = $6$% $\\times$ Walmart Beta Risk = $0.36$) = $7.2$%.\n",
    "\n",
    " $2)$ Ford Motor Company Expected Return = (Risk-Free Rate = $5$%) + (Equity Risk Premium = $6$% $\\times$ Ford Motor Company Beta Risk = $1.8$) = $15.8$%."
   ],
   "cell_type": "markdown",
   "metadata": {}
  },
  {
   "source": [
    "# Capital Structure\n",
    "---\n",
    "\n",
    "Capital Structure is the mix between owner investment and long-term borrowing. An optimal capital structure has some borrowing because of tax benefits, but not too much, because of the increase in the probability of costly financial distress. The optimal level of borrowing depends on the concrete context of every company.\n",
    "\n",
    "Examples of factors that enable companies to borrow more:\n",
    "\n",
    " * Higher tax rates - when the tax rates are high, companies tend to have more borrowing in their capital structure, because they will be able to deduct more from the tax payments. \n",
    " * High collateral quantity - when the companies have several assets that they can present as collateral value.\n",
    " * Stable cash flows - when the companies have predictable cash flows, they can offer more comfort to the lenders. \n",
    "\n",
    "![Capital Structure](images\\capital_structure.png \"Capital Structure\")\n",
    "\n",
    "## Cost of Capital\n",
    "\n",
    "The Cost of Capital is the cost of obtaining financing. Depending on each project returns, the Cost of Capital determines which projects are good or bad, from an investment perspective. For example, it does not make sense to borrow capital if the Cost of Capital is $11$% but the expected project returns is only $7$%.\n",
    "\n",
    "## Cost of Borrowing\n",
    "\n",
    "The Cost of Borrowing is the interest rate for loans.\n",
    "\n",
    "## Cost of Equity Investment\n",
    "\n",
    "The Cost of Equity Investment is the return that investors expect to encourage them to invest in a project. The Cost of Equity Investment is what we calculate using the Capital Asset Pricing Model."
   ],
   "cell_type": "markdown",
   "metadata": {}
  },
  {
   "source": [
    "\n",
    "# Collateral Value\n",
    "---\n",
    "\n",
    "The term Collateral Value refers to the fair market value of the assets used to secure a loan. Collateral Value is typically determined by looking at the recent sale prices of similar assets or having the asset appraised by a qualified expert.\n",
    "\n",
    "Key takeways:\n",
    "\n",
    " * Collateral Value refers to the amount of assets that have been put up to secure a loan.\n",
    " * Lenders often use this value to estimate the level of risk associated with a particular loan application.\n",
    " * Various methods estimate collateral value, including reviewing comparable transactions, relying on tax assessments, and consulting with subject-matter experts."
   ],
   "cell_type": "markdown",
   "metadata": {}
  },
  {
   "source": [
    "# Discounting\n",
    "---\n",
    "\n",
    "Discounting is the process of mathematically using the time value of money to make long-term investment decisions. We discount all of the cash flows to the present time using an interest rate so that we can compare them on a common basis right now.\n",
    "\n",
    "In Capital Budgeting, we estimate what cash flows are going to be in the future, and then we discount those cash flows to right now to see what their cash flow equivalent is today."
   ],
   "cell_type": "markdown",
   "metadata": {}
  },
  {
   "source": [
    "# Finance\n",
    "---\n",
    "\n",
    "Finance is deciding what you should buy, how to get the money to buy it and, once you have it, how you should manage it.\n",
    "\n",
    "Financial Management is monitoring the cash flows in and out of the business: the receivables, the inventory and the payables.\n",
    "\n",
    "![Finance Operating Cycle](images\\finance_operating_cycle.png \"Finance Operating Cycle\")"
   ],
   "cell_type": "markdown",
   "metadata": {}
  },
  {
   "source": [
    "# Income Statement\n",
    "---\n",
    "\n",
    "The Income Statement is also known as Statement of Earnings, Statement of Operations, or P&L (Profit & Loss).\n",
    "\n",
    "The Income Statement reports a corporation’s revenues, expenses, gains, losses, and the resulting net income (revenues minus expenses) for the period of time specified in its heading. The period of time or time interval could be a year, quarter, week, 26 weeks, etc.\n",
    "\n",
    "If the corporation’s shares of stock are publicly-traded the earnings per share of common stock (EPS) must also be reported on the face of the Income Statement.\n",
    "\n",
    "A positive net income reported on the Income Statement will cause the corporation’s retained earnings (part of the balance sheet section, stockholders’ equity) to increase. (A net loss will cause retained earnings to decrease.) There are a few items that will increase stockholders’ equity but will not be reported on the Income Statement. These items are part of other comprehensive income which is reported on the Statement of Comprehensive Income."
   ],
   "cell_type": "markdown",
   "metadata": {}
  },
  {
   "source": [
    "# Internal Controls\n",
    "---\n",
    "\n",
    "Internal Controls are the systems inside a company that record every transaction to ensure it meets its obligations and that its financial reports are accurate. \n",
    "\n",
    "These are some internal control practices:\n",
    "\n",
    " * Separation of duties\n",
    " * Physical asset protection\n",
    " * Independent checks\n",
    " * Employee vacations"
   ],
   "cell_type": "markdown",
   "metadata": {}
  },
  {
   "source": [
    "# Financial Ratios\n",
    "---\n",
    "\n",
    "## Debt Ratio\n",
    "\n",
    "The Debt Ratio is calculated dividing the Total of Liabilities by the Total of Assets. The Debt Ratio is a measure of Leverage. The Leverage is the amount of borrowed money vs. the investment from owners in a business.\n",
    "\n",
    "## Current Ratio\n",
    "\n",
    "The Current Ratio is calculated dividing the Current Assets by the Current Liabilities. A Current Asset is an asset that a company is expecting to use in the next year, for example: cash or inventory. A Current Liability is an obligation that a company expects to pay in the coming year, for example: supplier accounts payable or wages.\n",
    "\n",
    "## Return On Sales\n",
    "\n",
    "The Return On Sales is calculated dividing the Net Income by the Total Revenue. The Return On Sales ratio is a measure of company's profitability. The Return On Sales is also known as the Profit Margin.\n",
    "\n",
    "## Asset Turnover\n",
    "\n",
    "The Asset Turnover is calculated dividing Total of Sales by the Total of Assets. The Asset Turnover is a measure of efficiency.\n",
    "\n",
    "## Return On Equity (ROE)\n",
    "\n",
    "The Return On Equity is calculated dividing the Net Income by the Total of Equity. The Return On Equity is a measure of the overall profitability of shareholder investment.\n",
    "\n",
    "## Price-Earnings Ratio\n",
    "\n",
    "The Price-Earnings Ratio is  is calculated dividing the Market Value Of Shares by the Net Income. Earnings is just another designation for the Net Income. The Price-Earnings Ratio is a measure of growth potential, earnings stability, and management capabilities. The Market Value Of Shares is also known as the Market Capitalization. The Market Capitalization is the market value of the company's shares, the price to buy $100$% ownership of the company."
   ],
   "cell_type": "markdown",
   "metadata": {}
  },
  {
   "source": [
    "# Risk\n",
    "---\n",
    "\n",
    "Risk is the uncertainty of what will happen in the future that may cause variability in potential outcomes. Insurance companies exist because of risk. It is their job to take risk on behalf of the insured and assume the risk themselves. That will have a cost to the insured.\n",
    "\n",
    "There are several types of business risk:\n",
    "\n",
    " * Price risk - uncertainty about the future price of an asset (inventory, fuel prices, etc.)\n",
    " * Credit risk - uncertainty about if all parties on an agreement will abide by the terms of the deal.\n",
    " * Interest rate - uncertainty about future interest rates and their impact on cash flows.\n",
    " * Exchange rate - uncertainty about fair value and future cash flows of assets in a foreign currency.\n",
    " * Cash flow - uncertainty about the amount of cash generated or consumed in the future.\n",
    "\n",
    "Some risk can be mitigated through diversification. Diversification is to spread out an investment in several places. However, there is risk that can not be avoided through diversification. That risk is called Beta risk."
   ],
   "cell_type": "markdown",
   "metadata": {}
  },
  {
   "source": [
    "# Equity Risk Premium\n",
    "---\n",
    "\n",
    "Equity Risk Premium is the extra amount earned on investments because of their added risk. It is the difference between the rate of risk-free investments (about $5$%) and the rate of equity investments (about $11$%). So, a rate used in Equity Risk Premium is $6$%.\n",
    "\n",
    "![Levels of Risk](images\\levels_of_risk.png \"Levels of Risk\")"
   ],
   "cell_type": "markdown",
   "metadata": {}
  },
  {
   "source": [
    "# Sarbannes-Oxley Act\n",
    "---\n",
    "\n",
    "The Sarbannes-Oxley Act of 2002 requires a company's internal controls to be in place and to be verified by an external auditor."
   ],
   "cell_type": "markdown",
   "metadata": {}
  },
  {
   "source": [
    "# Statement of Cash Flow\n",
    "---\n",
    "\n",
    "The Statement of Cash Flow is a financial statement that provides aggregate data regarding all cash inflows a company receives from its ongoing operations and external investment sources. It also includes all cash outflows that pay for business activities and investments during a given period. \n",
    "\n",
    "A company's financial statements offer investors and analysts a portrait of all the transactions that go through the business, where every transaction contributes to its success. The cash flow statement is believed to be the most intuitive of all the financial statements because it follows the cash made by the business in three main ways—through operations, investment, and financing. The sum of these three segments is called net cash flow."
   ],
   "cell_type": "markdown",
   "metadata": {}
  },
  {
   "source": [
    "# Stock\n",
    "---\n",
    "\n",
    "Stock (also known as Capital Stock or Equity) is an evidence that a stockholder is the owner of a part of the company that issued the stock.\n",
    "\n",
    "Stock is all of the shares into which ownership of a corporation is divided. In American English, the shares are collectively known as \"stock\". A single share of the stock represents fractional ownership of the corporation in proportion to the total number of shares. This typically entitles the stockholder to that fraction of the company's earnings, proceeds from liquidation of assets (after discharge of all senior claims such as secured and unsecured debt), or voting power, often dividing these up in proportion to the amount of money each stockholder has invested.\n",
    "\n",
    "Stock can be bought and sold privately or on stock exchanges, and such transactions are typically heavily regulated by governments to prevent fraud, protect investors, and benefit the larger economy. The stocks are deposited with the depositories in the electronic format also known as Demat account. As new shares are issued by a company, the ownership and rights of existing shareholders are diluted in return for cash to sustain or grow the business. Companies can also buy back stock, which often lets investors recoup the initial investment plus capital gains from subsequent rises in stock price. \n",
    "\n",
    "Stock options, issued by many companies as part of employee compensation, do not represent ownership, but represent the right to buy ownership at a future time at a specified price. This would represent a windfall to the employees if the option is exercised when the market price is higher than the promised price, since if they immediately sold the stock they would keep the difference (minus taxes)."
   ],
   "cell_type": "markdown",
   "metadata": {}
  }
 ]
}