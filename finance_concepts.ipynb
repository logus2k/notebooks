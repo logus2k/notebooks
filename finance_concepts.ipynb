{
 "metadata": {
  "language_info": {
   "codemirror_mode": {
    "name": "ipython",
    "version": 3
   },
   "file_extension": ".py",
   "mimetype": "text/x-python",
   "name": "python",
   "nbconvert_exporter": "python",
   "pygments_lexer": "ipython3",
   "version": 3
  },
  "orig_nbformat": 2
 },
 "nbformat": 4,
 "nbformat_minor": 2,
 "cells": [
  {
   "source": [
    "# FINANCE CONCEPTS\n",
    "---"
   ],
   "cell_type": "markdown",
   "metadata": {}
  },
  {
   "source": [
    "# Balance Sheet\n",
    "---\n",
    "\n",
    "The Balance Sheet is also known as the Statement of Finantial Position.\n",
    "\n",
    "The Balance Sheet reports a corporation’s assets, liabilities, and stockholders’ equity as of a moment in time. Unlike the other financial statements which report amounts for a period of time (such as revenues and expenses for the year), the Balance Sheet reports amounts as of the final moment of the day shown in the heading of the balance sheet. Typically, this is the final moment of the accounting period.\n",
    "\n",
    "At all times the amount of the corporation’s assets should be equal to the amount of liabilities plus stockholders’ equity. In other words, the Balance Sheet reflects the accounting equation: Assets = Liabilities + Stockholders’ Equity.\n",
    "\n",
    "Assets are resources such as cash, inventory, investments, buildings, equipment, and some prepaid or deferred expenses. Liabilities are obligations such as accounts payable, loans payable, accrued expenses payable (wages, interest, utilities), deferred revenues, and bonds payable. Stockholders’ equity includes paid-in capital, retained earnings, accumulated other comprehensive income, and treasury stock.\n",
    "\n",
    "Because of the cost principle, some valuable assets will not be reported (trade names, management) and some property may be more valuable than the amounts based on cost. As a result, the amount of stockholders’ equity should not be interpreted to be the market value of the corporation.\n"
   ],
   "cell_type": "markdown",
   "metadata": {}
  },
  {
   "source": [
    "# Income Statement\n",
    "---\n",
    "\n",
    "The Income Statement is also known as Statement of Earnings, Statement of Operations, and P&L (Profit & Loss).\n",
    "\n",
    "The Income Statement reports a corporation’s revenues, expenses, gains, losses, and the resulting net income for the period of time specified in its heading. The period of time or time interval could be a year, quarter, week, 26 weeks, etc.\n",
    "\n",
    "If the corporation’s shares of stock are publicly-traded the earnings per share of common stock (EPS) must also be reported on the face of the Income Statement.\n",
    "\n",
    "A positive net income reported on the Income Statement will cause the corporation’s retained earnings (part of the balance sheet section, stockholders’ equity) to increase. (A net loss will cause retained earnings to decrease.) There are a few items that will increase stockholders’ equity but will not be reported on the Income Statement. These items are part of other comprehensive income which is reported on the Statement of Comprehensive Income."
   ],
   "cell_type": "markdown",
   "metadata": {}
  }
 ]
}