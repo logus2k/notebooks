{
 "metadata": {
  "language_info": {
   "codemirror_mode": {
    "name": "ipython",
    "version": 3
   },
   "file_extension": ".py",
   "mimetype": "text/x-python",
   "name": "python",
   "nbconvert_exporter": "python",
   "pygments_lexer": "ipython3",
   "version": "3.8.5-final"
  },
  "orig_nbformat": 2,
  "kernelspec": {
   "name": "python3",
   "display_name": "Python 3.8.5 64-bit ('NOTB')",
   "metadata": {
    "interpreter": {
     "hash": "64705722d42f224bd33248ac4d89ee0cc4919d550576e75df27cbc314ff16140"
    }
   }
  }
 },
 "nbformat": 4,
 "nbformat_minor": 2,
 "cells": [
  {
   "source": [
    "# LOGARITHMS\n",
    "\n",
    "In mathematics, the logarithm is the inverse function to exponentiation. That means the logarithm of a given number $x$ is the exponent to which another fixed number, the base $b$, must be raised, to produce that number $x$:\n",
    "\n",
    "$\n",
    "\\large b^{x} = y\n",
    "$\n",
    "\n",
    "Generally, exponentiation allows any positive real number as base to be raised to any real power, always producing a positive result, so $\\log_{b}(x)$ for any two positive real numbers $b$ and $x$, where $b$ is not equal to $1$, is always a unique real number $y$.\n",
    "\n",
    "More explicitly, the defining relation between exponentiation and logarithm is:\n",
    "\n",
    "$\\large \\log_{b}(x) = y$ exactly if $\\large b^{y} = x$ and $\\large x > 0$ and $\\large b > 0$ and $\\large b \\ne 1$.\n",
    "\n",
    "Among all choices for the base, three are particularly common. Those are $b = 10$, $b = e$ (the irrational mathematical constant $\\approx 2.718281828459$), and $b = 2$ (the binary logarithm):\n",
    "\n",
    "![Graphs of several logarithms](images\\logarithms.png \"Graphs of several logarithms\")\n",
    "\n",
    "Logarithms are useful for solving equations in which the unknown appears as the exponent of some other quantity. For example, logarithms are used to solve for the half-life, decay constant, or unknown time in exponential decay problems. They are important in many branches of mathematics and scientific disciplines, and are used in finance to solve problems involving compound interest."
   ],
   "cell_type": "markdown",
   "metadata": {}
  },
  {
   "source": [
    "# Notation\n",
    "---\n",
    "\n",
    "There is the exponential form, and there is the logarithmic form, and both forms capture the same idea, which is the relationship between three numbers: a base, an exponent, and the result value.\n",
    "\n",
    "In the simplest case, the logarithm counts the number of occurrences of the same factor in repeated multiplication. Since $1000 = 10 × 10 × 10 = 10^{3}$, the \"logarithm base $10$ of $1000$\" is $3$, or $\\log_{10}(1000) = 3$.\n",
    "\n",
    "The logarithm of $x$ to base $b$ is denoted as $\\log_{b}(x)$, or without parentheses, $\\log_{b} x$, or even without the explicit base, $\\log_{} x$, when no confusion is possible, or when the base does not matter, such as in big $O$ notation.\n",
    "\n",
    "<br>\n",
    "\n",
    "## Examples\n",
    "\n",
    "Considering a base $b$ with a value of $2$, and an exponent $x$ with a value of $4$, and $16$ as the result value, the following logarithmic and exponential notations are equivalent:\n",
    "\n",
    "$\\large \\log_2{(16)} = 4$, since $\\large 2^{4} = 2 \\cdot 2 \\cdot 2 \\cdot 2 = 16$"
   ],
   "cell_type": "markdown",
   "metadata": {}
  },
  {
   "cell_type": "code",
   "execution_count": 5,
   "metadata": {
    "tags": []
   },
   "outputs": [
    {
     "output_type": "stream",
     "name": "stdout",
     "text": "16\n4.0\n"
    }
   ],
   "source": [
    "import math\n",
    "\n",
    "# 2 to the power of 4 is 16\n",
    "print(pow(2, 4))\n",
    "\n",
    "# The base-2 logarithm of 16 is 4.0\n",
    "# log2(x) is usually more accurate than log(16, 2)\n",
    "print(math.log2(16))"
   ]
  },
  {
   "source": [
    "# Logs of One\n",
    "---\n",
    "\n",
    "When raising any number to the power of $0$, the result is $1$. For example, $2^{0} = 1$, $10^{0} = 1$, and $20^{0} = 1$, when expressed in exponential form.\n",
    "\n",
    "Similarly, the $\\log$ to any base of $1$ is equal to $0$.\n",
    "\n",
    "<br>\n",
    "\n",
    "## Examples\n",
    "\n",
    "$\n",
    "\\large\n",
    "\\log_{2}(1) = 0\n",
    "$\n",
    "\n",
    "$\n",
    "\\large\n",
    "\\log_{10}(1) = 0\n",
    "$\n",
    "\n",
    "$\n",
    "\\large\n",
    "\\log_{\\rm{e}}(1) = 0\n",
    "$"
   ],
   "cell_type": "markdown",
   "metadata": {}
  },
  {
   "cell_type": "code",
   "execution_count": 7,
   "metadata": {},
   "outputs": [
    {
     "output_type": "execute_result",
     "data": {
      "text/plain": "True"
     },
     "metadata": {},
     "execution_count": 7
    }
   ],
   "source": [
    "import math\n",
    "\n",
    "math.log(1, 2) == math.log(1, 10) == math.log(1, math.e) == 0"
   ]
  },
  {
   "source": [
    "# Product Rule\n",
    "---\n",
    "\n",
    "The product rule states that any $\\log$, of any base $b$, that is $\\log(x \\cdot y)$, is equal to $\\log(x) + \\log(y)$. That is, the logarithm of a product is the sum of the logarithms of the factors:\n",
    "\n",
    "$\n",
    "\\Large\n",
    "\\log_{b}(xy) = \\log_{b}(x) + \\log_{b}(y)\n",
    "$\n",
    "\n",
    "<br>\n",
    "\n",
    "## Examples\n",
    "\n",
    "$\\large \\log(35) = \\log(7) + \\log(5) = 3.5553480614894135$\n",
    "\n",
    "$\\large \\log(2 \\cdot 3) = \\log(2) + \\log(3) = \\log(2) - \\log\\left(\\frac{1}{3}\\right) = 1.791759469228055$"
   ],
   "cell_type": "markdown",
   "metadata": {}
  },
  {
   "source": [
    "import math\n",
    "\n",
    "math.log(35) == math.log(7) + math.log(5) == 3.5553480614894135"
   ],
   "cell_type": "code",
   "metadata": {},
   "execution_count": 1,
   "outputs": [
    {
     "output_type": "execute_result",
     "data": {
      "text/plain": "True"
     },
     "metadata": {},
     "execution_count": 1
    }
   ]
  },
  {
   "source": [
    "# Quotient Rule\n",
    "---\n",
    "\n",
    "The quotient rule states that a $\\log$ that contains a fraction is equal to that fraction numerator minus its denominator:\n",
    "\n",
    "$\n",
    "\\Large\n",
    "\\log\\left(\\frac{x}{y}\\right) = log(x) - log(y)\n",
    "$\n",
    "\n",
    "<br>\n",
    "\n",
    "## Examples\n",
    "\n",
    "$\\large \\log\\left(\\frac{64}{2}\\right) = log(64) - log(2) = 3.4657359027997265$\n",
    "\n",
    "$\\large \\log_{b}(35) = \\log_{b}(70) - \\log_{b}(2) = 3.5553480614894135$"
   ],
   "cell_type": "markdown",
   "metadata": {}
  },
  {
   "cell_type": "code",
   "execution_count": 3,
   "metadata": {},
   "outputs": [
    {
     "output_type": "execute_result",
     "data": {
      "text/plain": "True"
     },
     "metadata": {},
     "execution_count": 3
    }
   ],
   "source": [
    "import math\n",
    "\n",
    "round(math.log(64/2), 14) == round(math.log(64) - math.log(2), 14) == 3.46573590279973"
   ]
  },
  {
   "source": [
    "# Power And Root Rule\n",
    "---\n",
    "\n",
    "The power and root rule states that when we have a log with a number raised to a power, we multiply the exponent by the log number value. This rule works when $n$ is positive or negative, an integer or a fraction:\n",
    "\n",
    "$\n",
    "\\Large \\log(x^{n}) = n \\cdot log(x)\n",
    "$\n",
    "\n",
    "<br>\n",
    "\n",
    "## Examples\n",
    "\n",
    "$\\large \\log{(2)^{3}} = 3 \\cdot \\log{(2)} = 2.0794415416798357$\n",
    "\n",
    "$\\large \\log\\left(\\sqrt{x}\\right) = \\frac{1}{2}\\log(x) = 0.3465735902799727$\n",
    "\n",
    "<br>\n",
    "\n",
    "Another technique to solve a problem is to treat both sides of an equation as if they were exponents:\n",
    "\n",
    "$\\large \\log_{2}\\left(\\frac{39x}{x - 5}\\right) = 4$\n",
    "\n",
    "$\\large 2^\\left(\\frac{39x}{x - 5}\\right) = 2^{4}$\n",
    "\n",
    "$\\large \\frac{39x}{x - 5} = 16$\n",
    "\n",
    "$\\large 39x = 16x - 80$\n",
    "\n",
    "$\\large 23x = -80$\n",
    "\n",
    "$\\large x = \\Large \\frac{-80}{23}$"
   ],
   "cell_type": "markdown",
   "metadata": {}
  },
  {
   "cell_type": "code",
   "execution_count": 4,
   "metadata": {},
   "outputs": [
    {
     "output_type": "execute_result",
     "data": {
      "text/plain": "True"
     },
     "metadata": {},
     "execution_count": 4
    }
   ],
   "source": [
    "import math\n",
    "\n",
    "round(math.log(math.sqrt(2)), 15) == round(1/2 * math.log(2), 15) == 0.346573590279973"
   ]
  },
  {
   "source": [
    "# Change The Base\n",
    "---\n",
    "\n",
    "There is a simple formula to change a $\\log$ base. In the following example, the \"old\" base is $x$, and the \"new\" base is $a$:\n",
    "\n",
    "$\\Large \\log_{a}(b) = \\LARGE \\frac{\\log_{x}(b)}{\\log_{x}(a)}$\n",
    "\n",
    "<br>\n",
    "\n",
    "## Examples\n",
    "\n",
    "TBD"
   ],
   "cell_type": "markdown",
   "metadata": {}
  },
  {
   "cell_type": "code",
   "execution_count": 51,
   "metadata": {
    "tags": []
   },
   "outputs": [
    {
     "output_type": "execute_result",
     "data": {
      "text/plain": "True"
     },
     "metadata": {},
     "execution_count": 51
    }
   ],
   "source": [
    "import math\n",
    "import random\n",
    "\n",
    "old_base = 2\n",
    "new_base = 4\n",
    "log_value = random.random()\n",
    "\n",
    "math.log(log_value, new_base) == math.log(log_value, old_base) / math.log(new_base, old_base)"
   ]
  }
 ]
}