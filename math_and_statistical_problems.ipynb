{
 "metadata": {
  "language_info": {
   "codemirror_mode": {
    "name": "ipython",
    "version": 3
   },
   "file_extension": ".py",
   "mimetype": "text/x-python",
   "name": "python",
   "nbconvert_exporter": "python",
   "pygments_lexer": "ipython3",
   "version": 3
  },
  "orig_nbformat": 2
 },
 "nbformat": 4,
 "nbformat_minor": 2,
 "cells": [
  {
   "source": [
    "# MATH & STATISTICS PROBLEMS"
   ],
   "cell_type": "markdown",
   "metadata": {}
  },
  {
   "source": [
    "### Sources:\n",
    "\n",
    "* https://pencilprogrammer.com/algorithms/subset-sum-backtracking/\n",
    "* https://www.theknowledgeroundtable.com/tutorials/probability-of-drawing-a-full-house/"
   ],
   "cell_type": "markdown",
   "metadata": {}
  },
  {
   "source": [
    "# Probability of Drawing a Full House\n",
    "---\n",
    "\n",
    "## Problem\n",
    "\n",
    "We are going to randomly select 5 cards from a standard deck of 52 playing cards. We will find the probability of drawing a full house. First let us define a full house. A full house is a combination of a three of a kind and a pair. Ex: Three aces with two kings: A A A K K.\n",
    "\n",
    "Find the probability of drawing a full house from a 52 card deck.\n",
    "\n",
    "## Solution\n",
    "\n",
    "First we will assume we are drawing cards randomly from a well shuffled deck of cards.\n",
    "\n",
    "To solve this, we will need to rely on counting methods. We will also need to find the size of our sample space (all possible 5 card hands) and our event of interest (all possible full houses)\n",
    "\n",
    "Let the event A be all possible full houses and S be our sample space.\n",
    "Let’s find S first. S is all possible 5 card hands. So it is simply 52 choose 5. Or 52! / 5! * (52-5)! = 52! / 5! * 47!\n",
    "\n",
    "We use the combination counting method since we don’t care about the order in which we select the cards. The permutation method does account for order.\n",
    "\n",
    "Now find A. This is a little more tricky. Now there are 13 different kinds of cards: 2,3,4,5,6,7,8,9,10,J,Q,K,A. And each kind has 4 suits. To find a full house, we will select the three of a kind first. There are 13 kinds of cards to choose from, so we have 13 choose 1 ways of doing so or simply, 13. We choose one of the 13, like 7 for example.\n",
    "\n",
    "Now, there are 4 different 7’s. So we need to count the ways we can select three of the four 7’s. This would be 4 choose 3. Four 7’s and three ways of selecting them. Now let’s find the pair. There are 12 kinds of cards left to choose from since we selected a kind of card for the three of a kind. There are then 12 choose 1 ways of doing this, suppose we choose the 8.\n",
    "\n",
    "Now find the number of ways to have a pair of 8’s. This would be 4 choose 2. Four 8’s and choose two of them. We now have the parts necessary for the event A.\n",
    "\n",
    "By the m,n rule, we multiply the results:\n",
    "\n",
    "(13 choose 1) * (4 choose 3) * (12 choose 1) * (4 choose 2) = 13 * 4 * 12 * 6\n",
    "\n",
    "To find the probability we divide this by S:\n",
    "\n",
    "13 * 4 * 12 * 6 / (52 choose 5) = .0014 or .14%"
   ],
   "cell_type": "markdown",
   "metadata": {}
  },
  {
   "source": [
    "# Conditional Probability Example\n",
    "---\n",
    "\n",
    "## Problem\n",
    "\n",
    "If it rains, I do not go sailing. It rains 10% of days. I go sailing 3% of days.\n",
    "\n",
    "What is the (conditional) probability that I go sailing, if it does not rain?\n",
    "\n",
    "## Solution\n",
    "\n",
    "$\\large P(A | B) = \\dfrac{P(A \\cap B)}{P(B)} = \\dfrac{0.03 * 0.9}{0.9} = 0.03 = 3\\%$"
   ],
   "cell_type": "markdown",
   "metadata": {}
  }
 ]
}