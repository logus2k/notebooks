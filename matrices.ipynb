{
 "metadata": {
  "language_info": {
   "codemirror_mode": {
    "name": "ipython",
    "version": 3
   },
   "file_extension": ".py",
   "mimetype": "text/x-python",
   "name": "python",
   "nbconvert_exporter": "python",
   "pygments_lexer": "ipython3",
   "version": "3.8.5-final"
  },
  "orig_nbformat": 2,
  "kernelspec": {
   "name": "python3",
   "display_name": "Python 3.8.5 64-bit ('NOTB')",
   "metadata": {
    "interpreter": {
     "hash": "64705722d42f224bd33248ac4d89ee0cc4919d550576e75df27cbc314ff16140"
    }
   }
  }
 },
 "nbformat": 4,
 "nbformat_minor": 2,
 "cells": [
  {
   "source": [
    "# MATRICES"
   ],
   "cell_type": "markdown",
   "metadata": {}
  },
  {
   "source": [
    "# The Matrix Alphabet\n",
    "---\n",
    "\n",
    "$\\large A$ Any Matrix\n",
    "\n",
    "$\\large C$ Circulant Matrix\n",
    "\n",
    "$\\large C$ Matrix of Columns\n",
    "\n",
    "$\\large D$ Diagonal Matrix\n",
    "\n",
    "$\\large F$ Fourier Matrix\n",
    "\n",
    "$\\large I$ Identity Matrix\n",
    "\n",
    "$\\large L$ LowerTriangular Matrix\n",
    "\n",
    "$\\large L$ Laplacian Matrix\n",
    "\n",
    "$\\large M$ Mixing Matrix\n",
    "\n",
    "$\\large M$ Markov Matrix\n",
    "\n",
    "$\\large P$ Probability Matrix\n",
    "\n",
    "$\\large P$ Projection Matrix\n",
    "\n",
    "$\\large Q$ Orthogonal Matrix\n",
    "\n",
    "$\\large R$ Upper Triangular Matrix\n",
    "\n",
    "$\\large R$ Matrix of Rows\n",
    "\n",
    "$\\large S$ Symmetric Matrix\n",
    "\n",
    "$\\large S$ Sample Covariance Matrix\n",
    "\n",
    "$\\large T$ Tensor\n",
    "\n",
    "$\\large U$ Upper Triangular Matrix\n",
    "\n",
    "$\\large U$ Left Singular Vectors\n",
    "\n",
    "$\\large V$ Right Singular Vectors\n",
    "\n",
    "$\\large X$ Eigenvector Matrix\n",
    "\n",
    "$\\large \\Lambda$ Eigenvalue Matrix\n",
    "\n",
    "$\\sum$ Singular Value Matrix"
   ],
   "cell_type": "markdown",
   "metadata": {}
  }
 ]
}