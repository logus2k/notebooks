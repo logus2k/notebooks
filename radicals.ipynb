{
 "metadata": {
  "language_info": {
   "codemirror_mode": {
    "name": "ipython",
    "version": 3
   },
   "file_extension": ".py",
   "mimetype": "text/x-python",
   "name": "python",
   "nbconvert_exporter": "python",
   "pygments_lexer": "ipython3",
   "version": "3.8.5-final"
  },
  "orig_nbformat": 2,
  "kernelspec": {
   "name": "python3",
   "display_name": "Python 3.8.5 64-bit ('NOTB')",
   "metadata": {
    "interpreter": {
     "hash": "64705722d42f224bd33248ac4d89ee0cc4919d550576e75df27cbc314ff16140"
    }
   }
  }
 },
 "nbformat": 4,
 "nbformat_minor": 2,
 "cells": [
  {
   "source": [
    "# RADICALS"
   ],
   "cell_type": "markdown",
   "metadata": {}
  },
  {
   "source": [
    "# TBD\n",
    "---\n",
    "\n",
    "## Formula\n",
    "\n",
    "$\\Large TBD$\n",
    "\n",
    "TBD\n",
    "\n",
    "<br>\n",
    "\n",
    "## Examples\n",
    "\n",
    "TBD"
   ],
   "cell_type": "markdown",
   "metadata": {}
  }
 ]
}