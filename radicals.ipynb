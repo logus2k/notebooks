{
 "metadata": {
  "language_info": {
   "codemirror_mode": {
    "name": "ipython",
    "version": 3
   },
   "file_extension": ".py",
   "mimetype": "text/x-python",
   "name": "python",
   "nbconvert_exporter": "python",
   "pygments_lexer": "ipython3",
   "version": 3
  },
  "orig_nbformat": 2
 },
 "nbformat": 4,
 "nbformat_minor": 2,
 "cells": [
  {
   "source": [
    "# RADICALS"
   ],
   "cell_type": "markdown",
   "metadata": {}
  },
  {
   "source": [
    "# Bayes' Theorem\n",
    "---\n",
    "\n",
    "## Formula\n",
    "\n",
    "$\\Large P(A \\mid B) = \\dfrac{P(B \\mid A) \\, \\cdot \\, P(A)}{P(B)}$\n",
    "\n",
    "In probability theory and statistics, Bayes's theorem, named after Reverend Thomas Bayes (also known as \"Bayes's law\" or \"Bayes's rule\"), describes the probability of an event, based on prior knowledge of conditions that might be related to that event.\n",
    "\n",
    "Bayes's theorem is stated mathematically in a equation, where $A$ and $B$ are events and $P(B) \\neq 0$:\n",
    "\n",
    "* $P(A \\mid B)$ is a conditional probability: the likelihood of event $A$ occurring given that $B$ is true.\n",
    "* $P(B \\mid A)$ is also a conditional probability: the likelihood of event $B$ occurring given that $A$ is true.\n",
    "* $P(A)$ and $P(B)$ are the probabilities of observing $A$ and $B$ respectively. They are known as the marginal probability.\n",
    "\n",
    "One of the many applications of Bayes's theorem is Bayesian inference, a particular approach to statistical inference. When applied, the probabilities involved in Bayes's theorem may have different probability interpretations. With Bayesian probability interpretation, the theorem expresses how a degree of belief, expressed as a probability, should rationally change to account for the availability of related evidence. Bayesian inference is fundamental to Bayesian statistics.\n",
    "\n",
    "<br>\n",
    "\n",
    "## Examples\n",
    "\n",
    "If the risk of developing health problems is known to increase with age, Bayes's theorem allows the risk to an individual of a known age to be assessed more accurately (by conditioning it on his age) than simply assuming that the individual is typical of the population as a whole."
   ],
   "cell_type": "markdown",
   "metadata": {}
  }
 ]
}